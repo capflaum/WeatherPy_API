{
 "cells": [
  {
   "cell_type": "markdown",
   "metadata": {},
   "source": [
    "# WeatherPy\n",
    "----\n",
    "\n",
    "#### Note\n",
    "* Instructions have been included for each segment. You do not have to follow them exactly, but they are included to help you think through the steps."
   ]
  },
  {
   "cell_type": "code",
   "execution_count": 2,
   "metadata": {},
   "outputs": [
    {
     "name": "stdout",
     "output_type": "stream",
     "text": [
      "Requirement already satisfied: citipy in c:\\users\\capfl\\anaconda3\\lib\\site-packages (0.0.5)\n",
      "Requirement already satisfied: kdtree>=0.12 in c:\\users\\capfl\\anaconda3\\lib\\site-packages (from citipy) (0.16)\n",
      "Note: you may need to restart the kernel to use updated packages.\n"
     ]
    }
   ],
   "source": [
    "pip install citipy"
   ]
  },
  {
   "cell_type": "code",
   "execution_count": 32,
   "metadata": {},
   "outputs": [],
   "source": [
    "import json\n",
    "import matplotlib.pyplot as plt\n",
    "import pandas as pd\n",
    "import numpy as np\n",
    "import requests\n",
    "from scipy.stats import linregress\n",
    "\n",
    "from api_keys import weather_api_key \n",
    "from citipy import citipy"
   ]
  },
  {
   "cell_type": "code",
   "execution_count": 33,
   "metadata": {},
   "outputs": [],
   "source": [
    "output_data_file = \"output_data/cities.csv\""
   ]
  },
  {
   "cell_type": "code",
   "execution_count": 28,
   "metadata": {},
   "outputs": [],
   "source": [
    "#base_url = \"http://api.openweathermap.org/data/2.5/weather?\"\n",
    "#units = \"imperial\""
   ]
  },
  {
   "cell_type": "code",
   "execution_count": 25,
   "metadata": {
    "collapsed": true
   },
   "outputs": [],
   "source": [
    "#city_data = pd.read_csv(\"../output_data/cities.csv\")\n",
    "#city_data.head()"
   ]
  },
  {
   "cell_type": "markdown",
   "metadata": {},
   "source": [
    "## Generate Cities List"
   ]
  },
  {
   "cell_type": "code",
   "execution_count": 37,
   "metadata": {},
   "outputs": [],
   "source": [
    "#setup lists for loop\n",
    "coordinates = []\n",
    "city_list = []\n",
    "\n",
    "#find 500+ cities\n",
    "lats = np.random.uniform(low=-90.000, high=90.000, size=1300)\n",
    "lngs = np.random.uniform(low=-180.000, high=180.000, size=1300)\n",
    "coordinates = zip(lats, lngs)\n",
    "\n",
    "#loop through citipy\n",
    "for coordinates in coordinates:\n",
    "    rand_city = citipy.nearest_city(coordinates[0], coordinates[1]).city_name\n",
    "\n",
    "    if rand_city not in city_list:\n",
    "        city_list.append(rand_city)"
   ]
  },
  {
   "cell_type": "code",
   "execution_count": 38,
   "metadata": {},
   "outputs": [
    {
     "data": {
      "text/plain": [
       "'guerrero negro'"
      ]
     },
     "execution_count": 38,
     "metadata": {},
     "output_type": "execute_result"
    }
   ],
   "source": [
    "rand_city"
   ]
  },
  {
   "cell_type": "code",
   "execution_count": 39,
   "metadata": {},
   "outputs": [
    {
     "data": {
      "text/plain": [
       "574"
      ]
     },
     "execution_count": 39,
     "metadata": {},
     "output_type": "execute_result"
    }
   ],
   "source": [
    "len(city_list)"
   ]
  },
  {
   "cell_type": "markdown",
   "metadata": {},
   "source": [
    "### Perform API Calls\n",
    "* Perform a weather check on each city using a series of successive API calls.\n",
    "* Include a print log of each city as it'sbeing processed (with the city number and city name).\n"
   ]
  },
  {
   "cell_type": "code",
   "execution_count": 40,
   "metadata": {},
   "outputs": [],
   "source": [
    "#city_data.columns"
   ]
  },
  {
   "cell_type": "code",
   "execution_count": 41,
   "metadata": {},
   "outputs": [],
   "source": [
    "city_name= []\n",
    "cloudiness = []\n",
    "country = []\n",
    "date = []\n",
    "humidity = []\n",
    "lat = []\n",
    "lng = []\n",
    "max_temp = []\n",
    "wind_speed = []"
   ]
  },
  {
   "cell_type": "code",
   "execution_count": 42,
   "metadata": {},
   "outputs": [
    {
     "name": "stdout",
     "output_type": "stream",
     "text": [
      "Beginning Data Retrieval\n",
      "------------------------\n",
      "Processing Record 1 of Set 1 | albany\n",
      "Processing Record 2 of Set 1 | tarko-sale\n",
      "Processing Record 3 of Set 1 | hithadhoo\n",
      "Processing Record 4 of Set 1 | rikitea\n",
      "Processing Record 5 of Set 1 | san antero\n",
      "Processing Record 6 of Set 1 | new norfolk\n",
      "Processing Record 7 of Set 1 | alyangula\n",
      "Processing Record 8 of Set 1 | jiddah\n",
      "City not found. Skipping...\n",
      "Processing Record 9 of Set 1 | qaanaaq\n",
      "Processing Record 10 of Set 1 | castro\n",
      "Processing Record 11 of Set 1 | olinda\n",
      "Processing Record 12 of Set 1 | kirovskiy\n",
      "Processing Record 13 of Set 1 | abnub\n",
      "Processing Record 14 of Set 1 | attawapiskat\n",
      "City not found. Skipping...\n",
      "Processing Record 15 of Set 1 | lebu\n",
      "Processing Record 16 of Set 1 | kodiak\n",
      "Processing Record 17 of Set 1 | faanui\n",
      "Processing Record 18 of Set 1 | olavarria\n",
      "Processing Record 19 of Set 1 | nikolskoye\n",
      "Processing Record 20 of Set 1 | punta arenas\n",
      "Processing Record 21 of Set 1 | amderma\n",
      "City not found. Skipping...\n",
      "Processing Record 22 of Set 1 | avarua\n",
      "Processing Record 23 of Set 1 | makakilo city\n",
      "Processing Record 24 of Set 1 | alofi\n",
      "Processing Record 25 of Set 1 | san patricio\n",
      "Processing Record 26 of Set 1 | mount isa\n",
      "Processing Record 27 of Set 1 | chitrakonda\n",
      "Processing Record 28 of Set 1 | ancud\n",
      "Processing Record 29 of Set 1 | hermanus\n",
      "Processing Record 30 of Set 1 | chongwe\n",
      "Processing Record 31 of Set 1 | bluff\n",
      "Processing Record 32 of Set 1 | carnarvon\n",
      "Processing Record 33 of Set 1 | nanortalik\n",
      "Processing Record 34 of Set 1 | kemijarvi\n",
      "Processing Record 35 of Set 1 | wasco\n",
      "Processing Record 36 of Set 1 | jamestown\n",
      "Processing Record 37 of Set 1 | corinto\n",
      "Processing Record 38 of Set 1 | shreveport\n",
      "Processing Record 39 of Set 1 | lagoa\n",
      "Processing Record 40 of Set 1 | alto baudo\n",
      "City not found. Skipping...\n",
      "Processing Record 41 of Set 1 | yellowknife\n",
      "Processing Record 42 of Set 1 | kamarion\n",
      "Processing Record 43 of Set 1 | tasiilaq\n",
      "Processing Record 44 of Set 1 | rocha\n",
      "Processing Record 45 of Set 1 | barrow\n",
      "Processing Record 46 of Set 1 | tubalan\n",
      "Processing Record 47 of Set 1 | ushuaia\n",
      "Processing Record 48 of Set 1 | bambous virieux\n",
      "Processing Record 49 of Set 1 | tromso\n",
      "Processing Record 50 of Set 1 | saleaula\n",
      "City not found. Skipping...\n",
      "Processing Record 1 of Set 2 | adrar\n",
      "Processing Record 2 of Set 2 | port alfred\n",
      "Processing Record 3 of Set 2 | tura\n",
      "Processing Record 4 of Set 2 | zhuanghe\n",
      "Processing Record 5 of Set 2 | lipin bor\n",
      "Processing Record 6 of Set 2 | saint-paul\n",
      "Processing Record 7 of Set 2 | ballina\n",
      "Processing Record 8 of Set 2 | chicaman\n",
      "Processing Record 9 of Set 2 | hasaki\n",
      "Processing Record 10 of Set 2 | phan rang\n",
      "City not found. Skipping...\n",
      "Processing Record 11 of Set 2 | vila velha\n",
      "Processing Record 12 of Set 2 | tiksi\n",
      "Processing Record 13 of Set 2 | beeville\n",
      "Processing Record 14 of Set 2 | upernavik\n",
      "Processing Record 15 of Set 2 | vaini\n",
      "Processing Record 16 of Set 2 | san quintin\n",
      "Processing Record 17 of Set 2 | mataura\n",
      "Processing Record 18 of Set 2 | bozoum\n",
      "Processing Record 19 of Set 2 | neiafu\n",
      "Processing Record 20 of Set 2 | luderitz\n",
      "Processing Record 21 of Set 2 | umzimvubu\n",
      "City not found. Skipping...\n",
      "Processing Record 22 of Set 2 | arlit\n",
      "Processing Record 23 of Set 2 | bandar-e lengeh\n",
      "Processing Record 24 of Set 2 | kitui\n",
      "Processing Record 25 of Set 2 | ha tinh\n",
      "Processing Record 26 of Set 2 | busselton\n",
      "Processing Record 27 of Set 2 | gao\n",
      "Processing Record 28 of Set 2 | barentsburg\n",
      "City not found. Skipping...\n",
      "Processing Record 29 of Set 2 | novyy urengoy\n",
      "Processing Record 30 of Set 2 | lenoir city\n",
      "Processing Record 31 of Set 2 | hambantota\n",
      "Processing Record 32 of Set 2 | shingu\n",
      "Processing Record 33 of Set 2 | dingle\n",
      "Processing Record 34 of Set 2 | kidal\n",
      "Processing Record 35 of Set 2 | jieshi\n",
      "Processing Record 36 of Set 2 | canutama\n",
      "Processing Record 37 of Set 2 | pisco\n",
      "Processing Record 38 of Set 2 | bayan\n",
      "Processing Record 39 of Set 2 | piacabucu\n",
      "Processing Record 40 of Set 2 | blairmore\n",
      "Processing Record 41 of Set 2 | hilo\n",
      "Processing Record 42 of Set 2 | ahipara\n",
      "Processing Record 43 of Set 2 | cape town\n",
      "Processing Record 44 of Set 2 | launceston\n",
      "Processing Record 45 of Set 2 | sopetran\n",
      "Processing Record 46 of Set 2 | saint-philippe\n",
      "Processing Record 47 of Set 2 | alice springs\n",
      "Processing Record 48 of Set 2 | tuktoyaktuk\n",
      "Processing Record 49 of Set 2 | samarinda\n",
      "Processing Record 50 of Set 2 | katsuura\n",
      "Processing Record 1 of Set 3 | stokmarknes\n",
      "Processing Record 2 of Set 3 | wanganui\n",
      "Processing Record 3 of Set 3 | bowen\n",
      "Processing Record 4 of Set 3 | sirjan\n",
      "Processing Record 5 of Set 3 | pevek\n",
      "Processing Record 6 of Set 3 | coihaique\n",
      "Processing Record 7 of Set 3 | yumen\n",
      "Processing Record 8 of Set 3 | samagaltay\n",
      "Processing Record 9 of Set 3 | piritiba\n",
      "Processing Record 10 of Set 3 | portland\n",
      "Processing Record 11 of Set 3 | conde\n",
      "Processing Record 12 of Set 3 | pangnirtung\n",
      "Processing Record 13 of Set 3 | codrington\n",
      "Processing Record 14 of Set 3 | wangqing\n",
      "Processing Record 15 of Set 3 | gat\n",
      "Processing Record 16 of Set 3 | maues\n",
      "Processing Record 17 of Set 3 | chagda\n",
      "City not found. Skipping...\n",
      "Processing Record 18 of Set 3 | corinth\n",
      "Processing Record 19 of Set 3 | avera\n",
      "Processing Record 20 of Set 3 | morro bay\n",
      "Processing Record 21 of Set 3 | methven\n",
      "Processing Record 22 of Set 3 | camopi\n",
      "Processing Record 23 of Set 3 | puerto ayora\n",
      "Processing Record 24 of Set 3 | taolanaro\n",
      "City not found. Skipping...\n",
      "Processing Record 25 of Set 3 | kapaa\n",
      "Processing Record 26 of Set 3 | geraldton\n",
      "Processing Record 27 of Set 3 | barabai\n",
      "Processing Record 28 of Set 3 | atuona\n",
      "Processing Record 29 of Set 3 | kilindoni\n",
      "Processing Record 30 of Set 3 | pacific grove\n",
      "Processing Record 31 of Set 3 | butaritari\n",
      "Processing Record 32 of Set 3 | araouane\n",
      "Processing Record 33 of Set 3 | sitka\n",
      "Processing Record 34 of Set 3 | viedma\n",
      "Processing Record 35 of Set 3 | hualmay\n",
      "Processing Record 36 of Set 3 | longyearbyen\n",
      "Processing Record 37 of Set 3 | caravelas\n",
      "Processing Record 38 of Set 3 | mahebourg\n",
      "Processing Record 39 of Set 3 | severo-kurilsk\n",
      "Processing Record 40 of Set 3 | cherskiy\n",
      "Processing Record 41 of Set 3 | taoudenni\n",
      "Processing Record 42 of Set 3 | palabuhanratu\n",
      "City not found. Skipping...\n",
      "Processing Record 43 of Set 3 | chuy\n",
      "Processing Record 44 of Set 3 | ambilobe\n",
      "Processing Record 45 of Set 3 | mar del plata\n",
      "Processing Record 46 of Set 3 | touros\n",
      "Processing Record 47 of Set 3 | nola\n",
      "Processing Record 48 of Set 3 | provost\n",
      "Processing Record 49 of Set 3 | lolua\n",
      "City not found. Skipping...\n",
      "Processing Record 50 of Set 3 | kostomuksha\n",
      "Processing Record 1 of Set 4 | verkhnyaya inta\n",
      "Processing Record 2 of Set 4 | ranong\n",
      "Processing Record 3 of Set 4 | chapleau\n",
      "Processing Record 4 of Set 4 | lodja\n",
      "Processing Record 5 of Set 4 | vila franca do campo\n",
      "Processing Record 6 of Set 4 | karratha\n",
      "Processing Record 7 of Set 4 | ulladulla\n",
      "Processing Record 8 of Set 4 | port elizabeth\n",
      "Processing Record 9 of Set 4 | bulawayo\n",
      "Processing Record 10 of Set 4 | dikson\n",
      "Processing Record 11 of Set 4 | la paz\n",
      "Processing Record 12 of Set 4 | tyler\n",
      "Processing Record 13 of Set 4 | van\n",
      "Processing Record 14 of Set 4 | karauzyak\n",
      "City not found. Skipping...\n",
      "Processing Record 15 of Set 4 | talnakh\n",
      "Processing Record 16 of Set 4 | saskylakh\n",
      "Processing Record 17 of Set 4 | pathardi\n",
      "Processing Record 18 of Set 4 | cap malheureux\n",
      "Processing Record 19 of Set 4 | santa vitoria\n",
      "Processing Record 20 of Set 4 | dunedin\n",
      "Processing Record 21 of Set 4 | magalia\n",
      "Processing Record 22 of Set 4 | illoqqortoormiut\n",
      "City not found. Skipping...\n",
      "Processing Record 23 of Set 4 | riyadh\n",
      "Processing Record 24 of Set 4 | flin flon\n",
      "Processing Record 25 of Set 4 | tuatapere\n",
      "Processing Record 26 of Set 4 | victoria\n",
      "Processing Record 27 of Set 4 | filadelfia\n",
      "Processing Record 28 of Set 4 | kavieng\n",
      "Processing Record 29 of Set 4 | bilma\n",
      "Processing Record 30 of Set 4 | kobyzhcha\n",
      "Processing Record 31 of Set 4 | tessalit\n",
      "Processing Record 32 of Set 4 | manggar\n",
      "Processing Record 33 of Set 4 | puerto del rosario\n",
      "Processing Record 34 of Set 4 | katherine\n",
      "Processing Record 35 of Set 4 | praia\n",
      "Processing Record 36 of Set 4 | mizan teferi\n",
      "Processing Record 37 of Set 4 | gigmoto\n",
      "Processing Record 38 of Set 4 | mogadishu\n",
      "Processing Record 39 of Set 4 | kells\n",
      "Processing Record 40 of Set 4 | misratah\n"
     ]
    },
    {
     "name": "stdout",
     "output_type": "stream",
     "text": [
      "Processing Record 41 of Set 4 | challapata\n",
      "Processing Record 42 of Set 4 | banff\n",
      "Processing Record 43 of Set 4 | darhan\n",
      "Processing Record 44 of Set 4 | fortuna\n",
      "Processing Record 45 of Set 4 | mys shmidta\n",
      "City not found. Skipping...\n",
      "Processing Record 46 of Set 4 | wa\n",
      "City not found. Skipping...\n",
      "Processing Record 47 of Set 4 | havoysund\n",
      "Processing Record 48 of Set 4 | hit\n",
      "Processing Record 49 of Set 4 | kontagora\n",
      "Processing Record 50 of Set 4 | sertanopolis\n",
      "Processing Record 1 of Set 5 | shiyan\n",
      "Processing Record 2 of Set 5 | cumanayagua\n",
      "Processing Record 3 of Set 5 | sesimbra\n",
      "Processing Record 4 of Set 5 | bredasdorp\n",
      "Processing Record 5 of Set 5 | vao\n",
      "Processing Record 6 of Set 5 | san benito\n",
      "Processing Record 7 of Set 5 | ramona\n",
      "Processing Record 8 of Set 5 | dzhida\n",
      "Processing Record 9 of Set 5 | clyde river\n",
      "Processing Record 10 of Set 5 | narsaq\n",
      "Processing Record 11 of Set 5 | waseca\n",
      "Processing Record 12 of Set 5 | oda\n",
      "Processing Record 13 of Set 5 | kanniyakumari\n",
      "Processing Record 14 of Set 5 | samusu\n",
      "City not found. Skipping...\n",
      "Processing Record 15 of Set 5 | airai\n",
      "Processing Record 16 of Set 5 | provideniya\n",
      "Processing Record 17 of Set 5 | yatou\n",
      "Processing Record 18 of Set 5 | emerald\n",
      "Processing Record 19 of Set 5 | marzuq\n",
      "Processing Record 20 of Set 5 | spring hill\n",
      "Processing Record 21 of Set 5 | khatanga\n",
      "Processing Record 22 of Set 5 | valparaiso\n",
      "Processing Record 23 of Set 5 | muli\n",
      "Processing Record 24 of Set 5 | zambezi\n",
      "Processing Record 25 of Set 5 | tsihombe\n",
      "City not found. Skipping...\n",
      "Processing Record 26 of Set 5 | xuddur\n",
      "Processing Record 27 of Set 5 | pangai\n",
      "Processing Record 28 of Set 5 | hamilton\n",
      "Processing Record 29 of Set 5 | corrente\n",
      "Processing Record 30 of Set 5 | morant bay\n",
      "Processing Record 31 of Set 5 | bemidji\n",
      "Processing Record 32 of Set 5 | solnechnyy\n",
      "Processing Record 33 of Set 5 | voh\n",
      "Processing Record 34 of Set 5 | hay river\n",
      "Processing Record 35 of Set 5 | belushya guba\n",
      "City not found. Skipping...\n",
      "Processing Record 36 of Set 5 | okhotsk\n",
      "Processing Record 37 of Set 5 | thompson\n",
      "Processing Record 38 of Set 5 | man\n",
      "Processing Record 39 of Set 5 | oistins\n",
      "Processing Record 40 of Set 5 | nosy varika\n",
      "Processing Record 41 of Set 5 | hobart\n",
      "Processing Record 42 of Set 5 | vallenar\n",
      "Processing Record 43 of Set 5 | juba\n",
      "Processing Record 44 of Set 5 | jalu\n",
      "Processing Record 45 of Set 5 | lata\n",
      "Processing Record 46 of Set 5 | umm lajj\n",
      "Processing Record 47 of Set 5 | iqaluit\n",
      "Processing Record 48 of Set 5 | tupik\n",
      "Processing Record 49 of Set 5 | erdenet\n",
      "Processing Record 50 of Set 5 | sentyabrskiy\n",
      "City not found. Skipping...\n",
      "Processing Record 1 of Set 6 | asind\n",
      "Processing Record 2 of Set 6 | ferkessedougou\n",
      "Processing Record 3 of Set 6 | tarsus\n",
      "Processing Record 4 of Set 6 | calais\n",
      "Processing Record 5 of Set 6 | laguna\n",
      "Processing Record 6 of Set 6 | kupang\n",
      "Processing Record 7 of Set 6 | liverpool\n",
      "Processing Record 8 of Set 6 | severnoye\n",
      "Processing Record 9 of Set 6 | torbay\n",
      "Processing Record 10 of Set 6 | dubuque\n",
      "Processing Record 11 of Set 6 | nangomba\n",
      "Processing Record 12 of Set 6 | esperance\n",
      "Processing Record 13 of Set 6 | diwek\n",
      "Processing Record 14 of Set 6 | satipo\n",
      "Processing Record 15 of Set 6 | durban\n",
      "Processing Record 16 of Set 6 | udachnyy\n",
      "Processing Record 17 of Set 6 | sao joao da barra\n",
      "Processing Record 18 of Set 6 | marcona\n",
      "City not found. Skipping...\n",
      "Processing Record 19 of Set 6 | pajarito\n",
      "Processing Record 20 of Set 6 | arraial do cabo\n",
      "Processing Record 21 of Set 6 | paamiut\n",
      "Processing Record 22 of Set 6 | bay roberts\n",
      "Processing Record 23 of Set 6 | oum hadjer\n",
      "Processing Record 24 of Set 6 | turbiv\n",
      "Processing Record 25 of Set 6 | georgetown\n",
      "Processing Record 26 of Set 6 | belaya gora\n",
      "Processing Record 27 of Set 6 | ponta do sol\n",
      "Processing Record 28 of Set 6 | la ronge\n",
      "Processing Record 29 of Set 6 | nizhneudinsk\n",
      "Processing Record 30 of Set 6 | alihe\n",
      "Processing Record 31 of Set 6 | east london\n",
      "Processing Record 32 of Set 6 | grindavik\n",
      "Processing Record 33 of Set 6 | duz\n",
      "City not found. Skipping...\n",
      "Processing Record 34 of Set 6 | chebsara\n",
      "Processing Record 35 of Set 6 | fairbanks\n",
      "Processing Record 36 of Set 6 | ilulissat\n",
      "Processing Record 37 of Set 6 | saldanha\n",
      "Processing Record 38 of Set 6 | norman wells\n",
      "Processing Record 39 of Set 6 | stromness\n",
      "Processing Record 40 of Set 6 | aklavik\n",
      "Processing Record 41 of Set 6 | aksu\n",
      "Processing Record 42 of Set 6 | kahului\n",
      "Processing Record 43 of Set 6 | vuktyl\n",
      "Processing Record 44 of Set 6 | souillac\n",
      "Processing Record 45 of Set 6 | kismayo\n",
      "Processing Record 46 of Set 6 | dogondoutchi\n",
      "Processing Record 47 of Set 6 | ternate\n",
      "Processing Record 48 of Set 6 | bethel\n",
      "Processing Record 49 of Set 6 | tarudant\n",
      "City not found. Skipping...\n",
      "Processing Record 50 of Set 6 | olafsvik\n",
      "Processing Record 1 of Set 7 | tecpan\n",
      "Processing Record 2 of Set 7 | olga\n",
      "Processing Record 3 of Set 7 | vaitupu\n",
      "City not found. Skipping...\n",
      "Processing Record 4 of Set 7 | kingman\n",
      "Processing Record 5 of Set 7 | domoni\n",
      "Processing Record 6 of Set 7 | chokurdakh\n",
      "Processing Record 7 of Set 7 | waingapu\n",
      "Processing Record 8 of Set 7 | huarmey\n",
      "Processing Record 9 of Set 7 | guerrero negro\n",
      "Processing Record 10 of Set 7 | tortoli\n",
      "Processing Record 11 of Set 7 | manokwari\n",
      "Processing Record 12 of Set 7 | formoso do araguaia\n",
      "City not found. Skipping...\n",
      "Processing Record 13 of Set 7 | camacha\n",
      "Processing Record 14 of Set 7 | golden\n",
      "Processing Record 15 of Set 7 | chipinge\n",
      "Processing Record 16 of Set 7 | linjiang\n",
      "Processing Record 17 of Set 7 | tharrawaddy\n",
      "City not found. Skipping...\n",
      "Processing Record 18 of Set 7 | bonthe\n",
      "Processing Record 19 of Set 7 | sabang\n",
      "Processing Record 20 of Set 7 | klyuchi\n",
      "Processing Record 21 of Set 7 | zaysan\n",
      "Processing Record 22 of Set 7 | cidreira\n",
      "Processing Record 23 of Set 7 | namatanai\n",
      "Processing Record 24 of Set 7 | ariquemes\n",
      "Processing Record 25 of Set 7 | vihari\n",
      "Processing Record 26 of Set 7 | sistranda\n",
      "Processing Record 27 of Set 7 | shenjiamen\n",
      "Processing Record 28 of Set 7 | marsh harbour\n",
      "Processing Record 29 of Set 7 | tabou\n",
      "Processing Record 30 of Set 7 | comodoro rivadavia\n",
      "Processing Record 31 of Set 7 | kadoma\n",
      "Processing Record 32 of Set 7 | manali\n",
      "Processing Record 33 of Set 7 | vestmannaeyjar\n",
      "Processing Record 34 of Set 7 | buena vista\n",
      "Processing Record 35 of Set 7 | barawe\n",
      "City not found. Skipping...\n",
      "Processing Record 36 of Set 7 | coos bay\n",
      "Processing Record 37 of Set 7 | gazanjyk\n",
      "Processing Record 38 of Set 7 | mopti\n",
      "Processing Record 39 of Set 7 | nokaneng\n",
      "Processing Record 40 of Set 7 | hirara\n",
      "Processing Record 41 of Set 7 | santona\n",
      "Processing Record 42 of Set 7 | bandarbeyla\n",
      "Processing Record 43 of Set 7 | kaitangata\n",
      "Processing Record 44 of Set 7 | nantucket\n",
      "Processing Record 45 of Set 7 | cabo san lucas\n",
      "Processing Record 46 of Set 7 | margate\n",
      "Processing Record 47 of Set 7 | kenai\n",
      "Processing Record 48 of Set 7 | skalistyy\n",
      "City not found. Skipping...\n",
      "Processing Record 49 of Set 7 | jasper\n",
      "Processing Record 50 of Set 7 | bathsheba\n",
      "Processing Record 1 of Set 8 | anadyr\n",
      "Processing Record 2 of Set 8 | abaza\n",
      "Processing Record 3 of Set 8 | ormara\n",
      "Processing Record 4 of Set 8 | dolores\n",
      "Processing Record 5 of Set 8 | bahia honda\n",
      "Processing Record 6 of Set 8 | vardo\n",
      "Processing Record 7 of Set 8 | lunenburg\n",
      "Processing Record 8 of Set 8 | sao filipe\n",
      "Processing Record 9 of Set 8 | chernyshevskiy\n",
      "Processing Record 10 of Set 8 | haimen\n",
      "Processing Record 11 of Set 8 | zhezkazgan\n",
      "Processing Record 12 of Set 8 | egvekinot\n",
      "Processing Record 13 of Set 8 | zhanatas\n",
      "City not found. Skipping...\n",
      "Processing Record 14 of Set 8 | grand river south east\n",
      "City not found. Skipping...\n",
      "Processing Record 15 of Set 8 | vinstra\n",
      "Processing Record 16 of Set 8 | san cristobal\n",
      "Processing Record 17 of Set 8 | jinan\n",
      "Processing Record 18 of Set 8 | synya\n",
      "Processing Record 19 of Set 8 | aykhal\n",
      "Processing Record 20 of Set 8 | grand gaube\n",
      "Processing Record 21 of Set 8 | bocaranga\n",
      "City not found. Skipping...\n",
      "Processing Record 22 of Set 8 | berdigestyakh\n",
      "Processing Record 23 of Set 8 | ekibastuz\n",
      "Processing Record 24 of Set 8 | marawi\n",
      "Processing Record 25 of Set 8 | ixtapa\n",
      "Processing Record 26 of Set 8 | cacapava do sul\n",
      "Processing Record 27 of Set 8 | maxixe\n",
      "Processing Record 28 of Set 8 | santiago de cao\n",
      "Processing Record 29 of Set 8 | belle fourche\n"
     ]
    },
    {
     "name": "stdout",
     "output_type": "stream",
     "text": [
      "Processing Record 30 of Set 8 | accra\n",
      "Processing Record 31 of Set 8 | kieta\n",
      "Processing Record 32 of Set 8 | luebo\n",
      "Processing Record 33 of Set 8 | nileshwar\n",
      "Processing Record 34 of Set 8 | kokopo\n",
      "Processing Record 35 of Set 8 | kondoa\n",
      "Processing Record 36 of Set 8 | sar-e pul\n",
      "Processing Record 37 of Set 8 | verkhoyansk\n",
      "Processing Record 38 of Set 8 | oktyabrskoye\n",
      "Processing Record 39 of Set 8 | abalak\n",
      "Processing Record 40 of Set 8 | verkhnevilyuysk\n",
      "Processing Record 41 of Set 8 | cayenne\n",
      "Processing Record 42 of Set 8 | beyneu\n",
      "Processing Record 43 of Set 8 | te anau\n",
      "Processing Record 44 of Set 8 | coulihaut\n",
      "City not found. Skipping...\n",
      "Processing Record 45 of Set 8 | warqla\n",
      "City not found. Skipping...\n",
      "Processing Record 46 of Set 8 | prainha\n",
      "Processing Record 47 of Set 8 | dire\n",
      "Processing Record 48 of Set 8 | the valley\n",
      "Processing Record 49 of Set 8 | la primavera\n",
      "Processing Record 50 of Set 8 | acapulco\n",
      "Processing Record 1 of Set 9 | kamaishi\n",
      "Processing Record 2 of Set 9 | sirajganj\n",
      "Processing Record 3 of Set 9 | ous\n",
      "Processing Record 4 of Set 9 | marovoay\n",
      "Processing Record 5 of Set 9 | trelew\n",
      "Processing Record 6 of Set 9 | high level\n",
      "Processing Record 7 of Set 9 | ribeira grande\n",
      "Processing Record 8 of Set 9 | dafeng\n",
      "Processing Record 9 of Set 9 | luganville\n",
      "Processing Record 10 of Set 9 | grootfontein\n",
      "Processing Record 11 of Set 9 | balclutha\n",
      "Processing Record 12 of Set 9 | zhigansk\n",
      "Processing Record 13 of Set 9 | nizhneyansk\n",
      "City not found. Skipping...\n",
      "Processing Record 14 of Set 9 | cheuskiny\n",
      "City not found. Skipping...\n",
      "Processing Record 15 of Set 9 | gazojak\n",
      "Processing Record 16 of Set 9 | craig\n",
      "Processing Record 17 of Set 9 | gorkovskoye\n",
      "City not found. Skipping...\n",
      "Processing Record 18 of Set 9 | cartagena del chaira\n",
      "Processing Record 19 of Set 9 | alta floresta\n",
      "Processing Record 20 of Set 9 | kruisfontein\n",
      "Processing Record 21 of Set 9 | inhambane\n",
      "Processing Record 22 of Set 9 | srednekolymsk\n",
      "Processing Record 23 of Set 9 | bambanglipuro\n",
      "Processing Record 24 of Set 9 | bushehr\n",
      "Processing Record 25 of Set 9 | gazimurskiy zavod\n",
      "Processing Record 26 of Set 9 | port lincoln\n",
      "Processing Record 27 of Set 9 | charlottesville\n",
      "Processing Record 28 of Set 9 | saint-pierre\n",
      "Processing Record 29 of Set 9 | port hardy\n",
      "Processing Record 30 of Set 9 | port hedland\n",
      "Processing Record 31 of Set 9 | enshi\n",
      "Processing Record 32 of Set 9 | ahuimanu\n",
      "Processing Record 33 of Set 9 | palmer\n",
      "Processing Record 34 of Set 9 | walvis bay\n",
      "Processing Record 35 of Set 9 | yulara\n",
      "Processing Record 36 of Set 9 | hope mills\n",
      "Processing Record 37 of Set 9 | kamenka\n",
      "Processing Record 38 of Set 9 | ferrol\n",
      "Processing Record 39 of Set 9 | timbo\n",
      "Processing Record 40 of Set 9 | mulchen\n",
      "Processing Record 41 of Set 9 | itaueira\n",
      "Processing Record 42 of Set 9 | xining\n",
      "Processing Record 43 of Set 9 | matagami\n",
      "Processing Record 44 of Set 9 | manjacaze\n",
      "Processing Record 45 of Set 9 | talca\n",
      "Processing Record 46 of Set 9 | taitung\n",
      "Processing Record 47 of Set 9 | manzhouli\n",
      "Processing Record 48 of Set 9 | maridi\n",
      "Processing Record 49 of Set 9 | krasnoselkup\n",
      "Processing Record 50 of Set 9 | midlothian\n",
      "Processing Record 1 of Set 10 | balkhash\n",
      "Processing Record 2 of Set 10 | sioux lookout\n",
      "Processing Record 3 of Set 10 | nhulunbuy\n",
      "Processing Record 4 of Set 10 | wageningen\n",
      "Processing Record 5 of Set 10 | maldonado\n",
      "Processing Record 6 of Set 10 | saryshagan\n",
      "City not found. Skipping...\n",
      "Processing Record 7 of Set 10 | galiwinku\n",
      "City not found. Skipping...\n",
      "Processing Record 8 of Set 10 | rioja\n",
      "Processing Record 9 of Set 10 | uinskoye\n",
      "Processing Record 10 of Set 10 | benjamin aceval\n",
      "Processing Record 11 of Set 10 | phitsanulok\n",
      "Processing Record 12 of Set 10 | oranjestad\n",
      "Processing Record 13 of Set 10 | tumannyy\n",
      "City not found. Skipping...\n",
      "Processing Record 14 of Set 10 | balabac\n",
      "Processing Record 15 of Set 10 | san andres\n",
      "Processing Record 16 of Set 10 | xiongyue\n",
      "Processing Record 17 of Set 10 | huayang\n",
      "Processing Record 18 of Set 10 | kedrovyy\n",
      "Processing Record 19 of Set 10 | isangel\n",
      "Processing Record 20 of Set 10 | grand centre\n",
      "City not found. Skipping...\n",
      "Processing Record 21 of Set 10 | biryusinsk\n",
      "Processing Record 22 of Set 10 | hokitika\n",
      "Processing Record 23 of Set 10 | puerto colombia\n",
      "Processing Record 24 of Set 10 | eufaula\n",
      "Processing Record 25 of Set 10 | mouzouras\n",
      "Processing Record 26 of Set 10 | abu zabad\n",
      "Processing Record 27 of Set 10 | necochea\n",
      "Processing Record 28 of Set 10 | vorobyevka\n",
      "Processing Record 29 of Set 10 | mabai\n",
      "Processing Record 30 of Set 10 | korfovskiy\n",
      "Processing Record 31 of Set 10 | khash\n",
      "Processing Record 32 of Set 10 | bulgan\n",
      "Processing Record 33 of Set 10 | shimanovsk\n",
      "Processing Record 34 of Set 10 | graaff-reinet\n",
      "Processing Record 35 of Set 10 | volax\n",
      "Processing Record 36 of Set 10 | makamba\n",
      "Processing Record 37 of Set 10 | san jose iturbide\n",
      "Processing Record 38 of Set 10 | los llanos de aridane\n",
      "Processing Record 39 of Set 10 | kazachinskoye\n",
      "Processing Record 40 of Set 10 | benjamin constant\n",
      "Processing Record 41 of Set 10 | lufilufi\n",
      "Processing Record 42 of Set 10 | ayios kirikos\n",
      "City not found. Skipping...\n",
      "Processing Record 43 of Set 10 | bafoulabe\n",
      "Processing Record 44 of Set 10 | bengkulu\n",
      "Processing Record 45 of Set 10 | tanout\n",
      "Processing Record 46 of Set 10 | port blair\n",
      "Processing Record 47 of Set 10 | kaeng khoi\n",
      "Processing Record 48 of Set 10 | gamboma\n",
      "Processing Record 49 of Set 10 | kabalo\n",
      "Processing Record 50 of Set 10 | gurskoye\n",
      "City not found. Skipping...\n",
      "Processing Record 1 of Set 11 | malard\n",
      "Processing Record 2 of Set 11 | ust-nera\n",
      "Processing Record 3 of Set 11 | saint-augustin\n",
      "Processing Record 4 of Set 11 | uvat\n",
      "Processing Record 5 of Set 11 | karakulino\n",
      "Processing Record 6 of Set 11 | ostrovnoy\n",
      "Processing Record 7 of Set 11 | constitucion\n",
      "Processing Record 8 of Set 11 | siparia\n",
      "Processing Record 9 of Set 11 | suez\n",
      "Processing Record 10 of Set 11 | palanga\n",
      "Processing Record 11 of Set 11 | semey\n",
      "Processing Record 12 of Set 11 | sula\n",
      "Processing Record 13 of Set 11 | pobe\n",
      "Processing Record 14 of Set 11 | piripiri\n",
      "Processing Record 15 of Set 11 | campbellford\n",
      "Processing Record 16 of Set 11 | pontalina\n",
      "Processing Record 17 of Set 11 | letka\n",
      "Processing Record 18 of Set 11 | cam pha\n",
      "City not found. Skipping...\n",
      "Processing Record 19 of Set 11 | japura\n",
      "Processing Record 20 of Set 11 | adre\n",
      "Processing Record 21 of Set 11 | chapais\n",
      "Processing Record 22 of Set 11 | dong hoi\n",
      "Processing Record 23 of Set 11 | sohagpur\n",
      "Processing Record 24 of Set 11 | lazaro cardenas\n",
      "Processing Record 25 of Set 11 | rio grande\n",
      "Processing Record 26 of Set 11 | mawlaik\n",
      "Processing Record 27 of Set 11 | panguna\n",
      "Processing Record 28 of Set 11 | jabiru\n",
      "City not found. Skipping...\n",
      "Processing Record 29 of Set 11 | lasa\n",
      "Processing Record 30 of Set 11 | les cayes\n",
      "Processing Record 31 of Set 11 | taboshar\n",
      "Processing Record 32 of Set 11 | port macquarie\n",
      "Processing Record 33 of Set 11 | smirnykh\n",
      "Processing Record 34 of Set 11 | ucluelet\n",
      "Processing Record 35 of Set 11 | sept-iles\n",
      "Processing Record 36 of Set 11 | eureka\n",
      "Processing Record 37 of Set 11 | richards bay\n",
      "Processing Record 38 of Set 11 | russell\n",
      "Processing Record 39 of Set 11 | nome\n",
      "Processing Record 40 of Set 11 | fredericksburg\n",
      "Processing Record 41 of Set 11 | vilyuysk\n",
      "Processing Record 42 of Set 11 | magrath\n",
      "Processing Record 43 of Set 11 | beloha\n",
      "Processing Record 44 of Set 11 | menongue\n",
      "Processing Record 45 of Set 11 | kozhva\n",
      "Processing Record 46 of Set 11 | fukagawa\n",
      "Processing Record 47 of Set 11 | buzmeyin\n",
      "Processing Record 48 of Set 11 | akdepe\n",
      "Processing Record 49 of Set 11 | plouzane\n",
      "Processing Record 50 of Set 11 | alice town\n",
      "Processing Record 1 of Set 12 | longlac\n",
      "City not found. Skipping...\n",
      "Processing Record 2 of Set 12 | mandalgovi\n",
      "Processing Record 3 of Set 12 | lindi\n",
      "Processing Record 4 of Set 12 | aksarayskiy\n",
      "Processing Record 5 of Set 12 | kushmurun\n",
      "Processing Record 6 of Set 12 | beira\n",
      "Processing Record 7 of Set 12 | luangwa\n",
      "Processing Record 8 of Set 12 | sorvag\n",
      "City not found. Skipping...\n",
      "Processing Record 9 of Set 12 | mahibadhoo\n",
      "Processing Record 10 of Set 12 | labrea\n",
      "Processing Record 11 of Set 12 | livingston\n",
      "Processing Record 12 of Set 12 | bela\n",
      "Processing Record 13 of Set 12 | boa viagem\n",
      "Processing Record 14 of Set 12 | novovasylivka\n"
     ]
    },
    {
     "name": "stdout",
     "output_type": "stream",
     "text": [
      "Processing Record 15 of Set 12 | colomi\n",
      "Processing Record 16 of Set 12 | takoradi\n",
      "Processing Record 17 of Set 12 | nipawin\n",
      "Processing Record 18 of Set 12 | ust-bolsheretsk\n",
      "City not found. Skipping...\n",
      "Processing Record 19 of Set 12 | umea\n",
      "Processing Record 20 of Set 12 | treinta y tres\n",
      "Processing Record 21 of Set 12 | atar\n",
      "Processing Record 22 of Set 12 | viligili\n",
      "City not found. Skipping...\n",
      "Processing Record 23 of Set 12 | seydi\n",
      "Processing Record 24 of Set 12 | acarau\n",
      "-------------------------\n",
      "Data Retrieval Complete\n"
     ]
    }
   ],
   "source": [
    "set_count = 1\n",
    "record = 0\n",
    "url = \"http://api.openweathermap.org/data/2.5/weather?\"\n",
    "units = \"imperial\" \n",
    "\n",
    "print('Beginning Data Retrieval')\n",
    "print('------------------------')\n",
    "\n",
    "for city in city_list:\n",
    "    \n",
    "    query_url = url + \"appid=\" + weather_api_key + \"&q=\" + city + \"&units=\" + units\n",
    "    response = requests.get(query_url).json()\n",
    "    \n",
    "    if record < 50:\n",
    "        record += 1\n",
    "    else:\n",
    "        set_count += 1\n",
    "        record = 1\n",
    "\n",
    "    print(f\"Processing Record {record} of Set {set_count} | {city}\")\n",
    "    \n",
    "    try:\n",
    "        city_name.append(response['name'])\n",
    "        cloudiness.append(response['clouds']['all'])\n",
    "        country.append(response['sys']['country'])\n",
    "        date.append(response['dt'])\n",
    "        humidity.append(response['main']['humidity'])\n",
    "        lat.append(response['coord']['lat'])\n",
    "        lng.append(response['coord']['lon'])\n",
    "        max_temp.append(response['main']['temp_max'])\n",
    "        wind_speed.append(response['wind']['speed'])\n",
    "        \n",
    "    except:\n",
    "        print(\"City not found. Skipping...\")\n",
    "        pass\n",
    "\n",
    "print('-------------------------')\n",
    "print('Data Retrieval Complete')"
   ]
  },
  {
   "cell_type": "raw",
   "metadata": {},
   "source": [
    "#Tried interrows briefly\n",
    "\n",
    "#Need to create a Dataframe for data from interrows loop\n",
    "city_data[\"City_ID\"] = \"\"\n",
    "city_data[\"City\"] = \"\"\n",
    "city_data[\"Cloudiness\"] = \"\"\n",
    "city_data[\"Country\"] = \"\"\n",
    "city_data[\"Date\"] = \"\"\n",
    "city_data[\"Humidity\"] = \"\"\n",
    "city_data[\"Lat\"] = \"\"\n",
    "city_data[\"Lng\"] = \"\"\n",
    "city_data[\"Max Temp\"] = \"\"\n",
    "city_data[\"Wind Speed\"] = \"\"\n",
    "\n",
    "for index, row in city_data.iterrows():\n",
    "    url = base_url + \"appid=\" + weather_api_key + \"&q=\" + rand_city + \"&units=\" + units\n",
    "    response = requests.get(url).json()\n",
    "\n",
    "    city_data.loc[index, \"City\"] = response[\"sys\"][\"country\"]     \n",
    "    city_data.loc[index, \"Cloudiness\"] = response[\"clouds\"][\"all\"]\n",
    "    city_data.loc[index, \"Country\"] = response[\"sys\"][\"country\"]     \n",
    "    city_data.loc[index, \"Date\"] = (response[\"dt\"])\n",
    "    city_data.loc[index, \"Humidity\"] = response[\"main\"][\"humidity\"]\n",
    "    city_data.loc[index, \"Lat\"] = response[\"coord\"][\"lat\"] \n",
    "    city_data.loc[index, \"Lng\"] = response[\"coord\"][\"lon\"]\n",
    "    city_data.loc[index, \"Max Temp\"] = (response[\"main\"][\"temp_max\"])\n",
    "    city_data.loc[index, \"Wind Speed\"] = response[\"wind\"][\"speed\"]"
   ]
  },
  {
   "cell_type": "markdown",
   "metadata": {},
   "source": [
    "### Convert Raw Data to DataFrame\n",
    "* Export the city data into a .csv.\n",
    "* Display the DataFrame"
   ]
  },
  {
   "cell_type": "code",
   "execution_count": 43,
   "metadata": {},
   "outputs": [
    {
     "data": {
      "text/html": [
       "<div>\n",
       "<style scoped>\n",
       "    .dataframe tbody tr th:only-of-type {\n",
       "        vertical-align: middle;\n",
       "    }\n",
       "\n",
       "    .dataframe tbody tr th {\n",
       "        vertical-align: top;\n",
       "    }\n",
       "\n",
       "    .dataframe thead th {\n",
       "        text-align: right;\n",
       "    }\n",
       "</style>\n",
       "<table border=\"1\" class=\"dataframe\">\n",
       "  <thead>\n",
       "    <tr style=\"text-align: right;\">\n",
       "      <th></th>\n",
       "      <th>City</th>\n",
       "      <th>Country</th>\n",
       "      <th>Date</th>\n",
       "      <th>Latitude</th>\n",
       "      <th>Longitude</th>\n",
       "      <th>Cloudiness</th>\n",
       "      <th>Humidity</th>\n",
       "      <th>Max Temperature</th>\n",
       "      <th>Wind Speed</th>\n",
       "    </tr>\n",
       "  </thead>\n",
       "  <tbody>\n",
       "    <tr>\n",
       "      <th>0</th>\n",
       "      <td>Albany</td>\n",
       "      <td>US</td>\n",
       "      <td>1621324804</td>\n",
       "      <td>42.6001</td>\n",
       "      <td>-73.9662</td>\n",
       "      <td>100</td>\n",
       "      <td>70</td>\n",
       "      <td>55.31</td>\n",
       "      <td>3.65</td>\n",
       "    </tr>\n",
       "    <tr>\n",
       "      <th>1</th>\n",
       "      <td>Tarko-Sale</td>\n",
       "      <td>RU</td>\n",
       "      <td>1621324922</td>\n",
       "      <td>64.9225</td>\n",
       "      <td>77.7850</td>\n",
       "      <td>100</td>\n",
       "      <td>55</td>\n",
       "      <td>46.00</td>\n",
       "      <td>4.00</td>\n",
       "    </tr>\n",
       "    <tr>\n",
       "      <th>2</th>\n",
       "      <td>Hithadhoo</td>\n",
       "      <td>MV</td>\n",
       "      <td>1621324922</td>\n",
       "      <td>-0.6000</td>\n",
       "      <td>73.0833</td>\n",
       "      <td>2</td>\n",
       "      <td>70</td>\n",
       "      <td>84.63</td>\n",
       "      <td>4.81</td>\n",
       "    </tr>\n",
       "    <tr>\n",
       "      <th>3</th>\n",
       "      <td>Rikitea</td>\n",
       "      <td>PF</td>\n",
       "      <td>1621324923</td>\n",
       "      <td>-23.1203</td>\n",
       "      <td>-134.9692</td>\n",
       "      <td>1</td>\n",
       "      <td>64</td>\n",
       "      <td>74.21</td>\n",
       "      <td>10.65</td>\n",
       "    </tr>\n",
       "    <tr>\n",
       "      <th>4</th>\n",
       "      <td>San Antero</td>\n",
       "      <td>CO</td>\n",
       "      <td>1621324923</td>\n",
       "      <td>9.3741</td>\n",
       "      <td>-75.7589</td>\n",
       "      <td>100</td>\n",
       "      <td>89</td>\n",
       "      <td>77.23</td>\n",
       "      <td>3.18</td>\n",
       "    </tr>\n",
       "    <tr>\n",
       "      <th>...</th>\n",
       "      <td>...</td>\n",
       "      <td>...</td>\n",
       "      <td>...</td>\n",
       "      <td>...</td>\n",
       "      <td>...</td>\n",
       "      <td>...</td>\n",
       "      <td>...</td>\n",
       "      <td>...</td>\n",
       "      <td>...</td>\n",
       "    </tr>\n",
       "    <tr>\n",
       "      <th>521</th>\n",
       "      <td>Umeå</td>\n",
       "      <td>SE</td>\n",
       "      <td>1621325119</td>\n",
       "      <td>63.8284</td>\n",
       "      <td>20.2597</td>\n",
       "      <td>90</td>\n",
       "      <td>100</td>\n",
       "      <td>40.93</td>\n",
       "      <td>9.22</td>\n",
       "    </tr>\n",
       "    <tr>\n",
       "      <th>522</th>\n",
       "      <td>Treinta y Tres</td>\n",
       "      <td>UY</td>\n",
       "      <td>1621325120</td>\n",
       "      <td>-33.2333</td>\n",
       "      <td>-54.3833</td>\n",
       "      <td>5</td>\n",
       "      <td>91</td>\n",
       "      <td>43.68</td>\n",
       "      <td>4.05</td>\n",
       "    </tr>\n",
       "    <tr>\n",
       "      <th>523</th>\n",
       "      <td>Atar</td>\n",
       "      <td>MR</td>\n",
       "      <td>1621325120</td>\n",
       "      <td>20.5169</td>\n",
       "      <td>-13.0499</td>\n",
       "      <td>10</td>\n",
       "      <td>19</td>\n",
       "      <td>88.34</td>\n",
       "      <td>17.36</td>\n",
       "    </tr>\n",
       "    <tr>\n",
       "      <th>524</th>\n",
       "      <td>Seydi</td>\n",
       "      <td>TM</td>\n",
       "      <td>1621325121</td>\n",
       "      <td>39.4816</td>\n",
       "      <td>62.9137</td>\n",
       "      <td>0</td>\n",
       "      <td>6</td>\n",
       "      <td>92.89</td>\n",
       "      <td>6.67</td>\n",
       "    </tr>\n",
       "    <tr>\n",
       "      <th>525</th>\n",
       "      <td>Acaraú</td>\n",
       "      <td>BR</td>\n",
       "      <td>1621325121</td>\n",
       "      <td>-2.8856</td>\n",
       "      <td>-40.1200</td>\n",
       "      <td>5</td>\n",
       "      <td>90</td>\n",
       "      <td>75.11</td>\n",
       "      <td>10.02</td>\n",
       "    </tr>\n",
       "  </tbody>\n",
       "</table>\n",
       "<p>526 rows × 9 columns</p>\n",
       "</div>"
      ],
      "text/plain": [
       "               City Country        Date  Latitude  Longitude  Cloudiness  \\\n",
       "0            Albany      US  1621324804   42.6001   -73.9662         100   \n",
       "1        Tarko-Sale      RU  1621324922   64.9225    77.7850         100   \n",
       "2         Hithadhoo      MV  1621324922   -0.6000    73.0833           2   \n",
       "3           Rikitea      PF  1621324923  -23.1203  -134.9692           1   \n",
       "4        San Antero      CO  1621324923    9.3741   -75.7589         100   \n",
       "..              ...     ...         ...       ...        ...         ...   \n",
       "521            Umeå      SE  1621325119   63.8284    20.2597          90   \n",
       "522  Treinta y Tres      UY  1621325120  -33.2333   -54.3833           5   \n",
       "523            Atar      MR  1621325120   20.5169   -13.0499          10   \n",
       "524           Seydi      TM  1621325121   39.4816    62.9137           0   \n",
       "525          Acaraú      BR  1621325121   -2.8856   -40.1200           5   \n",
       "\n",
       "     Humidity  Max Temperature  Wind Speed  \n",
       "0          70            55.31        3.65  \n",
       "1          55            46.00        4.00  \n",
       "2          70            84.63        4.81  \n",
       "3          64            74.21       10.65  \n",
       "4          89            77.23        3.18  \n",
       "..        ...              ...         ...  \n",
       "521       100            40.93        9.22  \n",
       "522        91            43.68        4.05  \n",
       "523        19            88.34       17.36  \n",
       "524         6            92.89        6.67  \n",
       "525        90            75.11       10.02  \n",
       "\n",
       "[526 rows x 9 columns]"
      ]
     },
     "execution_count": 43,
     "metadata": {},
     "output_type": "execute_result"
    }
   ],
   "source": [
    "weather_df = pd.DataFrame({\"City\": city_name, \"Country\": country, \"Date\": date,\n",
    "                          \"Latitude\": lat, \"Longitude\": lng, \"Cloudiness\": cloudiness,\n",
    "                          \"Humidity\": humidity, \"Max Temperature\": max_temp, \"Wind Speed\": wind_speed})\n",
    "\n",
    "weather_df"
   ]
  },
  {
   "cell_type": "code",
   "execution_count": 44,
   "metadata": {},
   "outputs": [
    {
     "data": {
      "text/plain": [
       "Corinth           2\n",
       "Suez              1\n",
       "Vestmannaeyjar    1\n",
       "Kozhva            1\n",
       "Yellowknife       1\n",
       "                 ..\n",
       "Berdigestyakh     1\n",
       "Dogondoutchi      1\n",
       "Thompson          1\n",
       "Uinskoye          1\n",
       "Ambilobe          1\n",
       "Name: City, Length: 525, dtype: int64"
      ]
     },
     "execution_count": 44,
     "metadata": {},
     "output_type": "execute_result"
    }
   ],
   "source": [
    "weather_df['City'].value_counts()"
   ]
  },
  {
   "cell_type": "code",
   "execution_count": 45,
   "metadata": {},
   "outputs": [],
   "source": [
    "weather_df = weather_df.drop_duplicates(['City'])"
   ]
  },
  {
   "cell_type": "code",
   "execution_count": 46,
   "metadata": {},
   "outputs": [
    {
     "data": {
      "text/plain": [
       "City               525\n",
       "Country            525\n",
       "Date               525\n",
       "Latitude           525\n",
       "Longitude          525\n",
       "Cloudiness         525\n",
       "Humidity           525\n",
       "Max Temperature    525\n",
       "Wind Speed         525\n",
       "dtype: int64"
      ]
     },
     "execution_count": 46,
     "metadata": {},
     "output_type": "execute_result"
    }
   ],
   "source": [
    "weather_df.count()"
   ]
  },
  {
   "cell_type": "code",
   "execution_count": 47,
   "metadata": {},
   "outputs": [
    {
     "data": {
      "text/html": [
       "<div>\n",
       "<style scoped>\n",
       "    .dataframe tbody tr th:only-of-type {\n",
       "        vertical-align: middle;\n",
       "    }\n",
       "\n",
       "    .dataframe tbody tr th {\n",
       "        vertical-align: top;\n",
       "    }\n",
       "\n",
       "    .dataframe thead th {\n",
       "        text-align: right;\n",
       "    }\n",
       "</style>\n",
       "<table border=\"1\" class=\"dataframe\">\n",
       "  <thead>\n",
       "    <tr style=\"text-align: right;\">\n",
       "      <th></th>\n",
       "      <th>Date</th>\n",
       "      <th>Latitude</th>\n",
       "      <th>Longitude</th>\n",
       "      <th>Cloudiness</th>\n",
       "      <th>Humidity</th>\n",
       "      <th>Max Temperature</th>\n",
       "      <th>Wind Speed</th>\n",
       "    </tr>\n",
       "  </thead>\n",
       "  <tbody>\n",
       "    <tr>\n",
       "      <th>count</th>\n",
       "      <td>5.250000e+02</td>\n",
       "      <td>525.000000</td>\n",
       "      <td>525.000000</td>\n",
       "      <td>525.000000</td>\n",
       "      <td>525.000000</td>\n",
       "      <td>525.000000</td>\n",
       "      <td>525.000000</td>\n",
       "    </tr>\n",
       "    <tr>\n",
       "      <th>mean</th>\n",
       "      <td>1.621325e+09</td>\n",
       "      <td>18.794001</td>\n",
       "      <td>15.059171</td>\n",
       "      <td>57.011429</td>\n",
       "      <td>66.405714</td>\n",
       "      <td>66.549962</td>\n",
       "      <td>8.139543</td>\n",
       "    </tr>\n",
       "    <tr>\n",
       "      <th>std</th>\n",
       "      <td>8.390786e+01</td>\n",
       "      <td>33.558935</td>\n",
       "      <td>90.895671</td>\n",
       "      <td>40.472305</td>\n",
       "      <td>24.509796</td>\n",
       "      <td>18.106878</td>\n",
       "      <td>5.344125</td>\n",
       "    </tr>\n",
       "    <tr>\n",
       "      <th>min</th>\n",
       "      <td>1.621324e+09</td>\n",
       "      <td>-54.800000</td>\n",
       "      <td>-179.166700</td>\n",
       "      <td>0.000000</td>\n",
       "      <td>5.000000</td>\n",
       "      <td>15.840000</td>\n",
       "      <td>0.000000</td>\n",
       "    </tr>\n",
       "    <tr>\n",
       "      <th>25%</th>\n",
       "      <td>1.621325e+09</td>\n",
       "      <td>-9.875600</td>\n",
       "      <td>-66.382100</td>\n",
       "      <td>12.000000</td>\n",
       "      <td>52.000000</td>\n",
       "      <td>54.340000</td>\n",
       "      <td>4.000000</td>\n",
       "    </tr>\n",
       "    <tr>\n",
       "      <th>50%</th>\n",
       "      <td>1.621325e+09</td>\n",
       "      <td>22.700000</td>\n",
       "      <td>23.104700</td>\n",
       "      <td>72.000000</td>\n",
       "      <td>72.000000</td>\n",
       "      <td>68.650000</td>\n",
       "      <td>7.160000</td>\n",
       "    </tr>\n",
       "    <tr>\n",
       "      <th>75%</th>\n",
       "      <td>1.621325e+09</td>\n",
       "      <td>47.473600</td>\n",
       "      <td>95.321400</td>\n",
       "      <td>99.000000</td>\n",
       "      <td>87.000000</td>\n",
       "      <td>80.690000</td>\n",
       "      <td>11.140000</td>\n",
       "    </tr>\n",
       "    <tr>\n",
       "      <th>max</th>\n",
       "      <td>1.621325e+09</td>\n",
       "      <td>78.218600</td>\n",
       "      <td>177.483300</td>\n",
       "      <td>100.000000</td>\n",
       "      <td>100.000000</td>\n",
       "      <td>107.110000</td>\n",
       "      <td>30.000000</td>\n",
       "    </tr>\n",
       "  </tbody>\n",
       "</table>\n",
       "</div>"
      ],
      "text/plain": [
       "               Date    Latitude   Longitude  Cloudiness    Humidity  \\\n",
       "count  5.250000e+02  525.000000  525.000000  525.000000  525.000000   \n",
       "mean   1.621325e+09   18.794001   15.059171   57.011429   66.405714   \n",
       "std    8.390786e+01   33.558935   90.895671   40.472305   24.509796   \n",
       "min    1.621324e+09  -54.800000 -179.166700    0.000000    5.000000   \n",
       "25%    1.621325e+09   -9.875600  -66.382100   12.000000   52.000000   \n",
       "50%    1.621325e+09   22.700000   23.104700   72.000000   72.000000   \n",
       "75%    1.621325e+09   47.473600   95.321400   99.000000   87.000000   \n",
       "max    1.621325e+09   78.218600  177.483300  100.000000  100.000000   \n",
       "\n",
       "       Max Temperature  Wind Speed  \n",
       "count       525.000000  525.000000  \n",
       "mean         66.549962    8.139543  \n",
       "std          18.106878    5.344125  \n",
       "min          15.840000    0.000000  \n",
       "25%          54.340000    4.000000  \n",
       "50%          68.650000    7.160000  \n",
       "75%          80.690000   11.140000  \n",
       "max         107.110000   30.000000  "
      ]
     },
     "execution_count": 47,
     "metadata": {},
     "output_type": "execute_result"
    }
   ],
   "source": [
    "weather_df.describe()"
   ]
  },
  {
   "cell_type": "code",
   "execution_count": 48,
   "metadata": {},
   "outputs": [],
   "source": [
    "weather_df.to_csv(\"Outputs/weather_df.csv\", encoding=\"utf-8\", index=False)"
   ]
  },
  {
   "cell_type": "markdown",
   "metadata": {},
   "source": [
    "## Inspect the data and remove the cities where the humidity > 100%.\n",
    "----\n",
    "Skip this step if there are no cities that have humidity > 100%. "
   ]
  },
  {
   "cell_type": "code",
   "execution_count": 34,
   "metadata": {},
   "outputs": [
    {
     "data": {
      "text/plain": [
       "Int64Index([], dtype='int64')"
      ]
     },
     "execution_count": 34,
     "metadata": {},
     "output_type": "execute_result"
    }
   ],
   "source": [
    "#  Get the indices of cities that have humidity over 100%.\n",
    "humidity_df = weather_df.loc[weather_df['Humidity'] > 100].index\n",
    "humidity_df"
   ]
  },
  {
   "cell_type": "code",
   "execution_count": 35,
   "metadata": {},
   "outputs": [
    {
     "data": {
      "text/html": [
       "<div>\n",
       "<style scoped>\n",
       "    .dataframe tbody tr th:only-of-type {\n",
       "        vertical-align: middle;\n",
       "    }\n",
       "\n",
       "    .dataframe tbody tr th {\n",
       "        vertical-align: top;\n",
       "    }\n",
       "\n",
       "    .dataframe thead th {\n",
       "        text-align: right;\n",
       "    }\n",
       "</style>\n",
       "<table border=\"1\" class=\"dataframe\">\n",
       "  <thead>\n",
       "    <tr style=\"text-align: right;\">\n",
       "      <th></th>\n",
       "      <th>City</th>\n",
       "      <th>Country</th>\n",
       "      <th>Date</th>\n",
       "      <th>Latitude</th>\n",
       "      <th>Longitude</th>\n",
       "      <th>Cloudiness</th>\n",
       "      <th>Humidity</th>\n",
       "      <th>Max Temperature</th>\n",
       "      <th>Wind Speed</th>\n",
       "    </tr>\n",
       "  </thead>\n",
       "  <tbody>\n",
       "    <tr>\n",
       "      <th>0</th>\n",
       "      <td>Houston</td>\n",
       "      <td>US</td>\n",
       "      <td>1621322863</td>\n",
       "      <td>29.7633</td>\n",
       "      <td>-95.3633</td>\n",
       "      <td>1</td>\n",
       "      <td>94</td>\n",
       "      <td>69.80</td>\n",
       "      <td>8.05</td>\n",
       "    </tr>\n",
       "    <tr>\n",
       "      <th>1</th>\n",
       "      <td>Muros</td>\n",
       "      <td>ES</td>\n",
       "      <td>1621323591</td>\n",
       "      <td>42.7762</td>\n",
       "      <td>-9.0603</td>\n",
       "      <td>100</td>\n",
       "      <td>95</td>\n",
       "      <td>63.10</td>\n",
       "      <td>9.80</td>\n",
       "    </tr>\n",
       "    <tr>\n",
       "      <th>2</th>\n",
       "      <td>Constitución</td>\n",
       "      <td>CL</td>\n",
       "      <td>1621323591</td>\n",
       "      <td>-35.3333</td>\n",
       "      <td>-72.4167</td>\n",
       "      <td>100</td>\n",
       "      <td>64</td>\n",
       "      <td>54.18</td>\n",
       "      <td>6.33</td>\n",
       "    </tr>\n",
       "    <tr>\n",
       "      <th>3</th>\n",
       "      <td>Moss Vale</td>\n",
       "      <td>AU</td>\n",
       "      <td>1621323591</td>\n",
       "      <td>-34.5500</td>\n",
       "      <td>150.3833</td>\n",
       "      <td>0</td>\n",
       "      <td>74</td>\n",
       "      <td>52.34</td>\n",
       "      <td>2.39</td>\n",
       "    </tr>\n",
       "    <tr>\n",
       "      <th>4</th>\n",
       "      <td>Bambous Virieux</td>\n",
       "      <td>MU</td>\n",
       "      <td>1621323592</td>\n",
       "      <td>-20.3428</td>\n",
       "      <td>57.7575</td>\n",
       "      <td>20</td>\n",
       "      <td>64</td>\n",
       "      <td>82.65</td>\n",
       "      <td>13.91</td>\n",
       "    </tr>\n",
       "  </tbody>\n",
       "</table>\n",
       "</div>"
      ],
      "text/plain": [
       "              City Country        Date  Latitude  Longitude  Cloudiness  \\\n",
       "0          Houston      US  1621322863   29.7633   -95.3633           1   \n",
       "1            Muros      ES  1621323591   42.7762    -9.0603         100   \n",
       "2     Constitución      CL  1621323591  -35.3333   -72.4167         100   \n",
       "3        Moss Vale      AU  1621323591  -34.5500   150.3833           0   \n",
       "4  Bambous Virieux      MU  1621323592  -20.3428    57.7575          20   \n",
       "\n",
       "   Humidity  Max Temperature  Wind Speed  \n",
       "0        94            69.80        8.05  \n",
       "1        95            63.10        9.80  \n",
       "2        64            54.18        6.33  \n",
       "3        74            52.34        2.39  \n",
       "4        64            82.65       13.91  "
      ]
     },
     "execution_count": 35,
     "metadata": {},
     "output_type": "execute_result"
    }
   ],
   "source": [
    "# Make a new DataFrame equal to the city data to drop all humidity outliers by index.\n",
    "# Passing \"inplace=False\" will make a copy of the city_data DataFrame, which we call \"clean_city_data\".\n",
    "\n",
    "humid_index_data = weather_df.drop(humidity_df, inplace=False)\n",
    "humid_index_data.head()"
   ]
  },
  {
   "cell_type": "code",
   "execution_count": 49,
   "metadata": {
    "scrolled": true
   },
   "outputs": [],
   "source": [
    "# Extract relevant fields from the data frame\n",
    "lats = humid_index_data[\"Latitude\"]\n",
    "max_temps = humid_index_data[\"Max Temperature\"]\n",
    "humidity = humid_index_data[\"Humidity\"]\n",
    "cloudiness = humid_index_data[\"Cloudiness\"]\n",
    "wind_speed = humid_index_data[\"Wind Speed\"]\n",
    "\n",
    "# Export the City_Data into a csv\n",
    "humid_index_data.to_csv(\"../output_data/cities.csv\", index_label=\"City_ID\")"
   ]
  },
  {
   "cell_type": "markdown",
   "metadata": {},
   "source": [
    "## Plotting the Data\n",
    "* Use proper labeling of the plots using plot titles (including date of analysis) and axes labels.\n",
    "* Save the plotted figures as .pngs."
   ]
  },
  {
   "cell_type": "markdown",
   "metadata": {},
   "source": [
    "## Latitude vs. Temperature Plot"
   ]
  },
  {
   "cell_type": "code",
   "execution_count": 50,
   "metadata": {},
   "outputs": [
    {
     "data": {
      "image/png": "[encoded data removed]",
      "text/plain": [
       "<Figure size 432x288 with 1 Axes>"
      ]
     },
     "metadata": {
      "needs_background": "light"
     },
     "output_type": "display_data"
    }
   ],
   "source": [
    "weather_df.plot(kind='scatter', x = 'Latitude', y = 'Max Temperature')\n",
    "plt.title('Latitude Vs Max Temperature')\n",
    "plt.xlabel('Latitude (Deg)')\n",
    "plt.ylabel('Max Temperature (F)')\n",
    "plt.grid()"
   ]
  },
  {
   "cell_type": "markdown",
   "metadata": {},
   "source": [
    "## Latitude vs. Humidity Plot"
   ]
  },
  {
   "cell_type": "code",
   "execution_count": 67,
   "metadata": {},
   "outputs": [
    {
     "data": {
      "image/png": "[encoded data removed]",
      "text/plain": [
       "<Figure size 432x288 with 1 Axes>"
      ]
     },
     "metadata": {
      "needs_background": "light"
     },
     "output_type": "display_data"
    }
   ],
   "source": [
    "weather_df.plot(kind='scatter', x = 'Latitude', y = 'Humidity')\n",
    "plt.title('Latitude Vs Humidity')\n",
    "plt.xlabel('Latitude (Deg)')\n",
    "plt.ylabel('Humidity (%)')\n",
    "plt.grid()"
   ]
  },
  {
   "cell_type": "markdown",
   "metadata": {},
   "source": [
    "## Latitude vs. Cloudiness Plot"
   ]
  },
  {
   "cell_type": "code",
   "execution_count": 68,
   "metadata": {},
   "outputs": [
    {
     "data": {
      "image/png": "[encoded data removed]",
      "text/plain": [
       "<Figure size 432x288 with 1 Axes>"
      ]
     },
     "metadata": {
      "needs_background": "light"
     },
     "output_type": "display_data"
    }
   ],
   "source": [
    "weather_df.plot(kind='scatter', x = 'Latitude', y = 'Cloudiness')\n",
    "plt.title('Latitude Vs Cloudiness')\n",
    "plt.xlabel('Latitude (Deg)')\n",
    "plt.ylabel('Cloudiness')\n",
    "plt.grid()"
   ]
  },
  {
   "cell_type": "markdown",
   "metadata": {},
   "source": [
    "## Latitude vs. Wind Speed Plot"
   ]
  },
  {
   "cell_type": "code",
   "execution_count": 69,
   "metadata": {},
   "outputs": [
    {
     "data": {
      "image/png": "[encoded data removed]",
      "text/plain": [
       "<Figure size 432x288 with 1 Axes>"
      ]
     },
     "metadata": {
      "needs_background": "light"
     },
     "output_type": "display_data"
    }
   ],
   "source": [
    "weather_df.plot(kind='scatter', x = 'Latitude', y = 'Wind Speed')\n",
    "plt.title('Latitude Vs Wind Speed')\n",
    "plt.xlabel('Latitude (Deg)')\n",
    "plt.ylabel('Wind Speed (MPH)')\n",
    "plt.grid()"
   ]
  },
  {
   "cell_type": "markdown",
   "metadata": {},
   "source": [
    "## Linear Regression"
   ]
  },
  {
   "cell_type": "code",
   "execution_count": 127,
   "metadata": {},
   "outputs": [
    {
     "data": {
      "text/plain": [
       "<bound method Series.count of 2192    39.78\n",
       "2193    64.99\n",
       "2194    80.60\n",
       "2195    51.80\n",
       "2196    51.80\n",
       "        ...  \n",
       "2686    70.56\n",
       "2687    86.00\n",
       "2689    45.18\n",
       "2690    46.40\n",
       "2691    53.60\n",
       "Name: Max Temperature, Length: 343, dtype: float64>"
      ]
     },
     "execution_count": 127,
     "metadata": {},
     "output_type": "execute_result"
    }
   ],
   "source": [
    "#create hemisphere dataframes\n",
    "\n",
    "north_df = weather_df.loc[weather_df['Latitude']>0]\n",
    "south_df = weather_df.loc[weather_df['Latitude']<0]\n",
    "\n",
    "x_val.count"
   ]
  },
  {
   "cell_type": "markdown",
   "metadata": {},
   "source": [
    "####  Northern Hemisphere - Max Temp vs. Latitude Linear Regression"
   ]
  },
  {
   "cell_type": "code",
   "execution_count": 133,
   "metadata": {},
   "outputs": [
    {
     "ename": "ValueError",
     "evalue": "x and y must have same first dimension, but have shapes (343,) and (1,)",
     "output_type": "error",
     "traceback": [
      "\u001b[1;31m---------------------------------------------------------------------------\u001b[0m",
      "\u001b[1;31mValueError\u001b[0m                                Traceback (most recent call last)",
      "\u001b[1;32m<ipython-input-133-39f064818ab3>\u001b[0m in \u001b[0;36m<module>\u001b[1;34m\u001b[0m\n\u001b[0;32m      7\u001b[0m \u001b[1;33m\u001b[0m\u001b[0m\n\u001b[0;32m      8\u001b[0m \u001b[0mplt\u001b[0m\u001b[1;33m.\u001b[0m\u001b[0mscatter\u001b[0m\u001b[1;33m(\u001b[0m\u001b[0mx_val\u001b[0m\u001b[1;33m,\u001b[0m\u001b[0my_val\u001b[0m\u001b[1;33m)\u001b[0m\u001b[1;33m\u001b[0m\u001b[1;33m\u001b[0m\u001b[0m\n\u001b[1;32m----> 9\u001b[1;33m \u001b[0mplt\u001b[0m\u001b[1;33m.\u001b[0m\u001b[0mplot\u001b[0m\u001b[1;33m(\u001b[0m\u001b[0mx_val\u001b[0m\u001b[1;33m,\u001b[0m \u001b[0mr\u001b[0m\u001b[1;33m)\u001b[0m\u001b[1;33m\u001b[0m\u001b[1;33m\u001b[0m\u001b[0m\n\u001b[0m\u001b[0;32m     10\u001b[0m \u001b[1;33m\u001b[0m\u001b[0m\n\u001b[0;32m     11\u001b[0m \u001b[0mplt\u001b[0m\u001b[1;33m.\u001b[0m\u001b[0mxlabel\u001b[0m\u001b[1;33m(\u001b[0m\u001b[1;34m'Latitude'\u001b[0m\u001b[1;33m)\u001b[0m\u001b[1;33m\u001b[0m\u001b[1;33m\u001b[0m\u001b[0m\n",
      "\u001b[1;32m~\\Anaconda3\\lib\\site-packages\\matplotlib\\pyplot.py\u001b[0m in \u001b[0;36mplot\u001b[1;34m(scalex, scaley, data, *args, **kwargs)\u001b[0m\n\u001b[0;32m   2759\u001b[0m \u001b[1;33m@\u001b[0m\u001b[0mdocstring\u001b[0m\u001b[1;33m.\u001b[0m\u001b[0mcopy\u001b[0m\u001b[1;33m(\u001b[0m\u001b[0mAxes\u001b[0m\u001b[1;33m.\u001b[0m\u001b[0mplot\u001b[0m\u001b[1;33m)\u001b[0m\u001b[1;33m\u001b[0m\u001b[1;33m\u001b[0m\u001b[0m\n\u001b[0;32m   2760\u001b[0m \u001b[1;32mdef\u001b[0m \u001b[0mplot\u001b[0m\u001b[1;33m(\u001b[0m\u001b[1;33m*\u001b[0m\u001b[0margs\u001b[0m\u001b[1;33m,\u001b[0m \u001b[0mscalex\u001b[0m\u001b[1;33m=\u001b[0m\u001b[1;32mTrue\u001b[0m\u001b[1;33m,\u001b[0m \u001b[0mscaley\u001b[0m\u001b[1;33m=\u001b[0m\u001b[1;32mTrue\u001b[0m\u001b[1;33m,\u001b[0m \u001b[0mdata\u001b[0m\u001b[1;33m=\u001b[0m\u001b[1;32mNone\u001b[0m\u001b[1;33m,\u001b[0m \u001b[1;33m**\u001b[0m\u001b[0mkwargs\u001b[0m\u001b[1;33m)\u001b[0m\u001b[1;33m:\u001b[0m\u001b[1;33m\u001b[0m\u001b[1;33m\u001b[0m\u001b[0m\n\u001b[1;32m-> 2761\u001b[1;33m     return gca().plot(\n\u001b[0m\u001b[0;32m   2762\u001b[0m         *args, scalex=scalex, scaley=scaley, **({\"data\": data} if data\n\u001b[0;32m   2763\u001b[0m         is not None else {}), **kwargs)\n",
      "\u001b[1;32m~\\Anaconda3\\lib\\site-packages\\matplotlib\\axes\\_axes.py\u001b[0m in \u001b[0;36mplot\u001b[1;34m(self, scalex, scaley, data, *args, **kwargs)\u001b[0m\n\u001b[0;32m   1645\u001b[0m         \"\"\"\n\u001b[0;32m   1646\u001b[0m         \u001b[0mkwargs\u001b[0m \u001b[1;33m=\u001b[0m \u001b[0mcbook\u001b[0m\u001b[1;33m.\u001b[0m\u001b[0mnormalize_kwargs\u001b[0m\u001b[1;33m(\u001b[0m\u001b[0mkwargs\u001b[0m\u001b[1;33m,\u001b[0m \u001b[0mmlines\u001b[0m\u001b[1;33m.\u001b[0m\u001b[0mLine2D\u001b[0m\u001b[1;33m)\u001b[0m\u001b[1;33m\u001b[0m\u001b[1;33m\u001b[0m\u001b[0m\n\u001b[1;32m-> 1647\u001b[1;33m         \u001b[0mlines\u001b[0m \u001b[1;33m=\u001b[0m \u001b[1;33m[\u001b[0m\u001b[1;33m*\u001b[0m\u001b[0mself\u001b[0m\u001b[1;33m.\u001b[0m\u001b[0m_get_lines\u001b[0m\u001b[1;33m(\u001b[0m\u001b[1;33m*\u001b[0m\u001b[0margs\u001b[0m\u001b[1;33m,\u001b[0m \u001b[0mdata\u001b[0m\u001b[1;33m=\u001b[0m\u001b[0mdata\u001b[0m\u001b[1;33m,\u001b[0m \u001b[1;33m**\u001b[0m\u001b[0mkwargs\u001b[0m\u001b[1;33m)\u001b[0m\u001b[1;33m]\u001b[0m\u001b[1;33m\u001b[0m\u001b[1;33m\u001b[0m\u001b[0m\n\u001b[0m\u001b[0;32m   1648\u001b[0m         \u001b[1;32mfor\u001b[0m \u001b[0mline\u001b[0m \u001b[1;32min\u001b[0m \u001b[0mlines\u001b[0m\u001b[1;33m:\u001b[0m\u001b[1;33m\u001b[0m\u001b[1;33m\u001b[0m\u001b[0m\n\u001b[0;32m   1649\u001b[0m             \u001b[0mself\u001b[0m\u001b[1;33m.\u001b[0m\u001b[0madd_line\u001b[0m\u001b[1;33m(\u001b[0m\u001b[0mline\u001b[0m\u001b[1;33m)\u001b[0m\u001b[1;33m\u001b[0m\u001b[1;33m\u001b[0m\u001b[0m\n",
      "\u001b[1;32m~\\Anaconda3\\lib\\site-packages\\matplotlib\\axes\\_base.py\u001b[0m in \u001b[0;36m__call__\u001b[1;34m(self, *args, **kwargs)\u001b[0m\n\u001b[0;32m    214\u001b[0m                 \u001b[0mthis\u001b[0m \u001b[1;33m+=\u001b[0m \u001b[0margs\u001b[0m\u001b[1;33m[\u001b[0m\u001b[1;36m0\u001b[0m\u001b[1;33m]\u001b[0m\u001b[1;33m,\u001b[0m\u001b[1;33m\u001b[0m\u001b[1;33m\u001b[0m\u001b[0m\n\u001b[0;32m    215\u001b[0m                 \u001b[0margs\u001b[0m \u001b[1;33m=\u001b[0m \u001b[0margs\u001b[0m\u001b[1;33m[\u001b[0m\u001b[1;36m1\u001b[0m\u001b[1;33m:\u001b[0m\u001b[1;33m]\u001b[0m\u001b[1;33m\u001b[0m\u001b[1;33m\u001b[0m\u001b[0m\n\u001b[1;32m--> 216\u001b[1;33m             \u001b[1;32myield\u001b[0m \u001b[1;32mfrom\u001b[0m \u001b[0mself\u001b[0m\u001b[1;33m.\u001b[0m\u001b[0m_plot_args\u001b[0m\u001b[1;33m(\u001b[0m\u001b[0mthis\u001b[0m\u001b[1;33m,\u001b[0m \u001b[0mkwargs\u001b[0m\u001b[1;33m)\u001b[0m\u001b[1;33m\u001b[0m\u001b[1;33m\u001b[0m\u001b[0m\n\u001b[0m\u001b[0;32m    217\u001b[0m \u001b[1;33m\u001b[0m\u001b[0m\n\u001b[0;32m    218\u001b[0m     \u001b[1;32mdef\u001b[0m \u001b[0mget_next_color\u001b[0m\u001b[1;33m(\u001b[0m\u001b[0mself\u001b[0m\u001b[1;33m)\u001b[0m\u001b[1;33m:\u001b[0m\u001b[1;33m\u001b[0m\u001b[1;33m\u001b[0m\u001b[0m\n",
      "\u001b[1;32m~\\Anaconda3\\lib\\site-packages\\matplotlib\\axes\\_base.py\u001b[0m in \u001b[0;36m_plot_args\u001b[1;34m(self, tup, kwargs)\u001b[0m\n\u001b[0;32m    340\u001b[0m \u001b[1;33m\u001b[0m\u001b[0m\n\u001b[0;32m    341\u001b[0m         \u001b[1;32mif\u001b[0m \u001b[0mx\u001b[0m\u001b[1;33m.\u001b[0m\u001b[0mshape\u001b[0m\u001b[1;33m[\u001b[0m\u001b[1;36m0\u001b[0m\u001b[1;33m]\u001b[0m \u001b[1;33m!=\u001b[0m \u001b[0my\u001b[0m\u001b[1;33m.\u001b[0m\u001b[0mshape\u001b[0m\u001b[1;33m[\u001b[0m\u001b[1;36m0\u001b[0m\u001b[1;33m]\u001b[0m\u001b[1;33m:\u001b[0m\u001b[1;33m\u001b[0m\u001b[1;33m\u001b[0m\u001b[0m\n\u001b[1;32m--> 342\u001b[1;33m             raise ValueError(f\"x and y must have same first dimension, but \"\n\u001b[0m\u001b[0;32m    343\u001b[0m                              f\"have shapes {x.shape} and {y.shape}\")\n\u001b[0;32m    344\u001b[0m         \u001b[1;32mif\u001b[0m \u001b[0mx\u001b[0m\u001b[1;33m.\u001b[0m\u001b[0mndim\u001b[0m \u001b[1;33m>\u001b[0m \u001b[1;36m2\u001b[0m \u001b[1;32mor\u001b[0m \u001b[0my\u001b[0m\u001b[1;33m.\u001b[0m\u001b[0mndim\u001b[0m \u001b[1;33m>\u001b[0m \u001b[1;36m2\u001b[0m\u001b[1;33m:\u001b[0m\u001b[1;33m\u001b[0m\u001b[1;33m\u001b[0m\u001b[0m\n",
      "\u001b[1;31mValueError\u001b[0m: x and y must have same first dimension, but have shapes (343,) and (1,)"
     ]
    },
    {
     "data": {
      "image/png": "[encoded data removed]",
      "text/plain": [
       "<Figure size 432x288 with 1 Axes>"
      ]
     },
     "metadata": {
      "needs_background": "light"
     },
     "output_type": "display_data"
    }
   ],
   "source": [
    "x_val = north_df['Latitude']\n",
    "y_val = north_df['Max Temperature']\n",
    "\n",
    "(slope, intercept, r, p, stderr) = linregress(x_val, y_val)\n",
    "\n",
    "reg_val = x_val * slope + intercept\n",
    "\n",
    "plt.scatter(x_val,y_val)\n",
    "plt.plot(x_val, r)\n",
    "\n",
    "plt.xlabel('Latitude')\n",
    "plt.ylabel('Max Temperature (F)')\n",
    "plt.title('Northern Hemisphere - Max Temp vs. Latitude Linear Regression')\n",
    "\n",
    "plt.show()"
   ]
  },
  {
   "cell_type": "markdown",
   "metadata": {},
   "source": [
    "####  Southern Hemisphere - Max Temp vs. Latitude Linear Regression"
   ]
  },
  {
   "cell_type": "code",
   "execution_count": 131,
   "metadata": {},
   "outputs": [
    {
     "data": {
      "text/plain": [
       "-0.8614426923036151"
      ]
     },
     "execution_count": 131,
     "metadata": {},
     "output_type": "execute_result"
    }
   ],
   "source": [
    "r"
   ]
  },
  {
   "cell_type": "code",
   "execution_count": 26,
   "metadata": {
    "collapsed": true
   },
   "outputs": [
    {
     "name": "stdout",
     "output_type": "stream",
     "text": [
      "The r-value is: 0.6082708688906918\n"
     ]
    },
    {
     "data": {
      "image/png": "[encoded data removed]",
      "text/plain": [
       "<Figure size 432x288 with 1 Axes>"
      ]
     },
     "metadata": {
      "needs_background": "light"
     },
     "output_type": "display_data"
    }
   ],
   "source": []
  },
  {
   "cell_type": "markdown",
   "metadata": {},
   "source": [
    "####  Northern Hemisphere - Humidity (%) vs. Latitude Linear Regression"
   ]
  },
  {
   "cell_type": "code",
   "execution_count": 27,
   "metadata": {
    "collapsed": true
   },
   "outputs": [
    {
     "name": "stdout",
     "output_type": "stream",
     "text": [
      "The r-value is: 0.000543987878808455\n"
     ]
    },
    {
     "data": {
      "image/png": "[encoded data removed]",
      "text/plain": [
       "<Figure size 432x288 with 1 Axes>"
      ]
     },
     "metadata": {
      "needs_background": "light"
     },
     "output_type": "display_data"
    }
   ],
   "source": []
  },
  {
   "cell_type": "markdown",
   "metadata": {},
   "source": [
    "####  Southern Hemisphere - Humidity (%) vs. Latitude Linear Regression"
   ]
  },
  {
   "cell_type": "code",
   "execution_count": 28,
   "metadata": {
    "collapsed": true
   },
   "outputs": [
    {
     "name": "stdout",
     "output_type": "stream",
     "text": [
      "The r-value is: 0.014985174297345524\n"
     ]
    },
    {
     "data": {
      "image/png": "[encoded data removed]",
      "text/plain": [
       "<Figure size 432x288 with 1 Axes>"
      ]
     },
     "metadata": {
      "needs_background": "light"
     },
     "output_type": "display_data"
    }
   ],
   "source": []
  },
  {
   "cell_type": "markdown",
   "metadata": {},
   "source": [
    "####  Northern Hemisphere - Cloudiness (%) vs. Latitude Linear Regression"
   ]
  },
  {
   "cell_type": "code",
   "execution_count": 29,
   "metadata": {
    "collapsed": true
   },
   "outputs": [
    {
     "name": "stdout",
     "output_type": "stream",
     "text": [
      "The r-value is: 0.0020898727664228514\n"
     ]
    },
    {
     "data": {
      "image/png": "[encoded data removed]",
      "text/plain": [
       "<Figure size 432x288 with 1 Axes>"
      ]
     },
     "metadata": {
      "needs_background": "light"
     },
     "output_type": "display_data"
    }
   ],
   "source": []
  },
  {
   "cell_type": "markdown",
   "metadata": {},
   "source": [
    "####  Southern Hemisphere - Cloudiness (%) vs. Latitude Linear Regression"
   ]
  },
  {
   "cell_type": "code",
   "execution_count": 30,
   "metadata": {
    "collapsed": true
   },
   "outputs": [
    {
     "name": "stdout",
     "output_type": "stream",
     "text": [
      "The r-value is: 0.0035263772085582894\n"
     ]
    },
    {
     "data": {
      "image/png": "[encoded data removed]",
      "text/plain": [
       "<Figure size 432x288 with 1 Axes>"
      ]
     },
     "metadata": {
      "needs_background": "light"
     },
     "output_type": "display_data"
    }
   ],
   "source": []
  },
  {
   "cell_type": "markdown",
   "metadata": {},
   "source": [
    "####  Northern Hemisphere - Wind Speed (mph) vs. Latitude Linear Regression"
   ]
  },
  {
   "cell_type": "code",
   "execution_count": 31,
   "metadata": {
    "collapsed": true
   },
   "outputs": [
    {
     "name": "stdout",
     "output_type": "stream",
     "text": [
      "The r-value is: 0.04019723576144484\n"
     ]
    },
    {
     "data": {
      "image/png": "[encoded data removed]",
      "text/plain": [
       "<Figure size 432x288 with 1 Axes>"
      ]
     },
     "metadata": {
      "needs_background": "light"
     },
     "output_type": "display_data"
    }
   ],
   "source": []
  },
  {
   "cell_type": "markdown",
   "metadata": {},
   "source": [
    "####  Southern Hemisphere - Wind Speed (mph) vs. Latitude Linear Regression"
   ]
  },
  {
   "cell_type": "code",
   "execution_count": 32,
   "metadata": {
    "collapsed": true
   },
   "outputs": [
    {
     "name": "stdout",
     "output_type": "stream",
     "text": [
      "The r-value is: 0.017128274759839232\n"
     ]
    },
    {
     "data": {
      "image/png": "[encoded data removed]",
      "text/plain": [
       "<Figure size 432x288 with 1 Axes>"
      ]
     },
     "metadata": {
      "needs_background": "light"
     },
     "output_type": "display_data"
    }
   ],
   "source": []
  },
  {
   "cell_type": "code",
   "execution_count": null,
   "metadata": {
    "collapsed": true
   },
   "outputs": [],
   "source": []
  }
 ],
 "metadata": {
  "anaconda-cloud": {},
  "kernel_info": {
   "name": "python3"
  },
  "kernelspec": {
   "display_name": "Python 3",
   "language": "python",
   "name": "python3"
  },
  "language_info": {
   "codemirror_mode": {
    "name": "ipython",
    "version": 3
   },
   "file_extension": ".py",
   "mimetype": "text/x-python",
   "name": "python",
   "nbconvert_exporter": "python",
   "pygments_lexer": "ipython3",
   "version": "3.8.3"
  },
  "latex_envs": {
   "LaTeX_envs_menu_present": true,
   "autoclose": false,
   "autocomplete": true,
   "bibliofile": "biblio.bib",
   "cite_by": "apalike",
   "current_citInitial": 1,
   "eqLabelWithNumbers": true,
   "eqNumInitial": 1,
   "hotkeys": {
    "equation": "Ctrl-E",
    "itemize": "Ctrl-I"
   },
   "labels_anchors": false,
   "latex_user_defs": false,
   "report_style_numbering": false,
   "user_envs_cfg": false
  },
  "nteract": {
   "version": "0.12.3"
  }
 },
 "nbformat": 4,
 "nbformat_minor": 2
}
