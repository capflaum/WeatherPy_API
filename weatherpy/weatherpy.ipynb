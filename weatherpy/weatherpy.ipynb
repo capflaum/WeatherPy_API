{
 "cells": [
  {
   "cell_type": "markdown",
   "metadata": {},
   "source": [
    "# WeatherPy\n",
    "----\n",
    "\n",
    "#### Note\n",
    "* Instructions have been included for each segment. You do not have to follow them exactly, but they are included to help you think through the steps."
   ]
  },
  {
   "cell_type": "code",
   "execution_count": 1,
   "metadata": {},
   "outputs": [
    {
     "name": "stdout",
     "output_type": "stream",
     "text": [
      "Requirement already satisfied: citipy in c:\\users\\capfl\\anaconda3\\lib\\site-packages (0.0.5)\n",
      "Requirement already satisfied: kdtree>=0.12 in c:\\users\\capfl\\anaconda3\\lib\\site-packages (from citipy) (0.16)\n",
      "Note: you may need to restart the kernel to use updated packages.\n"
     ]
    }
   ],
   "source": [
    "pip install citipy"
   ]
  },
  {
   "cell_type": "code",
   "execution_count": 3,
   "metadata": {},
   "outputs": [],
   "source": [
    "import json\n",
    "import matplotlib.pyplot as plt\n",
    "import pandas as pd\n",
    "import numpy as np\n",
    "import requests\n",
    "from scipy.stats import linregress\n",
    "\n",
    "from api_keys import weather_api_key \n",
    "from citipy import citipy"
   ]
  },
  {
   "cell_type": "code",
   "execution_count": 4,
   "metadata": {},
   "outputs": [],
   "source": [
    "output_data_file = \"output_data/cities.csv\""
   ]
  },
  {
   "cell_type": "code",
   "execution_count": 28,
   "metadata": {},
   "outputs": [],
   "source": [
    "#base_url = \"http://api.openweathermap.org/data/2.5/weather?\"\n",
    "#units = \"imperial\""
   ]
  },
  {
   "cell_type": "code",
   "execution_count": 25,
   "metadata": {
    "collapsed": true
   },
   "outputs": [],
   "source": [
    "#city_data = pd.read_csv(\"../output_data/cities.csv\")\n",
    "#city_data.head()"
   ]
  },
  {
   "cell_type": "markdown",
   "metadata": {},
   "source": [
    "## Generate Cities List"
   ]
  },
  {
   "cell_type": "code",
   "execution_count": 5,
   "metadata": {},
   "outputs": [],
   "source": [
    "#setup lists for loop\n",
    "coordinates = []\n",
    "city_list = []\n",
    "\n",
    "#find 500+ cities\n",
    "lats = np.random.uniform(low=-90.000, high=90.000, size=1300)\n",
    "lngs = np.random.uniform(low=-180.000, high=180.000, size=1300)\n",
    "coordinates = zip(lats, lngs)\n",
    "\n",
    "#loop through citipy\n",
    "for coordinates in coordinates:\n",
    "    rand_city = citipy.nearest_city(coordinates[0], coordinates[1]).city_name\n",
    "\n",
    "    if rand_city not in city_list:\n",
    "        city_list.append(rand_city)"
   ]
  },
  {
   "cell_type": "code",
   "execution_count": 6,
   "metadata": {},
   "outputs": [
    {
     "data": {
      "text/plain": [
       "'albany'"
      ]
     },
     "execution_count": 6,
     "metadata": {},
     "output_type": "execute_result"
    }
   ],
   "source": [
    "rand_city"
   ]
  },
  {
   "cell_type": "code",
   "execution_count": 7,
   "metadata": {},
   "outputs": [
    {
     "data": {
      "text/plain": [
       "561"
      ]
     },
     "execution_count": 7,
     "metadata": {},
     "output_type": "execute_result"
    }
   ],
   "source": [
    "len(city_list)"
   ]
  },
  {
   "cell_type": "markdown",
   "metadata": {},
   "source": [
    "### Perform API Calls\n",
    "* Perform a weather check on each city using a series of successive API calls.\n",
    "* Include a print log of each city as it'sbeing processed (with the city number and city name).\n"
   ]
  },
  {
   "cell_type": "code",
   "execution_count": 8,
   "metadata": {},
   "outputs": [],
   "source": [
    "#city_data.columns"
   ]
  },
  {
   "cell_type": "code",
   "execution_count": 9,
   "metadata": {},
   "outputs": [],
   "source": [
    "city_name= []\n",
    "cloudiness = []\n",
    "country = []\n",
    "date = []\n",
    "humidity = []\n",
    "lat = []\n",
    "lng = []\n",
    "max_temp = []\n",
    "wind_speed = []"
   ]
  },
  {
   "cell_type": "code",
   "execution_count": 10,
   "metadata": {},
   "outputs": [
    {
     "name": "stdout",
     "output_type": "stream",
     "text": [
      "Beginning Data Retrieval\n",
      "------------------------\n",
      "Processing Record 1 of Set 1 | busselton\n",
      "Processing Record 2 of Set 1 | killybegs\n",
      "Processing Record 3 of Set 1 | longyearbyen\n",
      "Processing Record 4 of Set 1 | halalo\n",
      "City not found. Skipping...\n",
      "Processing Record 5 of Set 1 | mataura\n",
      "Processing Record 6 of Set 1 | brokopondo\n",
      "Processing Record 7 of Set 1 | victoria\n",
      "Processing Record 8 of Set 1 | avarua\n",
      "Processing Record 9 of Set 1 | filingue\n",
      "Processing Record 10 of Set 1 | seminole\n",
      "Processing Record 11 of Set 1 | beckley\n",
      "Processing Record 12 of Set 1 | amderma\n",
      "City not found. Skipping...\n",
      "Processing Record 13 of Set 1 | krasnoselkup\n",
      "Processing Record 14 of Set 1 | zhigansk\n",
      "Processing Record 15 of Set 1 | guozhen\n",
      "Processing Record 16 of Set 1 | lavrentiya\n",
      "Processing Record 17 of Set 1 | saint-philippe\n",
      "Processing Record 18 of Set 1 | puerto ayora\n",
      "Processing Record 19 of Set 1 | dingle\n",
      "Processing Record 20 of Set 1 | pevek\n",
      "Processing Record 21 of Set 1 | illoqqortoormiut\n",
      "City not found. Skipping...\n",
      "Processing Record 22 of Set 1 | bluff\n",
      "Processing Record 23 of Set 1 | honiara\n",
      "Processing Record 24 of Set 1 | ugoofaaru\n",
      "Processing Record 25 of Set 1 | alice springs\n",
      "Processing Record 26 of Set 1 | albany\n",
      "Processing Record 27 of Set 1 | fevralsk\n",
      "City not found. Skipping...\n",
      "Processing Record 28 of Set 1 | sangueya\n",
      "Processing Record 29 of Set 1 | hermanus\n",
      "Processing Record 30 of Set 1 | provideniya\n",
      "Processing Record 31 of Set 1 | aklavik\n",
      "Processing Record 32 of Set 1 | port alfred\n",
      "Processing Record 33 of Set 1 | tiksi\n",
      "Processing Record 34 of Set 1 | sentyabrskiy\n",
      "City not found. Skipping...\n",
      "Processing Record 35 of Set 1 | rikitea\n",
      "Processing Record 36 of Set 1 | east london\n",
      "Processing Record 37 of Set 1 | makurdi\n",
      "Processing Record 38 of Set 1 | gamba\n",
      "Processing Record 39 of Set 1 | pisco\n",
      "Processing Record 40 of Set 1 | makakilo city\n",
      "Processing Record 41 of Set 1 | marienburg\n",
      "Processing Record 42 of Set 1 | dikson\n",
      "Processing Record 43 of Set 1 | formoso do araguaia\n",
      "City not found. Skipping...\n",
      "Processing Record 44 of Set 1 | belushya guba\n",
      "City not found. Skipping...\n",
      "Processing Record 45 of Set 1 | cidreira\n",
      "Processing Record 46 of Set 1 | kumano\n",
      "Processing Record 47 of Set 1 | castro\n",
      "Processing Record 48 of Set 1 | yamada\n",
      "Processing Record 49 of Set 1 | gloversville\n",
      "Processing Record 50 of Set 1 | cape town\n",
      "Processing Record 1 of Set 2 | bintulu\n",
      "Processing Record 2 of Set 2 | ushuaia\n",
      "Processing Record 3 of Set 2 | sinkat\n",
      "City not found. Skipping...\n",
      "Processing Record 4 of Set 2 | verkhnetulomskiy\n",
      "Processing Record 5 of Set 2 | sinnamary\n",
      "Processing Record 6 of Set 2 | tilichiki\n",
      "Processing Record 7 of Set 2 | severo-kurilsk\n",
      "Processing Record 8 of Set 2 | nyurba\n",
      "Processing Record 9 of Set 2 | hilo\n",
      "Processing Record 10 of Set 2 | butaritari\n",
      "Processing Record 11 of Set 2 | saskylakh\n",
      "Processing Record 12 of Set 2 | port elizabeth\n",
      "Processing Record 13 of Set 2 | beringovskiy\n",
      "Processing Record 14 of Set 2 | chokurdakh\n",
      "Processing Record 15 of Set 2 | mullaitivu\n",
      "City not found. Skipping...\n",
      "Processing Record 16 of Set 2 | coquimbo\n",
      "Processing Record 17 of Set 2 | lagoa\n",
      "Processing Record 18 of Set 2 | udachnyy\n",
      "Processing Record 19 of Set 2 | huntington\n",
      "Processing Record 20 of Set 2 | rosetown\n",
      "Processing Record 21 of Set 2 | katsuura\n",
      "Processing Record 22 of Set 2 | jalu\n",
      "Processing Record 23 of Set 2 | kidal\n",
      "Processing Record 24 of Set 2 | santa rosa\n",
      "Processing Record 25 of Set 2 | kroya\n",
      "Processing Record 26 of Set 2 | taolanaro\n",
      "City not found. Skipping...\n",
      "Processing Record 27 of Set 2 | kachug\n",
      "Processing Record 28 of Set 2 | hobart\n",
      "Processing Record 29 of Set 2 | srednekolymsk\n",
      "Processing Record 30 of Set 2 | isangel\n",
      "Processing Record 31 of Set 2 | tumannyy\n",
      "City not found. Skipping...\n",
      "Processing Record 32 of Set 2 | dzerzhinskiy\n",
      "Processing Record 33 of Set 2 | sochaczew\n",
      "Processing Record 34 of Set 2 | port lincoln\n",
      "Processing Record 35 of Set 2 | miri\n",
      "Processing Record 36 of Set 2 | maniitsoq\n",
      "Processing Record 37 of Set 2 | punta arenas\n",
      "Processing Record 38 of Set 2 | ilhabela\n",
      "Processing Record 39 of Set 2 | jadu\n",
      "Processing Record 40 of Set 2 | los llanos de aridane\n",
      "Processing Record 41 of Set 2 | galgani\n",
      "City not found. Skipping...\n",
      "Processing Record 42 of Set 2 | georgetown\n",
      "Processing Record 43 of Set 2 | labutta\n",
      "City not found. Skipping...\n",
      "Processing Record 44 of Set 2 | vaini\n",
      "Processing Record 45 of Set 2 | komsomolskiy\n",
      "Processing Record 46 of Set 2 | marzuq\n",
      "Processing Record 47 of Set 2 | labuhan\n",
      "Processing Record 48 of Set 2 | kahului\n",
      "Processing Record 49 of Set 2 | ahipara\n",
      "Processing Record 50 of Set 2 | lasa\n",
      "Processing Record 1 of Set 3 | kaitangata\n",
      "Processing Record 2 of Set 3 | mildura\n",
      "Processing Record 3 of Set 3 | talcahuano\n",
      "Processing Record 4 of Set 3 | tautira\n",
      "Processing Record 5 of Set 3 | morondava\n",
      "Processing Record 6 of Set 3 | port keats\n",
      "Processing Record 7 of Set 3 | palabuhanratu\n",
      "City not found. Skipping...\n",
      "Processing Record 8 of Set 3 | kalmunai\n",
      "Processing Record 9 of Set 3 | mar del plata\n",
      "Processing Record 10 of Set 3 | padang\n",
      "Processing Record 11 of Set 3 | kosh-agach\n",
      "Processing Record 12 of Set 3 | saldanha\n",
      "Processing Record 13 of Set 3 | hasaki\n",
      "Processing Record 14 of Set 3 | kapaa\n",
      "Processing Record 15 of Set 3 | mae sot\n",
      "Processing Record 16 of Set 3 | grand centre\n",
      "City not found. Skipping...\n",
      "Processing Record 17 of Set 3 | arraial do cabo\n",
      "Processing Record 18 of Set 3 | mount isa\n",
      "Processing Record 19 of Set 3 | dzhusaly\n",
      "City not found. Skipping...\n",
      "Processing Record 20 of Set 3 | meyungs\n",
      "City not found. Skipping...\n",
      "Processing Record 21 of Set 3 | jarjis\n",
      "City not found. Skipping...\n",
      "Processing Record 22 of Set 3 | souillac\n",
      "Processing Record 23 of Set 3 | bredasdorp\n",
      "Processing Record 24 of Set 3 | broken hill\n",
      "Processing Record 25 of Set 3 | cheltenham\n",
      "Processing Record 26 of Set 3 | chuy\n",
      "Processing Record 27 of Set 3 | oyon\n",
      "Processing Record 28 of Set 3 | hamilton\n",
      "Processing Record 29 of Set 3 | merauke\n",
      "Processing Record 30 of Set 3 | oshikango\n",
      "Processing Record 31 of Set 3 | dawei\n",
      "Processing Record 32 of Set 3 | betioky\n",
      "Processing Record 33 of Set 3 | sitka\n",
      "Processing Record 34 of Set 3 | laguna\n",
      "Processing Record 35 of Set 3 | saint-augustin\n",
      "Processing Record 36 of Set 3 | khudumelapye\n",
      "Processing Record 37 of Set 3 | vila franca do campo\n",
      "Processing Record 38 of Set 3 | nhulunbuy\n",
      "Processing Record 39 of Set 3 | clyde river\n",
      "Processing Record 40 of Set 3 | hoquiam\n",
      "Processing Record 41 of Set 3 | labrea\n",
      "Processing Record 42 of Set 3 | barentsburg\n",
      "City not found. Skipping...\n",
      "Processing Record 43 of Set 3 | mapiripan\n",
      "Processing Record 44 of Set 3 | atuona\n",
      "Processing Record 45 of Set 3 | nantucket\n",
      "Processing Record 46 of Set 3 | hithadhoo\n",
      "Processing Record 47 of Set 3 | viligili\n",
      "City not found. Skipping...\n",
      "Processing Record 48 of Set 3 | praia\n",
      "Processing Record 49 of Set 3 | imeni babushkina\n",
      "Processing Record 50 of Set 3 | jamestown\n",
      "Processing Record 1 of Set 4 | nikolskoye\n",
      "Processing Record 2 of Set 4 | tasbuget\n",
      "City not found. Skipping...\n",
      "Processing Record 3 of Set 4 | semey\n",
      "Processing Record 4 of Set 4 | sapulpa\n",
      "Processing Record 5 of Set 4 | gaurnadi\n",
      "Processing Record 6 of Set 4 | araouane\n",
      "Processing Record 7 of Set 4 | astana\n",
      "Processing Record 8 of Set 4 | tasiilaq\n",
      "Processing Record 9 of Set 4 | new norfolk\n",
      "Processing Record 10 of Set 4 | gorontalo\n",
      "Processing Record 11 of Set 4 | huarmey\n",
      "Processing Record 12 of Set 4 | san carlos de bariloche\n",
      "Processing Record 13 of Set 4 | beyneu\n",
      "Processing Record 14 of Set 4 | sumbe\n",
      "Processing Record 15 of Set 4 | lebu\n",
      "Processing Record 16 of Set 4 | virginia beach\n",
      "Processing Record 17 of Set 4 | tutoia\n",
      "Processing Record 18 of Set 4 | esperance\n",
      "Processing Record 19 of Set 4 | chato\n",
      "Processing Record 20 of Set 4 | liepaja\n",
      "Processing Record 21 of Set 4 | upernavik\n",
      "Processing Record 22 of Set 4 | klaksvik\n",
      "Processing Record 23 of Set 4 | codrington\n",
      "Processing Record 24 of Set 4 | kudahuvadhoo\n",
      "Processing Record 25 of Set 4 | tuktoyaktuk\n",
      "Processing Record 26 of Set 4 | faya\n",
      "Processing Record 27 of Set 4 | sao miguel do araguaia\n",
      "Processing Record 28 of Set 4 | carnarvon\n",
      "Processing Record 29 of Set 4 | aquiraz\n",
      "Processing Record 30 of Set 4 | praya\n",
      "Processing Record 31 of Set 4 | port hardy\n",
      "Processing Record 32 of Set 4 | takahagi\n"
     ]
    },
    {
     "name": "stdout",
     "output_type": "stream",
     "text": [
      "Processing Record 33 of Set 4 | leh\n",
      "Processing Record 34 of Set 4 | kodiak\n",
      "Processing Record 35 of Set 4 | ponta do sol\n",
      "Processing Record 36 of Set 4 | bathsheba\n",
      "Processing Record 37 of Set 4 | mahebourg\n",
      "Processing Record 38 of Set 4 | mojo\n",
      "Processing Record 39 of Set 4 | manicore\n",
      "Processing Record 40 of Set 4 | college\n",
      "Processing Record 41 of Set 4 | presidencia roque saenz pena\n",
      "Processing Record 42 of Set 4 | zabol\n",
      "Processing Record 43 of Set 4 | phan rang\n",
      "City not found. Skipping...\n",
      "Processing Record 44 of Set 4 | geraldton\n",
      "Processing Record 45 of Set 4 | diu\n",
      "Processing Record 46 of Set 4 | rudnya\n",
      "Processing Record 47 of Set 4 | sompeta\n",
      "Processing Record 48 of Set 4 | celestun\n",
      "Processing Record 49 of Set 4 | salinopolis\n",
      "Processing Record 50 of Set 4 | kibala\n",
      "Processing Record 1 of Set 5 | matara\n",
      "Processing Record 2 of Set 5 | saint george\n",
      "Processing Record 3 of Set 5 | catia la mar\n",
      "Processing Record 4 of Set 5 | iqaluit\n",
      "Processing Record 5 of Set 5 | borovoy\n",
      "Processing Record 6 of Set 5 | lakhtar\n",
      "Processing Record 7 of Set 5 | ipixuna\n",
      "Processing Record 8 of Set 5 | faanui\n",
      "Processing Record 9 of Set 5 | leningradskiy\n",
      "Processing Record 10 of Set 5 | iracoubo\n",
      "Processing Record 11 of Set 5 | la ronge\n",
      "Processing Record 12 of Set 5 | naze\n",
      "Processing Record 13 of Set 5 | luderitz\n",
      "Processing Record 14 of Set 5 | camacha\n",
      "Processing Record 15 of Set 5 | chikoy\n",
      "City not found. Skipping...\n",
      "Processing Record 16 of Set 5 | la rioja\n",
      "Processing Record 17 of Set 5 | dinghai\n",
      "Processing Record 18 of Set 5 | rodrigues alves\n",
      "Processing Record 19 of Set 5 | vangaindrano\n",
      "Processing Record 20 of Set 5 | paamiut\n",
      "Processing Record 21 of Set 5 | winslow\n",
      "Processing Record 22 of Set 5 | dabakala\n",
      "Processing Record 23 of Set 5 | mocambique\n",
      "City not found. Skipping...\n",
      "Processing Record 24 of Set 5 | vylgort\n",
      "City not found. Skipping...\n",
      "Processing Record 25 of Set 5 | thompson\n",
      "Processing Record 26 of Set 5 | carballo\n",
      "Processing Record 27 of Set 5 | khatanga\n",
      "Processing Record 28 of Set 5 | puerto el triunfo\n",
      "Processing Record 29 of Set 5 | sultepec\n",
      "Processing Record 30 of Set 5 | nizhneyansk\n",
      "City not found. Skipping...\n",
      "Processing Record 31 of Set 5 | seddon\n",
      "Processing Record 32 of Set 5 | conceicao da barra\n",
      "Processing Record 33 of Set 5 | kruisfontein\n",
      "Processing Record 34 of Set 5 | cordoba\n",
      "Processing Record 35 of Set 5 | deputatskiy\n",
      "Processing Record 36 of Set 5 | puro\n",
      "Processing Record 37 of Set 5 | lompoc\n",
      "Processing Record 38 of Set 5 | barrow\n",
      "Processing Record 39 of Set 5 | nome\n",
      "Processing Record 40 of Set 5 | walvis bay\n",
      "Processing Record 41 of Set 5 | divnomorskoye\n",
      "Processing Record 42 of Set 5 | adrar\n",
      "Processing Record 43 of Set 5 | buala\n",
      "Processing Record 44 of Set 5 | cherskiy\n",
      "Processing Record 45 of Set 5 | gunjur\n",
      "Processing Record 46 of Set 5 | samarai\n",
      "Processing Record 47 of Set 5 | aflu\n",
      "City not found. Skipping...\n",
      "Processing Record 48 of Set 5 | arawa\n",
      "Processing Record 49 of Set 5 | ierapetra\n",
      "Processing Record 50 of Set 5 | ituni\n",
      "City not found. Skipping...\n",
      "Processing Record 1 of Set 6 | osmena\n",
      "Processing Record 2 of Set 6 | shcholkine\n",
      "City not found. Skipping...\n",
      "Processing Record 3 of Set 6 | burgeo\n",
      "Processing Record 4 of Set 6 | airai\n",
      "Processing Record 5 of Set 6 | yellowknife\n",
      "Processing Record 6 of Set 6 | trat\n",
      "Processing Record 7 of Set 6 | hihifo\n",
      "City not found. Skipping...\n",
      "Processing Record 8 of Set 6 | kavaratti\n",
      "Processing Record 9 of Set 6 | jiayuguan\n",
      "Processing Record 10 of Set 6 | san patricio\n",
      "Processing Record 11 of Set 6 | sainte-suzanne\n",
      "Processing Record 12 of Set 6 | am timan\n",
      "Processing Record 13 of Set 6 | pangnirtung\n",
      "Processing Record 14 of Set 6 | broome\n",
      "Processing Record 15 of Set 6 | chumikan\n",
      "Processing Record 16 of Set 6 | dunedin\n",
      "Processing Record 17 of Set 6 | goderich\n",
      "Processing Record 18 of Set 6 | necochea\n",
      "Processing Record 19 of Set 6 | vaitupu\n",
      "City not found. Skipping...\n",
      "Processing Record 20 of Set 6 | portobelo\n",
      "Processing Record 21 of Set 6 | grand river south east\n",
      "City not found. Skipping...\n",
      "Processing Record 22 of Set 6 | george\n",
      "Processing Record 23 of Set 6 | hovd\n",
      "Processing Record 24 of Set 6 | mayumba\n",
      "Processing Record 25 of Set 6 | norman wells\n",
      "Processing Record 26 of Set 6 | waingapu\n",
      "Processing Record 27 of Set 6 | lufilufi\n",
      "Processing Record 28 of Set 6 | arlit\n",
      "Processing Record 29 of Set 6 | acapulco\n",
      "Processing Record 30 of Set 6 | cayenne\n",
      "Processing Record 31 of Set 6 | zyryanovsk\n",
      "Processing Record 32 of Set 6 | metro\n",
      "Processing Record 33 of Set 6 | puerto colombia\n",
      "Processing Record 34 of Set 6 | tsovazard\n",
      "Processing Record 35 of Set 6 | pullampadi\n",
      "City not found. Skipping...\n",
      "Processing Record 36 of Set 6 | bria\n",
      "Processing Record 37 of Set 6 | suruc\n",
      "Processing Record 38 of Set 6 | saint-pierre\n",
      "Processing Record 39 of Set 6 | pacific grove\n",
      "Processing Record 40 of Set 6 | vao\n",
      "Processing Record 41 of Set 6 | novyy urengoy\n",
      "Processing Record 42 of Set 6 | tyrma\n",
      "Processing Record 43 of Set 6 | bamiantong\n",
      "Processing Record 44 of Set 6 | ribeira grande\n",
      "Processing Record 45 of Set 6 | honningsvag\n",
      "Processing Record 46 of Set 6 | kjollefjord\n",
      "Processing Record 47 of Set 6 | vilhena\n",
      "Processing Record 48 of Set 6 | mastic beach\n",
      "Processing Record 49 of Set 6 | wahiawa\n",
      "Processing Record 50 of Set 6 | haines junction\n",
      "Processing Record 1 of Set 7 | samusu\n",
      "City not found. Skipping...\n",
      "Processing Record 2 of Set 7 | aksu\n",
      "Processing Record 3 of Set 7 | aporawan\n",
      "City not found. Skipping...\n",
      "Processing Record 4 of Set 7 | kiruna\n",
      "Processing Record 5 of Set 7 | sokolo\n",
      "Processing Record 6 of Set 7 | kondopoga\n",
      "Processing Record 7 of Set 7 | langsa\n",
      "Processing Record 8 of Set 7 | ola\n",
      "Processing Record 9 of Set 7 | safranbolu\n",
      "Processing Record 10 of Set 7 | shahr-e babak\n",
      "Processing Record 11 of Set 7 | tsihombe\n",
      "City not found. Skipping...\n",
      "Processing Record 12 of Set 7 | bartlesville\n",
      "Processing Record 13 of Set 7 | matay\n",
      "Processing Record 14 of Set 7 | san policarpo\n",
      "Processing Record 15 of Set 7 | opuwo\n",
      "Processing Record 16 of Set 7 | high level\n",
      "Processing Record 17 of Set 7 | san juan del sur\n",
      "Processing Record 18 of Set 7 | bambous virieux\n",
      "Processing Record 19 of Set 7 | bethanien\n",
      "Processing Record 20 of Set 7 | ewa beach\n",
      "Processing Record 21 of Set 7 | sorland\n",
      "Processing Record 22 of Set 7 | te anau\n",
      "Processing Record 23 of Set 7 | matamoros\n",
      "Processing Record 24 of Set 7 | manacor\n",
      "Processing Record 25 of Set 7 | qiongshan\n",
      "Processing Record 26 of Set 7 | ryotsu\n",
      "Processing Record 27 of Set 7 | havoysund\n",
      "Processing Record 28 of Set 7 | beloha\n",
      "Processing Record 29 of Set 7 | ha tinh\n",
      "Processing Record 30 of Set 7 | touros\n",
      "Processing Record 31 of Set 7 | luwuk\n",
      "Processing Record 32 of Set 7 | samalaeulu\n",
      "City not found. Skipping...\n",
      "Processing Record 33 of Set 7 | khonuu\n",
      "City not found. Skipping...\n",
      "Processing Record 34 of Set 7 | brus laguna\n",
      "Processing Record 35 of Set 7 | zaraza\n",
      "Processing Record 36 of Set 7 | baruun-urt\n",
      "Processing Record 37 of Set 7 | mys shmidta\n",
      "City not found. Skipping...\n",
      "Processing Record 38 of Set 7 | bereda\n",
      "Processing Record 39 of Set 7 | cambados\n",
      "Processing Record 40 of Set 7 | livingston\n",
      "Processing Record 41 of Set 7 | coahuayana\n",
      "Processing Record 42 of Set 7 | yelets\n",
      "Processing Record 43 of Set 7 | ancud\n",
      "Processing Record 44 of Set 7 | solnechnyy\n",
      "Processing Record 45 of Set 7 | namibe\n",
      "Processing Record 46 of Set 7 | brae\n",
      "Processing Record 47 of Set 7 | ilulissat\n",
      "Processing Record 48 of Set 7 | shache\n",
      "Processing Record 49 of Set 7 | fortuna\n",
      "Processing Record 50 of Set 7 | senftenberg\n",
      "Processing Record 1 of Set 8 | taree\n",
      "Processing Record 2 of Set 8 | chapais\n",
      "Processing Record 3 of Set 8 | zhangzhou\n",
      "Processing Record 4 of Set 8 | bol\n",
      "Processing Record 5 of Set 8 | biak\n",
      "Processing Record 6 of Set 8 | safaqis\n",
      "City not found. Skipping...\n",
      "Processing Record 7 of Set 8 | paris\n",
      "Processing Record 8 of Set 8 | bengkulu\n",
      "Processing Record 9 of Set 8 | bur gabo\n",
      "City not found. Skipping...\n",
      "Processing Record 10 of Set 8 | clarence town\n",
      "Processing Record 11 of Set 8 | salinas\n",
      "Processing Record 12 of Set 8 | madingou\n",
      "Processing Record 13 of Set 8 | nanortalik\n",
      "Processing Record 14 of Set 8 | cap malheureux\n",
      "Processing Record 15 of Set 8 | yanam\n",
      "Processing Record 16 of Set 8 | saint-georges\n",
      "Processing Record 17 of Set 8 | tazmalt\n",
      "Processing Record 18 of Set 8 | louisbourg\n",
      "City not found. Skipping...\n"
     ]
    },
    {
     "name": "stdout",
     "output_type": "stream",
     "text": [
      "Processing Record 19 of Set 8 | tuatapere\n",
      "Processing Record 20 of Set 8 | mitsamiouli\n",
      "Processing Record 21 of Set 8 | caravelas\n",
      "Processing Record 22 of Set 8 | azimur\n",
      "City not found. Skipping...\n",
      "Processing Record 23 of Set 8 | taywarah\n",
      "Processing Record 24 of Set 8 | mora\n",
      "Processing Record 25 of Set 8 | sarangani\n",
      "Processing Record 26 of Set 8 | dubbo\n",
      "Processing Record 27 of Set 8 | kamenskoye\n",
      "City not found. Skipping...\n",
      "Processing Record 28 of Set 8 | bolshegrivskoye\n",
      "City not found. Skipping...\n",
      "Processing Record 29 of Set 8 | wang saphung\n",
      "Processing Record 30 of Set 8 | guhagar\n",
      "Processing Record 31 of Set 8 | fukue\n",
      "Processing Record 32 of Set 8 | aberdeen\n",
      "Processing Record 33 of Set 8 | robertsport\n",
      "Processing Record 34 of Set 8 | dharchula\n",
      "Processing Record 35 of Set 8 | kieta\n",
      "Processing Record 36 of Set 8 | ostrovnoy\n",
      "Processing Record 37 of Set 8 | saint-joseph\n",
      "Processing Record 38 of Set 8 | kijang\n",
      "Processing Record 39 of Set 8 | half moon bay\n",
      "Processing Record 40 of Set 8 | evensk\n",
      "Processing Record 41 of Set 8 | port hedland\n",
      "Processing Record 42 of Set 8 | himora\n",
      "City not found. Skipping...\n",
      "Processing Record 43 of Set 8 | alexandria\n",
      "Processing Record 44 of Set 8 | gualaca\n",
      "Processing Record 45 of Set 8 | thessalon\n",
      "Processing Record 46 of Set 8 | san-pedro\n",
      "Processing Record 47 of Set 8 | qaanaaq\n",
      "Processing Record 48 of Set 8 | kolosovka\n",
      "Processing Record 49 of Set 8 | kupang\n",
      "Processing Record 50 of Set 8 | albanel\n",
      "Processing Record 1 of Set 9 | manbij\n",
      "Processing Record 2 of Set 9 | mount gambier\n",
      "Processing Record 3 of Set 9 | garmsar\n",
      "Processing Record 4 of Set 9 | itoman\n",
      "Processing Record 5 of Set 9 | jiddah\n",
      "City not found. Skipping...\n",
      "Processing Record 6 of Set 9 | scunthorpe\n",
      "Processing Record 7 of Set 9 | ust-kut\n",
      "Processing Record 8 of Set 9 | mananjary\n",
      "Processing Record 9 of Set 9 | skibbereen\n",
      "Processing Record 10 of Set 9 | tarrafal\n",
      "Processing Record 11 of Set 9 | ondangwa\n",
      "Processing Record 12 of Set 9 | bethel\n",
      "Processing Record 13 of Set 9 | teya\n",
      "Processing Record 14 of Set 9 | lodja\n",
      "Processing Record 15 of Set 9 | aleksandrovskiy zavod\n",
      "Processing Record 16 of Set 9 | dolbeau\n",
      "City not found. Skipping...\n",
      "Processing Record 17 of Set 9 | calama\n",
      "Processing Record 18 of Set 9 | houma\n",
      "Processing Record 19 of Set 9 | divinopolis\n",
      "Processing Record 20 of Set 9 | cumra\n",
      "Processing Record 21 of Set 9 | ofunato\n",
      "Processing Record 22 of Set 9 | pudozh\n",
      "Processing Record 23 of Set 9 | banda aceh\n",
      "Processing Record 24 of Set 9 | la brea\n",
      "Processing Record 25 of Set 9 | dondo\n",
      "Processing Record 26 of Set 9 | cascais\n",
      "Processing Record 27 of Set 9 | port blair\n",
      "Processing Record 28 of Set 9 | yerbogachen\n",
      "Processing Record 29 of Set 9 | bubaque\n",
      "Processing Record 30 of Set 9 | valparaiso\n",
      "Processing Record 31 of Set 9 | sao filipe\n",
      "Processing Record 32 of Set 9 | svirstroy\n",
      "Processing Record 33 of Set 9 | xingyi\n",
      "Processing Record 34 of Set 9 | san quintin\n",
      "Processing Record 35 of Set 9 | peniche\n",
      "Processing Record 36 of Set 9 | miraflores\n",
      "Processing Record 37 of Set 9 | akyab\n",
      "Processing Record 38 of Set 9 | kaura namoda\n",
      "Processing Record 39 of Set 9 | beira\n",
      "Processing Record 40 of Set 9 | ilo\n",
      "Processing Record 41 of Set 9 | marsh harbour\n",
      "Processing Record 42 of Set 9 | ambodifototra\n",
      "City not found. Skipping...\n",
      "Processing Record 43 of Set 9 | tongliao\n",
      "Processing Record 44 of Set 9 | kaoma\n",
      "Processing Record 45 of Set 9 | turbat\n",
      "Processing Record 46 of Set 9 | fare\n",
      "Processing Record 47 of Set 9 | hongjiang\n",
      "Processing Record 48 of Set 9 | krasnoyarsk-45\n",
      "City not found. Skipping...\n",
      "Processing Record 49 of Set 9 | olafsvik\n",
      "Processing Record 50 of Set 9 | osorno\n",
      "Processing Record 1 of Set 10 | ngara\n",
      "Processing Record 2 of Set 10 | aguia branca\n",
      "Processing Record 3 of Set 10 | yar-sale\n",
      "Processing Record 4 of Set 10 | fukuma\n",
      "Processing Record 5 of Set 10 | mirnyy\n",
      "Processing Record 6 of Set 10 | poltavka\n",
      "Processing Record 7 of Set 10 | wangqing\n",
      "Processing Record 8 of Set 10 | saint anthony\n",
      "Processing Record 9 of Set 10 | torbay\n",
      "Processing Record 10 of Set 10 | buncrana\n",
      "Processing Record 11 of Set 10 | toora-khem\n",
      "Processing Record 12 of Set 10 | raudeberg\n",
      "Processing Record 13 of Set 10 | tuxtepec\n",
      "Processing Record 14 of Set 10 | san andres\n",
      "Processing Record 15 of Set 10 | sakakah\n",
      "Processing Record 16 of Set 10 | miranorte\n",
      "City not found. Skipping...\n",
      "Processing Record 17 of Set 10 | berlevag\n",
      "Processing Record 18 of Set 10 | talnakh\n",
      "Processing Record 19 of Set 10 | angoche\n",
      "Processing Record 20 of Set 10 | banyo\n",
      "Processing Record 21 of Set 10 | bonavista\n",
      "Processing Record 22 of Set 10 | bela palanka\n",
      "Processing Record 23 of Set 10 | eydhafushi\n",
      "Processing Record 24 of Set 10 | irbit\n",
      "Processing Record 25 of Set 10 | carutapera\n",
      "Processing Record 26 of Set 10 | bingol\n",
      "Processing Record 27 of Set 10 | plettenberg bay\n",
      "Processing Record 28 of Set 10 | kavieng\n",
      "Processing Record 29 of Set 10 | creston\n",
      "Processing Record 30 of Set 10 | mandalgovi\n",
      "Processing Record 31 of Set 10 | kharian\n",
      "Processing Record 32 of Set 10 | sandwick\n",
      "Processing Record 33 of Set 10 | paoua\n",
      "Processing Record 34 of Set 10 | saint-denis\n",
      "Processing Record 35 of Set 10 | whitehorse\n",
      "Processing Record 36 of Set 10 | yermish\n",
      "Processing Record 37 of Set 10 | stykkisholmur\n",
      "Processing Record 38 of Set 10 | tigre\n",
      "Processing Record 39 of Set 10 | menongue\n",
      "Processing Record 40 of Set 10 | maragogi\n",
      "Processing Record 41 of Set 10 | humberto de campos\n",
      "Processing Record 42 of Set 10 | velesta\n",
      "Processing Record 43 of Set 10 | general pico\n",
      "Processing Record 44 of Set 10 | pasni\n",
      "Processing Record 45 of Set 10 | cabo san lucas\n",
      "Processing Record 46 of Set 10 | saint-louis\n",
      "Processing Record 47 of Set 10 | acarau\n",
      "Processing Record 48 of Set 10 | french harbor\n",
      "Processing Record 49 of Set 10 | margate\n",
      "Processing Record 50 of Set 10 | senanga\n",
      "Processing Record 1 of Set 11 | turinskaya sloboda\n",
      "Processing Record 2 of Set 11 | hauterive\n",
      "Processing Record 3 of Set 11 | north bend\n",
      "Processing Record 4 of Set 11 | mrirt\n",
      "City not found. Skipping...\n",
      "Processing Record 5 of Set 11 | constitucion\n",
      "Processing Record 6 of Set 11 | sao joao da barra\n",
      "Processing Record 7 of Set 11 | aswan\n",
      "Processing Record 8 of Set 11 | bara\n",
      "Processing Record 9 of Set 11 | davila\n",
      "Processing Record 10 of Set 11 | najran\n",
      "Processing Record 11 of Set 11 | vondrozo\n",
      "Processing Record 12 of Set 11 | tomatlan\n",
      "Processing Record 13 of Set 11 | burnie\n",
      "Processing Record 14 of Set 11 | usinsk\n",
      "Processing Record 15 of Set 11 | wanning\n",
      "Processing Record 16 of Set 11 | paysandu\n",
      "Processing Record 17 of Set 11 | correntina\n",
      "Processing Record 18 of Set 11 | jawhar\n",
      "Processing Record 19 of Set 11 | isla mujeres\n",
      "Processing Record 20 of Set 11 | kawana waters\n",
      "City not found. Skipping...\n",
      "Processing Record 21 of Set 11 | awjilah\n",
      "Processing Record 22 of Set 11 | kapit\n",
      "Processing Record 23 of Set 11 | aksakovo\n",
      "Processing Record 24 of Set 11 | cubuk\n",
      "Processing Record 25 of Set 11 | ezhou\n",
      "Processing Record 26 of Set 11 | ketchikan\n",
      "Processing Record 27 of Set 11 | mattru\n",
      "Processing Record 28 of Set 11 | tual\n",
      "Processing Record 29 of Set 11 | maceio\n",
      "Processing Record 30 of Set 11 | anito\n",
      "Processing Record 31 of Set 11 | palmer\n",
      "Processing Record 32 of Set 11 | rocha\n",
      "Processing Record 33 of Set 11 | griffith\n",
      "Processing Record 34 of Set 11 | karaul\n",
      "City not found. Skipping...\n",
      "Processing Record 35 of Set 11 | concarneau\n",
      "Processing Record 36 of Set 11 | tsumeb\n",
      "Processing Record 37 of Set 11 | kloulklubed\n",
      "Processing Record 38 of Set 11 | rungata\n",
      "City not found. Skipping...\n",
      "Processing Record 39 of Set 11 | lorengau\n",
      "Processing Record 40 of Set 11 | phalia\n",
      "Processing Record 41 of Set 11 | kyenjojo\n",
      "Processing Record 42 of Set 11 | vardo\n",
      "Processing Record 43 of Set 11 | lolua\n",
      "City not found. Skipping...\n",
      "Processing Record 44 of Set 11 | kwale\n",
      "Processing Record 45 of Set 11 | katherine\n",
      "Processing Record 46 of Set 11 | quelimane\n",
      "Processing Record 47 of Set 11 | pucallpa\n",
      "Processing Record 48 of Set 11 | male\n",
      "Processing Record 49 of Set 11 | assiniboia\n",
      "Processing Record 50 of Set 11 | ascension\n",
      "Processing Record 1 of Set 12 | polunochnoye\n",
      "Processing Record 2 of Set 12 | gat\n",
      "Processing Record 3 of Set 12 | kuusamo\n",
      "Processing Record 4 of Set 12 | yanan\n",
      "City not found. Skipping...\n",
      "Processing Record 5 of Set 12 | daru\n",
      "Processing Record 6 of Set 12 | ust-maya\n"
     ]
    },
    {
     "name": "stdout",
     "output_type": "stream",
     "text": [
      "Processing Record 7 of Set 12 | husavik\n",
      "Processing Record 8 of Set 12 | ano poroia\n",
      "Processing Record 9 of Set 12 | narsaq\n",
      "Processing Record 10 of Set 12 | eskasem\n",
      "City not found. Skipping...\n",
      "Processing Record 11 of Set 12 | coihaique\n",
      "-------------------------\n",
      "Data Retrieval Complete\n"
     ]
    }
   ],
   "source": [
    "set_count = 1\n",
    "record = 0\n",
    "url = \"http://api.openweathermap.org/data/2.5/weather?\"\n",
    "units = \"imperial\" \n",
    "\n",
    "print('Beginning Data Retrieval')\n",
    "print('------------------------')\n",
    "\n",
    "for city in city_list:\n",
    "    \n",
    "    query_url = url + \"appid=\" + weather_api_key + \"&q=\" + city + \"&units=\" + units\n",
    "    response = requests.get(query_url).json()\n",
    "    \n",
    "    if record < 50:\n",
    "        record += 1\n",
    "    else:\n",
    "        set_count += 1\n",
    "        record = 1\n",
    "\n",
    "    print(f\"Processing Record {record} of Set {set_count} | {city}\")\n",
    "    \n",
    "    try:\n",
    "        city_name.append(response['name'])\n",
    "        cloudiness.append(response['clouds']['all'])\n",
    "        country.append(response['sys']['country'])\n",
    "        date.append(response['dt'])\n",
    "        humidity.append(response['main']['humidity'])\n",
    "        lat.append(response['coord']['lat'])\n",
    "        lng.append(response['coord']['lon'])\n",
    "        max_temp.append(response['main']['temp_max'])\n",
    "        wind_speed.append(response['wind']['speed'])\n",
    "        \n",
    "    except:\n",
    "        print(\"City not found. Skipping...\")\n",
    "        pass\n",
    "\n",
    "print('-------------------------')\n",
    "print('Data Retrieval Complete')"
   ]
  },
  {
   "cell_type": "raw",
   "metadata": {},
   "source": [
    "#Tried interrows briefly\n",
    "\n",
    "#Need to create a Dataframe for data from interrows loop\n",
    "city_data[\"City_ID\"] = \"\"\n",
    "city_data[\"City\"] = \"\"\n",
    "city_data[\"Cloudiness\"] = \"\"\n",
    "city_data[\"Country\"] = \"\"\n",
    "city_data[\"Date\"] = \"\"\n",
    "city_data[\"Humidity\"] = \"\"\n",
    "city_data[\"Lat\"] = \"\"\n",
    "city_data[\"Lng\"] = \"\"\n",
    "city_data[\"Max Temp\"] = \"\"\n",
    "city_data[\"Wind Speed\"] = \"\"\n",
    "\n",
    "for index, row in city_data.iterrows():\n",
    "    url = base_url + \"appid=\" + weather_api_key + \"&q=\" + rand_city + \"&units=\" + units\n",
    "    response = requests.get(url).json()\n",
    "\n",
    "    city_data.loc[index, \"City\"] = response[\"sys\"][\"country\"]     \n",
    "    city_data.loc[index, \"Cloudiness\"] = response[\"clouds\"][\"all\"]\n",
    "    city_data.loc[index, \"Country\"] = response[\"sys\"][\"country\"]     \n",
    "    city_data.loc[index, \"Date\"] = (response[\"dt\"])\n",
    "    city_data.loc[index, \"Humidity\"] = response[\"main\"][\"humidity\"]\n",
    "    city_data.loc[index, \"Lat\"] = response[\"coord\"][\"lat\"] \n",
    "    city_data.loc[index, \"Lng\"] = response[\"coord\"][\"lon\"]\n",
    "    city_data.loc[index, \"Max Temp\"] = (response[\"main\"][\"temp_max\"])\n",
    "    city_data.loc[index, \"Wind Speed\"] = response[\"wind\"][\"speed\"]"
   ]
  },
  {
   "cell_type": "markdown",
   "metadata": {},
   "source": [
    "### Convert Raw Data to DataFrame\n",
    "* Export the city data into a .csv.\n",
    "* Display the DataFrame"
   ]
  },
  {
   "cell_type": "code",
   "execution_count": 11,
   "metadata": {},
   "outputs": [
    {
     "data": {
      "text/html": [
       "<div>\n",
       "<style scoped>\n",
       "    .dataframe tbody tr th:only-of-type {\n",
       "        vertical-align: middle;\n",
       "    }\n",
       "\n",
       "    .dataframe tbody tr th {\n",
       "        vertical-align: top;\n",
       "    }\n",
       "\n",
       "    .dataframe thead th {\n",
       "        text-align: right;\n",
       "    }\n",
       "</style>\n",
       "<table border=\"1\" class=\"dataframe\">\n",
       "  <thead>\n",
       "    <tr style=\"text-align: right;\">\n",
       "      <th></th>\n",
       "      <th>City</th>\n",
       "      <th>Country</th>\n",
       "      <th>Date</th>\n",
       "      <th>Latitude</th>\n",
       "      <th>Longitude</th>\n",
       "      <th>Cloudiness</th>\n",
       "      <th>Humidity</th>\n",
       "      <th>Max Temperature</th>\n",
       "      <th>Wind Speed</th>\n",
       "    </tr>\n",
       "  </thead>\n",
       "  <tbody>\n",
       "    <tr>\n",
       "      <th>0</th>\n",
       "      <td>Busselton</td>\n",
       "      <td>AU</td>\n",
       "      <td>1621740615</td>\n",
       "      <td>-33.6500</td>\n",
       "      <td>115.3333</td>\n",
       "      <td>85</td>\n",
       "      <td>70</td>\n",
       "      <td>57.04</td>\n",
       "      <td>17.78</td>\n",
       "    </tr>\n",
       "    <tr>\n",
       "      <th>1</th>\n",
       "      <td>Killybegs</td>\n",
       "      <td>IE</td>\n",
       "      <td>1621740615</td>\n",
       "      <td>54.6333</td>\n",
       "      <td>-8.4500</td>\n",
       "      <td>100</td>\n",
       "      <td>91</td>\n",
       "      <td>43.45</td>\n",
       "      <td>21.05</td>\n",
       "    </tr>\n",
       "    <tr>\n",
       "      <th>2</th>\n",
       "      <td>Longyearbyen</td>\n",
       "      <td>SJ</td>\n",
       "      <td>1621740616</td>\n",
       "      <td>78.2186</td>\n",
       "      <td>15.6401</td>\n",
       "      <td>20</td>\n",
       "      <td>58</td>\n",
       "      <td>24.64</td>\n",
       "      <td>3.44</td>\n",
       "    </tr>\n",
       "    <tr>\n",
       "      <th>3</th>\n",
       "      <td>Mataura</td>\n",
       "      <td>NZ</td>\n",
       "      <td>1621740616</td>\n",
       "      <td>-46.1927</td>\n",
       "      <td>168.8643</td>\n",
       "      <td>3</td>\n",
       "      <td>79</td>\n",
       "      <td>49.48</td>\n",
       "      <td>0.69</td>\n",
       "    </tr>\n",
       "    <tr>\n",
       "      <th>4</th>\n",
       "      <td>Distrikt Brokopondo</td>\n",
       "      <td>SR</td>\n",
       "      <td>1621740617</td>\n",
       "      <td>4.7500</td>\n",
       "      <td>-55.1667</td>\n",
       "      <td>96</td>\n",
       "      <td>91</td>\n",
       "      <td>76.53</td>\n",
       "      <td>7.07</td>\n",
       "    </tr>\n",
       "    <tr>\n",
       "      <th>...</th>\n",
       "      <td>...</td>\n",
       "      <td>...</td>\n",
       "      <td>...</td>\n",
       "      <td>...</td>\n",
       "      <td>...</td>\n",
       "      <td>...</td>\n",
       "      <td>...</td>\n",
       "      <td>...</td>\n",
       "      <td>...</td>\n",
       "    </tr>\n",
       "    <tr>\n",
       "      <th>498</th>\n",
       "      <td>Ust-Maya</td>\n",
       "      <td>RU</td>\n",
       "      <td>1621740836</td>\n",
       "      <td>60.4167</td>\n",
       "      <td>134.5333</td>\n",
       "      <td>74</td>\n",
       "      <td>24</td>\n",
       "      <td>56.34</td>\n",
       "      <td>4.00</td>\n",
       "    </tr>\n",
       "    <tr>\n",
       "      <th>499</th>\n",
       "      <td>Husavik</td>\n",
       "      <td>IS</td>\n",
       "      <td>1621740837</td>\n",
       "      <td>66.0449</td>\n",
       "      <td>-17.3389</td>\n",
       "      <td>100</td>\n",
       "      <td>96</td>\n",
       "      <td>40.91</td>\n",
       "      <td>9.86</td>\n",
       "    </tr>\n",
       "    <tr>\n",
       "      <th>500</th>\n",
       "      <td>Ano Poroia</td>\n",
       "      <td>GR</td>\n",
       "      <td>1621740837</td>\n",
       "      <td>41.2833</td>\n",
       "      <td>23.0333</td>\n",
       "      <td>70</td>\n",
       "      <td>73</td>\n",
       "      <td>60.24</td>\n",
       "      <td>2.66</td>\n",
       "    </tr>\n",
       "    <tr>\n",
       "      <th>501</th>\n",
       "      <td>Narsaq</td>\n",
       "      <td>GL</td>\n",
       "      <td>1621740838</td>\n",
       "      <td>60.9167</td>\n",
       "      <td>-46.0500</td>\n",
       "      <td>100</td>\n",
       "      <td>68</td>\n",
       "      <td>35.82</td>\n",
       "      <td>5.06</td>\n",
       "    </tr>\n",
       "    <tr>\n",
       "      <th>502</th>\n",
       "      <td>Coyhaique</td>\n",
       "      <td>CL</td>\n",
       "      <td>1621740839</td>\n",
       "      <td>-45.5752</td>\n",
       "      <td>-72.0662</td>\n",
       "      <td>75</td>\n",
       "      <td>87</td>\n",
       "      <td>46.35</td>\n",
       "      <td>4.61</td>\n",
       "    </tr>\n",
       "  </tbody>\n",
       "</table>\n",
       "<p>503 rows × 9 columns</p>\n",
       "</div>"
      ],
      "text/plain": [
       "                    City Country        Date  Latitude  Longitude  Cloudiness  \\\n",
       "0              Busselton      AU  1621740615  -33.6500   115.3333          85   \n",
       "1              Killybegs      IE  1621740615   54.6333    -8.4500         100   \n",
       "2           Longyearbyen      SJ  1621740616   78.2186    15.6401          20   \n",
       "3                Mataura      NZ  1621740616  -46.1927   168.8643           3   \n",
       "4    Distrikt Brokopondo      SR  1621740617    4.7500   -55.1667          96   \n",
       "..                   ...     ...         ...       ...        ...         ...   \n",
       "498             Ust-Maya      RU  1621740836   60.4167   134.5333          74   \n",
       "499              Husavik      IS  1621740837   66.0449   -17.3389         100   \n",
       "500           Ano Poroia      GR  1621740837   41.2833    23.0333          70   \n",
       "501               Narsaq      GL  1621740838   60.9167   -46.0500         100   \n",
       "502            Coyhaique      CL  1621740839  -45.5752   -72.0662          75   \n",
       "\n",
       "     Humidity  Max Temperature  Wind Speed  \n",
       "0          70            57.04       17.78  \n",
       "1          91            43.45       21.05  \n",
       "2          58            24.64        3.44  \n",
       "3          79            49.48        0.69  \n",
       "4          91            76.53        7.07  \n",
       "..        ...              ...         ...  \n",
       "498        24            56.34        4.00  \n",
       "499        96            40.91        9.86  \n",
       "500        73            60.24        2.66  \n",
       "501        68            35.82        5.06  \n",
       "502        87            46.35        4.61  \n",
       "\n",
       "[503 rows x 9 columns]"
      ]
     },
     "execution_count": 11,
     "metadata": {},
     "output_type": "execute_result"
    }
   ],
   "source": [
    "weather_df = pd.DataFrame({\"City\": city_name, \"Country\": country, \"Date\": date,\n",
    "                          \"Latitude\": lat, \"Longitude\": lng, \"Cloudiness\": cloudiness,\n",
    "                          \"Humidity\": humidity, \"Max Temperature\": max_temp, \"Wind Speed\": wind_speed})\n",
    "\n",
    "weather_df"
   ]
  },
  {
   "cell_type": "code",
   "execution_count": 12,
   "metadata": {},
   "outputs": [
    {
     "data": {
      "text/plain": [
       "Praia                    2\n",
       "Winslow                  1\n",
       "Kupang                   1\n",
       "Katherine                1\n",
       "Rosetown                 1\n",
       "                        ..\n",
       "Aksakovo Municipality    1\n",
       "Tyrma                    1\n",
       "Lavrentiya               1\n",
       "Killybegs                1\n",
       "Chapais                  1\n",
       "Name: City, Length: 502, dtype: int64"
      ]
     },
     "execution_count": 12,
     "metadata": {},
     "output_type": "execute_result"
    }
   ],
   "source": [
    "weather_df['City'].value_counts()"
   ]
  },
  {
   "cell_type": "code",
   "execution_count": 13,
   "metadata": {},
   "outputs": [],
   "source": [
    "weather_df = weather_df.drop_duplicates(['City'])"
   ]
  },
  {
   "cell_type": "code",
   "execution_count": 14,
   "metadata": {},
   "outputs": [
    {
     "data": {
      "text/plain": [
       "City               502\n",
       "Country            502\n",
       "Date               502\n",
       "Latitude           502\n",
       "Longitude          502\n",
       "Cloudiness         502\n",
       "Humidity           502\n",
       "Max Temperature    502\n",
       "Wind Speed         502\n",
       "dtype: int64"
      ]
     },
     "execution_count": 14,
     "metadata": {},
     "output_type": "execute_result"
    }
   ],
   "source": [
    "weather_df.count()"
   ]
  },
  {
   "cell_type": "code",
   "execution_count": 15,
   "metadata": {},
   "outputs": [
    {
     "data": {
      "text/html": [
       "<div>\n",
       "<style scoped>\n",
       "    .dataframe tbody tr th:only-of-type {\n",
       "        vertical-align: middle;\n",
       "    }\n",
       "\n",
       "    .dataframe tbody tr th {\n",
       "        vertical-align: top;\n",
       "    }\n",
       "\n",
       "    .dataframe thead th {\n",
       "        text-align: right;\n",
       "    }\n",
       "</style>\n",
       "<table border=\"1\" class=\"dataframe\">\n",
       "  <thead>\n",
       "    <tr style=\"text-align: right;\">\n",
       "      <th></th>\n",
       "      <th>Date</th>\n",
       "      <th>Latitude</th>\n",
       "      <th>Longitude</th>\n",
       "      <th>Cloudiness</th>\n",
       "      <th>Humidity</th>\n",
       "      <th>Max Temperature</th>\n",
       "      <th>Wind Speed</th>\n",
       "    </tr>\n",
       "  </thead>\n",
       "  <tbody>\n",
       "    <tr>\n",
       "      <th>count</th>\n",
       "      <td>5.020000e+02</td>\n",
       "      <td>502.000000</td>\n",
       "      <td>502.000000</td>\n",
       "      <td>502.000000</td>\n",
       "      <td>502.000000</td>\n",
       "      <td>502.000000</td>\n",
       "      <td>502.000000</td>\n",
       "    </tr>\n",
       "    <tr>\n",
       "      <th>mean</th>\n",
       "      <td>1.621741e+09</td>\n",
       "      <td>18.931483</td>\n",
       "      <td>17.212500</td>\n",
       "      <td>56.404382</td>\n",
       "      <td>69.322709</td>\n",
       "      <td>64.718506</td>\n",
       "      <td>7.853446</td>\n",
       "    </tr>\n",
       "    <tr>\n",
       "      <th>std</th>\n",
       "      <td>8.934783e+01</td>\n",
       "      <td>33.305192</td>\n",
       "      <td>89.035973</td>\n",
       "      <td>39.503528</td>\n",
       "      <td>21.245815</td>\n",
       "      <td>17.092298</td>\n",
       "      <td>5.431011</td>\n",
       "    </tr>\n",
       "    <tr>\n",
       "      <th>min</th>\n",
       "      <td>1.621740e+09</td>\n",
       "      <td>-54.800000</td>\n",
       "      <td>-175.200000</td>\n",
       "      <td>0.000000</td>\n",
       "      <td>7.000000</td>\n",
       "      <td>7.840000</td>\n",
       "      <td>0.000000</td>\n",
       "    </tr>\n",
       "    <tr>\n",
       "      <th>25%</th>\n",
       "      <td>1.621741e+09</td>\n",
       "      <td>-8.811625</td>\n",
       "      <td>-58.632550</td>\n",
       "      <td>13.000000</td>\n",
       "      <td>57.000000</td>\n",
       "      <td>51.772500</td>\n",
       "      <td>3.620000</td>\n",
       "    </tr>\n",
       "    <tr>\n",
       "      <th>50%</th>\n",
       "      <td>1.621741e+09</td>\n",
       "      <td>19.831500</td>\n",
       "      <td>20.463300</td>\n",
       "      <td>70.500000</td>\n",
       "      <td>73.500000</td>\n",
       "      <td>67.740000</td>\n",
       "      <td>6.910000</td>\n",
       "    </tr>\n",
       "    <tr>\n",
       "      <th>75%</th>\n",
       "      <td>1.621741e+09</td>\n",
       "      <td>46.664600</td>\n",
       "      <td>95.913050</td>\n",
       "      <td>96.000000</td>\n",
       "      <td>86.000000</td>\n",
       "      <td>78.645000</td>\n",
       "      <td>10.450000</td>\n",
       "    </tr>\n",
       "    <tr>\n",
       "      <th>max</th>\n",
       "      <td>1.621741e+09</td>\n",
       "      <td>78.218600</td>\n",
       "      <td>179.316700</td>\n",
       "      <td>100.000000</td>\n",
       "      <td>100.000000</td>\n",
       "      <td>97.180000</td>\n",
       "      <td>27.810000</td>\n",
       "    </tr>\n",
       "  </tbody>\n",
       "</table>\n",
       "</div>"
      ],
      "text/plain": [
       "               Date    Latitude   Longitude  Cloudiness    Humidity  \\\n",
       "count  5.020000e+02  502.000000  502.000000  502.000000  502.000000   \n",
       "mean   1.621741e+09   18.931483   17.212500   56.404382   69.322709   \n",
       "std    8.934783e+01   33.305192   89.035973   39.503528   21.245815   \n",
       "min    1.621740e+09  -54.800000 -175.200000    0.000000    7.000000   \n",
       "25%    1.621741e+09   -8.811625  -58.632550   13.000000   57.000000   \n",
       "50%    1.621741e+09   19.831500   20.463300   70.500000   73.500000   \n",
       "75%    1.621741e+09   46.664600   95.913050   96.000000   86.000000   \n",
       "max    1.621741e+09   78.218600  179.316700  100.000000  100.000000   \n",
       "\n",
       "       Max Temperature  Wind Speed  \n",
       "count       502.000000  502.000000  \n",
       "mean         64.718506    7.853446  \n",
       "std          17.092298    5.431011  \n",
       "min           7.840000    0.000000  \n",
       "25%          51.772500    3.620000  \n",
       "50%          67.740000    6.910000  \n",
       "75%          78.645000   10.450000  \n",
       "max          97.180000   27.810000  "
      ]
     },
     "execution_count": 15,
     "metadata": {},
     "output_type": "execute_result"
    }
   ],
   "source": [
    "weather_df.describe()"
   ]
  },
  {
   "cell_type": "code",
   "execution_count": 16,
   "metadata": {},
   "outputs": [],
   "source": [
    "weather_df.to_csv(\"Outputs/weather_df.csv\", encoding=\"utf-8\", index=False)"
   ]
  },
  {
   "cell_type": "markdown",
   "metadata": {},
   "source": [
    "## Inspect the data and remove the cities where the humidity > 100%.\n",
    "----\n",
    "Skip this step if there are no cities that have humidity > 100%. "
   ]
  },
  {
   "cell_type": "code",
   "execution_count": 17,
   "metadata": {},
   "outputs": [
    {
     "data": {
      "text/plain": [
       "Int64Index([], dtype='int64')"
      ]
     },
     "execution_count": 17,
     "metadata": {},
     "output_type": "execute_result"
    }
   ],
   "source": [
    "#  Get the indices of cities that have humidity over 100%.\n",
    "humidity_df = weather_df.loc[weather_df['Humidity'] > 100].index\n",
    "humidity_df"
   ]
  },
  {
   "cell_type": "code",
   "execution_count": 18,
   "metadata": {},
   "outputs": [
    {
     "data": {
      "text/html": [
       "<div>\n",
       "<style scoped>\n",
       "    .dataframe tbody tr th:only-of-type {\n",
       "        vertical-align: middle;\n",
       "    }\n",
       "\n",
       "    .dataframe tbody tr th {\n",
       "        vertical-align: top;\n",
       "    }\n",
       "\n",
       "    .dataframe thead th {\n",
       "        text-align: right;\n",
       "    }\n",
       "</style>\n",
       "<table border=\"1\" class=\"dataframe\">\n",
       "  <thead>\n",
       "    <tr style=\"text-align: right;\">\n",
       "      <th></th>\n",
       "      <th>City</th>\n",
       "      <th>Country</th>\n",
       "      <th>Date</th>\n",
       "      <th>Latitude</th>\n",
       "      <th>Longitude</th>\n",
       "      <th>Cloudiness</th>\n",
       "      <th>Humidity</th>\n",
       "      <th>Max Temperature</th>\n",
       "      <th>Wind Speed</th>\n",
       "    </tr>\n",
       "  </thead>\n",
       "  <tbody>\n",
       "    <tr>\n",
       "      <th>0</th>\n",
       "      <td>Busselton</td>\n",
       "      <td>AU</td>\n",
       "      <td>1621740615</td>\n",
       "      <td>-33.6500</td>\n",
       "      <td>115.3333</td>\n",
       "      <td>85</td>\n",
       "      <td>70</td>\n",
       "      <td>57.04</td>\n",
       "      <td>17.78</td>\n",
       "    </tr>\n",
       "    <tr>\n",
       "      <th>1</th>\n",
       "      <td>Killybegs</td>\n",
       "      <td>IE</td>\n",
       "      <td>1621740615</td>\n",
       "      <td>54.6333</td>\n",
       "      <td>-8.4500</td>\n",
       "      <td>100</td>\n",
       "      <td>91</td>\n",
       "      <td>43.45</td>\n",
       "      <td>21.05</td>\n",
       "    </tr>\n",
       "    <tr>\n",
       "      <th>2</th>\n",
       "      <td>Longyearbyen</td>\n",
       "      <td>SJ</td>\n",
       "      <td>1621740616</td>\n",
       "      <td>78.2186</td>\n",
       "      <td>15.6401</td>\n",
       "      <td>20</td>\n",
       "      <td>58</td>\n",
       "      <td>24.64</td>\n",
       "      <td>3.44</td>\n",
       "    </tr>\n",
       "    <tr>\n",
       "      <th>3</th>\n",
       "      <td>Mataura</td>\n",
       "      <td>NZ</td>\n",
       "      <td>1621740616</td>\n",
       "      <td>-46.1927</td>\n",
       "      <td>168.8643</td>\n",
       "      <td>3</td>\n",
       "      <td>79</td>\n",
       "      <td>49.48</td>\n",
       "      <td>0.69</td>\n",
       "    </tr>\n",
       "    <tr>\n",
       "      <th>4</th>\n",
       "      <td>Distrikt Brokopondo</td>\n",
       "      <td>SR</td>\n",
       "      <td>1621740617</td>\n",
       "      <td>4.7500</td>\n",
       "      <td>-55.1667</td>\n",
       "      <td>96</td>\n",
       "      <td>91</td>\n",
       "      <td>76.53</td>\n",
       "      <td>7.07</td>\n",
       "    </tr>\n",
       "  </tbody>\n",
       "</table>\n",
       "</div>"
      ],
      "text/plain": [
       "                  City Country        Date  Latitude  Longitude  Cloudiness  \\\n",
       "0            Busselton      AU  1621740615  -33.6500   115.3333          85   \n",
       "1            Killybegs      IE  1621740615   54.6333    -8.4500         100   \n",
       "2         Longyearbyen      SJ  1621740616   78.2186    15.6401          20   \n",
       "3              Mataura      NZ  1621740616  -46.1927   168.8643           3   \n",
       "4  Distrikt Brokopondo      SR  1621740617    4.7500   -55.1667          96   \n",
       "\n",
       "   Humidity  Max Temperature  Wind Speed  \n",
       "0        70            57.04       17.78  \n",
       "1        91            43.45       21.05  \n",
       "2        58            24.64        3.44  \n",
       "3        79            49.48        0.69  \n",
       "4        91            76.53        7.07  "
      ]
     },
     "execution_count": 18,
     "metadata": {},
     "output_type": "execute_result"
    }
   ],
   "source": [
    "# Make a new DataFrame equal to the city data to drop all humidity outliers by index.\n",
    "# Passing \"inplace=False\" will make a copy of the city_data DataFrame, which we call \"clean_city_data\".\n",
    "\n",
    "humid_index_data = weather_df.drop(humidity_df, inplace=False)\n",
    "humid_index_data.head()"
   ]
  },
  {
   "cell_type": "code",
   "execution_count": 19,
   "metadata": {
    "scrolled": true
   },
   "outputs": [],
   "source": [
    "# Extract relevant fields from the data frame\n",
    "lats = humid_index_data[\"Latitude\"]\n",
    "max_temps = humid_index_data[\"Max Temperature\"]\n",
    "humidity = humid_index_data[\"Humidity\"]\n",
    "cloudiness = humid_index_data[\"Cloudiness\"]\n",
    "wind_speed = humid_index_data[\"Wind Speed\"]\n",
    "\n",
    "# Export the City_Data into a csv\n",
    "humid_index_data.to_csv(\"../output_data/cities.csv\", index_label=\"City_ID\")"
   ]
  },
  {
   "cell_type": "markdown",
   "metadata": {},
   "source": [
    "## Plotting the Data\n",
    "* Use proper labeling of the plots using plot titles (including date of analysis) and axes labels.\n",
    "* Save the plotted figures as .pngs."
   ]
  },
  {
   "cell_type": "markdown",
   "metadata": {},
   "source": [
    "## Latitude vs. Temperature Plot"
   ]
  },
  {
   "cell_type": "code",
   "execution_count": 21,
   "metadata": {},
   "outputs": [
    {
     "data": {
      "image/png": "[encoded data removed]",
      "text/plain": [
       "<Figure size 432x288 with 1 Axes>"
      ]
     },
     "metadata": {
      "needs_background": "light"
     },
     "output_type": "display_data"
    }
   ],
   "source": [
    "weather_df.plot(kind='scatter', x = 'Latitude', y = 'Max Temperature')\n",
    "plt.title('Latitude Vs Max Temperature')\n",
    "plt.xlabel('Latitude (Deg)')\n",
    "plt.ylabel('Max Temperature (F)')\n",
    "plt.grid()"
   ]
  },
  {
   "cell_type": "markdown",
   "metadata": {},
   "source": [
    "## Latitude vs. Humidity Plot"
   ]
  },
  {
   "cell_type": "code",
   "execution_count": 22,
   "metadata": {},
   "outputs": [
    {
     "data": {
      "image/png": "[encoded data removed]",
      "text/plain": [
       "<Figure size 432x288 with 1 Axes>"
      ]
     },
     "metadata": {
      "needs_background": "light"
     },
     "output_type": "display_data"
    }
   ],
   "source": [
    "weather_df.plot(kind='scatter', x = 'Latitude', y = 'Humidity')\n",
    "plt.title('Latitude Vs Humidity')\n",
    "plt.xlabel('Latitude (Deg)')\n",
    "plt.ylabel('Humidity (%)')\n",
    "plt.grid()"
   ]
  },
  {
   "cell_type": "markdown",
   "metadata": {},
   "source": [
    "## Latitude vs. Cloudiness Plot"
   ]
  },
  {
   "cell_type": "code",
   "execution_count": 63,
   "metadata": {},
   "outputs": [
    {
     "data": {
      "image/png": "[encoded data removed]",
      "text/plain": [
       "<Figure size 432x288 with 1 Axes>"
      ]
     },
     "metadata": {
      "needs_background": "light"
     },
     "output_type": "display_data"
    }
   ],
   "source": [
    "weather_df.plot(kind='scatter', x = 'Latitude', y = 'Cloudiness')\n",
    "plt.title('Latitude Vs Cloudiness')\n",
    "plt.xlabel('Latitude (Deg)')\n",
    "plt.ylabel('Cloudiness')\n",
    "plt.grid()"
   ]
  },
  {
   "cell_type": "markdown",
   "metadata": {},
   "source": [
    "## Latitude vs. Wind Speed Plot"
   ]
  },
  {
   "cell_type": "markdown",
   "metadata": {},
   "source": [
    "## Linear Regression"
   ]
  },
  {
   "cell_type": "code",
   "execution_count": 64,
   "metadata": {},
   "outputs": [],
   "source": [
    "#create hemisphere dataframes\n",
    "\n",
    "north_df = weather_df.loc[weather_df['Latitude']>=0]\n",
    "south_df = weather_df.loc[weather_df['Latitude']<0]"
   ]
  },
  {
   "cell_type": "code",
   "execution_count": 170,
   "metadata": {},
   "outputs": [],
   "source": [
    "def plot_linear_regression(x_values, y_values, title, text_coordinates):\n",
    "    (slope, intercept, r, p, stderr) = linregress(x_val, y_val)\n",
    "\n",
    "    reg_val = x_val * slope + intercept\n",
    "    line_eq = 'y = ' + str(round(slope,2)) + 'x + ' + str(round(intercept,2))\n",
    "\n",
    "    plt.scatter(x_val, y_val)\n",
    "    plt.plot(x_val, reg_val)\n",
    "    plt.annotate(line_eq, text_coordinates, fontsize=15, color= \"red\")\n",
    "\n",
    "    plt.xlabel('Latitude')\n",
    "    plt.ylabel(title)\n",
    "    print(f\"The r-value is: {r**2}\")\n",
    "\n",
    "    plt.show()"
   ]
  },
  {
   "cell_type": "markdown",
   "metadata": {},
   "source": [
    "####  Northern Hemisphere - Max Temp vs. Latitude Linear Regression"
   ]
  },
  {
   "cell_type": "code",
   "execution_count": 171,
   "metadata": {},
   "outputs": [
    {
     "name": "stdout",
     "output_type": "stream",
     "text": [
      "The r-value is: 0.6805760932004241\n"
     ]
    },
    {
     "data": {
      "image/png": "[encoded data removed]",
      "text/plain": [
       "<Figure size 432x288 with 1 Axes>"
      ]
     },
     "metadata": {
      "needs_background": "light"
     },
     "output_type": "display_data"
    }
   ],
   "source": [
    "x_val = north_df['Latitude']\n",
    "y_val = north_df['Max Temperature']\n",
    "\n",
    "plot_linear_regression(x_val, y_val, 'Max Temperature', (6,30)) "
   ]
  },
  {
   "cell_type": "markdown",
   "metadata": {},
   "source": [
    "####  Southern Hemisphere - Max Temp vs. Latitude Linear Regression"
   ]
  },
  {
   "cell_type": "code",
   "execution_count": 158,
   "metadata": {},
   "outputs": [
    {
     "name": "stdout",
     "output_type": "stream",
     "text": [
      "The r-value is: 0.5085778639778468\n"
     ]
    },
    {
     "data": {
      "image/png": "[encoded data removed]",
      "text/plain": [
       "<Figure size 432x288 with 1 Axes>"
      ]
     },
     "metadata": {
      "needs_background": "light"
     },
     "output_type": "display_data"
    }
   ],
   "source": [
    "x_val = south_df['Latitude']\n",
    "y_val = south_df['Max Temperature']\n",
    "\n",
    "plot_linear_regression(x_val, y_val, 'Max Temperature', (-50,85)) "
   ]
  },
  {
   "cell_type": "markdown",
   "metadata": {},
   "source": [
    "####  Northern Hemisphere - Humidity (%) vs. Latitude Linear Regression"
   ]
  },
  {
   "cell_type": "code",
   "execution_count": 159,
   "metadata": {},
   "outputs": [
    {
     "name": "stdout",
     "output_type": "stream",
     "text": [
      "The r-value is: 0.0009939746452171474\n"
     ]
    },
    {
     "data": {
      "image/png": "[encoded data removed]",
      "text/plain": [
       "<Figure size 432x288 with 1 Axes>"
      ]
     },
     "metadata": {
      "needs_background": "light"
     },
     "output_type": "display_data"
    }
   ],
   "source": [
    "x_val = north_df['Latitude']\n",
    "y_val = north_df['Humidity']\n",
    "\n",
    "plot_linear_regression(x_val, y_val, 'Humidity (%)', (42,10)) "
   ]
  },
  {
   "cell_type": "markdown",
   "metadata": {},
   "source": [
    "####  Southern Hemisphere - Humidity (%) vs. Latitude Linear Regression"
   ]
  },
  {
   "cell_type": "code",
   "execution_count": 160,
   "metadata": {},
   "outputs": [
    {
     "name": "stdout",
     "output_type": "stream",
     "text": [
      "The r-value is: 0.02387700639600579\n"
     ]
    },
    {
     "data": {
      "image/png": "[encoded data removed]",
      "text/plain": [
       "<Figure size 432x288 with 1 Axes>"
      ]
     },
     "metadata": {
      "needs_background": "light"
     },
     "output_type": "display_data"
    }
   ],
   "source": [
    "x_val = south_df['Latitude']\n",
    "y_val = south_df['Humidity']\n",
    "\n",
    "plot_linear_regression(x_val, y_val, 'Humidity (%)', (-50,20)) "
   ]
  },
  {
   "cell_type": "markdown",
   "metadata": {},
   "source": [
    "####  Northern Hemisphere - Cloudiness (%) vs. Latitude Linear Regression"
   ]
  },
  {
   "cell_type": "code",
   "execution_count": 165,
   "metadata": {},
   "outputs": [
    {
     "name": "stdout",
     "output_type": "stream",
     "text": [
      "The r-value is: 0.029172143603851466\n"
     ]
    },
    {
     "data": {
      "image/png": "[encoded data removed]",
      "text/plain": [
       "<Figure size 432x288 with 1 Axes>"
      ]
     },
     "metadata": {
      "needs_background": "light"
     },
     "output_type": "display_data"
    }
   ],
   "source": [
    "x_val = north_df['Latitude']\n",
    "y_val = north_df['Cloudiness']\n",
    "\n",
    "plot_linear_regression(x_val, y_val, 'Cloudiness (%)', (10,45)) "
   ]
  },
  {
   "cell_type": "markdown",
   "metadata": {},
   "source": [
    "####  Southern Hemisphere - Cloudiness (%) vs. Latitude Linear Regression"
   ]
  },
  {
   "cell_type": "code",
   "execution_count": 161,
   "metadata": {},
   "outputs": [
    {
     "name": "stdout",
     "output_type": "stream",
     "text": [
      "The r-value is: 0.04731641947321473\n"
     ]
    },
    {
     "data": {
      "image/png": "[encoded data removed]",
      "text/plain": [
       "<Figure size 432x288 with 1 Axes>"
      ]
     },
     "metadata": {
      "needs_background": "light"
     },
     "output_type": "display_data"
    }
   ],
   "source": [
    "x_val = south_df['Latitude']\n",
    "y_val = south_df['Cloudiness']\n",
    "\n",
    "plot_linear_regression(x_val, y_val, 'Cloudiness (%)', (-50,20)) "
   ]
  },
  {
   "cell_type": "markdown",
   "metadata": {},
   "source": [
    "####  Northern Hemisphere - Wind Speed (mph) vs. Latitude Linear Regression"
   ]
  },
  {
   "cell_type": "code",
   "execution_count": 166,
   "metadata": {},
   "outputs": [
    {
     "name": "stdout",
     "output_type": "stream",
     "text": [
      "The r-value is: 0.0033968027100742355\n"
     ]
    },
    {
     "data": {
      "image/png": "[encoded data removed]",
      "text/plain": [
       "<Figure size 432x288 with 1 Axes>"
      ]
     },
     "metadata": {
      "needs_background": "light"
     },
     "output_type": "display_data"
    }
   ],
   "source": [
    "x_val = north_df['Latitude']\n",
    "y_val = north_df['Wind Speed']\n",
    "\n",
    "plot_linear_regression(x_val, y_val, 'Wind Speed (mph)', (20, "
   ]
  },
  {
   "cell_type": "markdown",
   "metadata": {},
   "source": [
    "####  Southern Hemisphere - Wind Speed (mph) vs. Latitude Linear Regression"
   ]
  },
  {
   "cell_type": "code",
   "execution_count": 169,
   "metadata": {},
   "outputs": [
    {
     "name": "stdout",
     "output_type": "stream",
     "text": [
      "The r-value is: 0.018222947529489802\n"
     ]
    },
    {
     "data": {
      "image/png": "[encoded data removed]",
      "text/plain": [
       "<Figure size 432x288 with 1 Axes>"
      ]
     },
     "metadata": {
      "needs_background": "light"
     },
     "output_type": "display_data"
    }
   ],
   "source": [
    "x_val = south_df['Latitude']\n",
    "y_val = south_df['Wind Speed']\n",
    "\n",
    "plot_linear_regression(x_val, y_val, 'Wind Speed (mph)', (-50,19)) "
   ]
  },
  {
   "cell_type": "code",
   "execution_count": null,
   "metadata": {
    "collapsed": true
   },
   "outputs": [],
   "source": []
  }
 ],
 "metadata": {
  "anaconda-cloud": {},
  "kernel_info": {
   "name": "python3"
  },
  "kernelspec": {
   "display_name": "Python 3",
   "language": "python",
   "name": "python3"
  },
  "language_info": {
   "codemirror_mode": {
    "name": "ipython",
    "version": 3
   },
   "file_extension": ".py",
   "mimetype": "text/x-python",
   "name": "python",
   "nbconvert_exporter": "python",
   "pygments_lexer": "ipython3",
   "version": "3.8.3"
  },
  "latex_envs": {
   "LaTeX_envs_menu_present": true,
   "autoclose": false,
   "autocomplete": true,
   "bibliofile": "biblio.bib",
   "cite_by": "apalike",
   "current_citInitial": 1,
   "eqLabelWithNumbers": true,
   "eqNumInitial": 1,
   "hotkeys": {
    "equation": "Ctrl-E",
    "itemize": "Ctrl-I"
   },
   "labels_anchors": false,
   "latex_user_defs": false,
   "report_style_numbering": false,
   "user_envs_cfg": false
  },
  "nteract": {
   "version": "0.12.3"
  }
 },
 "nbformat": 4,
 "nbformat_minor": 2
}
