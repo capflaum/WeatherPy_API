{
 "cells": [
  {
   "cell_type": "markdown",
   "metadata": {},
   "source": [
    "# WeatherPy\n",
    "----"
   ]
  },
  {
   "cell_type": "code",
   "execution_count": 1,
   "metadata": {},
   "outputs": [
    {
     "name": "stdout",
     "output_type": "stream",
     "text": [
      "Requirement already satisfied: citipy in c:\\users\\capfl\\anaconda3\\lib\\site-packages (0.0.5)\n",
      "Requirement already satisfied: kdtree>=0.12 in c:\\users\\capfl\\anaconda3\\lib\\site-packages (from citipy) (0.16)\n",
      "Note: you may need to restart the kernel to use updated packages.\n"
     ]
    }
   ],
   "source": [
    "pip install citipy"
   ]
  },
  {
   "cell_type": "code",
   "execution_count": 2,
   "metadata": {},
   "outputs": [],
   "source": [
    "import json\n",
    "import matplotlib.pyplot as plt\n",
    "import pandas as pd\n",
    "import numpy as np\n",
    "import requests\n",
    "from scipy.stats import linregress\n",
    "\n",
    "from api_keys import weather_api_key \n",
    "from citipy import citipy"
   ]
  },
  {
   "cell_type": "code",
   "execution_count": 3,
   "metadata": {},
   "outputs": [],
   "source": [
    "output_data_file = \"output_data/cities.csv\""
   ]
  },
  {
   "cell_type": "code",
   "execution_count": 4,
   "metadata": {},
   "outputs": [],
   "source": [
    "#base_url = \"http://api.openweathermap.org/data/2.5/weather?\"\n",
    "#units = \"imperial\""
   ]
  },
  {
   "cell_type": "code",
   "execution_count": 5,
   "metadata": {},
   "outputs": [],
   "source": [
    "#city_data = pd.read_csv(\"../output_data/cities.csv\")\n",
    "#city_data.head()"
   ]
  },
  {
   "cell_type": "markdown",
   "metadata": {},
   "source": [
    "## Generate Cities List"
   ]
  },
  {
   "cell_type": "code",
   "execution_count": 6,
   "metadata": {},
   "outputs": [],
   "source": [
    "#setup lists for loop\n",
    "coordinates = []\n",
    "city_list = []\n",
    "\n",
    "#find 500+ cities\n",
    "lats = np.random.uniform(low=-90.000, high=90.000, size=1300)\n",
    "lngs = np.random.uniform(low=-180.000, high=180.000, size=1300)\n",
    "coordinates = zip(lats, lngs)\n",
    "\n",
    "#loop through citipy\n",
    "for coordinates in coordinates:\n",
    "    rand_city = citipy.nearest_city(coordinates[0], coordinates[1]).city_name\n",
    "\n",
    "    if rand_city not in city_list:\n",
    "        city_list.append(rand_city)"
   ]
  },
  {
   "cell_type": "code",
   "execution_count": 7,
   "metadata": {},
   "outputs": [
    {
     "data": {
      "text/plain": [
       "'aksu'"
      ]
     },
     "execution_count": 7,
     "metadata": {},
     "output_type": "execute_result"
    }
   ],
   "source": [
    "rand_city"
   ]
  },
  {
   "cell_type": "code",
   "execution_count": 8,
   "metadata": {},
   "outputs": [
    {
     "data": {
      "text/plain": [
       "561"
      ]
     },
     "execution_count": 8,
     "metadata": {},
     "output_type": "execute_result"
    }
   ],
   "source": [
    "len(city_list)"
   ]
  },
  {
   "cell_type": "markdown",
   "metadata": {},
   "source": [
    "### Perform API Calls\n",
    "* Perform a weather check on each city using a series of successive API calls.\n",
    "* Include a print log of each city as it'sbeing processed (with the city number and city name).\n"
   ]
  },
  {
   "cell_type": "code",
   "execution_count": 9,
   "metadata": {},
   "outputs": [],
   "source": [
    "#city_data.columns"
   ]
  },
  {
   "cell_type": "code",
   "execution_count": 10,
   "metadata": {},
   "outputs": [],
   "source": [
    "city_name= []\n",
    "cloudiness = []\n",
    "country = []\n",
    "date = []\n",
    "humidity = []\n",
    "lat = []\n",
    "lng = []\n",
    "max_temp = []\n",
    "wind_speed = []"
   ]
  },
  {
   "cell_type": "code",
   "execution_count": 12,
   "metadata": {},
   "outputs": [
    {
     "name": "stdout",
     "output_type": "stream",
     "text": [
      "Beginning Data Retrieval\n",
      "------------------------\n",
      "Processing Record 1 of Set 1 | arraial do cabo\n",
      "Processing Record 2 of Set 1 | ust-maya\n",
      "Processing Record 3 of Set 1 | illoqqortoormiut\n",
      "City not found. Skipping...\n",
      "Processing Record 4 of Set 1 | bethel\n",
      "Processing Record 5 of Set 1 | henties bay\n",
      "Processing Record 6 of Set 1 | high level\n",
      "Processing Record 7 of Set 1 | busselton\n",
      "Processing Record 8 of Set 1 | bengkulu\n",
      "Processing Record 9 of Set 1 | kapaa\n",
      "Processing Record 10 of Set 1 | luderitz\n",
      "Processing Record 11 of Set 1 | vaitupu\n",
      "City not found. Skipping...\n",
      "Processing Record 12 of Set 1 | rikitea\n",
      "Processing Record 13 of Set 1 | kavaratti\n",
      "Processing Record 14 of Set 1 | xining\n",
      "Processing Record 15 of Set 1 | taolanaro\n",
      "City not found. Skipping...\n",
      "Processing Record 16 of Set 1 | madang\n",
      "Processing Record 17 of Set 1 | punta arenas\n",
      "Processing Record 18 of Set 1 | paamiut\n",
      "Processing Record 19 of Set 1 | pevek\n",
      "Processing Record 20 of Set 1 | port elizabeth\n",
      "Processing Record 21 of Set 1 | albany\n",
      "Processing Record 22 of Set 1 | valley city\n",
      "Processing Record 23 of Set 1 | manjo\n",
      "Processing Record 24 of Set 1 | puerto ayora\n",
      "Processing Record 25 of Set 1 | leningradskiy\n",
      "Processing Record 26 of Set 1 | sept-iles\n",
      "Processing Record 27 of Set 1 | cabo san lucas\n",
      "Processing Record 28 of Set 1 | east london\n",
      "Processing Record 29 of Set 1 | thompson\n",
      "Processing Record 30 of Set 1 | tsihombe\n",
      "City not found. Skipping...\n",
      "Processing Record 31 of Set 1 | kuruman\n",
      "Processing Record 32 of Set 1 | hobart\n",
      "Processing Record 33 of Set 1 | bandar-e anzali\n",
      "Processing Record 34 of Set 1 | nizhneyansk\n",
      "City not found. Skipping...\n",
      "Processing Record 35 of Set 1 | mar del plata\n",
      "Processing Record 36 of Set 1 | kyshtovka\n",
      "Processing Record 37 of Set 1 | thinadhoo\n",
      "Processing Record 38 of Set 1 | barrow\n",
      "Processing Record 39 of Set 1 | butaritari\n",
      "Processing Record 40 of Set 1 | georgetown\n",
      "Processing Record 41 of Set 1 | duz\n",
      "City not found. Skipping...\n",
      "Processing Record 42 of Set 1 | araouane\n",
      "Processing Record 43 of Set 1 | beringovskiy\n",
      "Processing Record 44 of Set 1 | solovetskiy\n",
      "City not found. Skipping...\n",
      "Processing Record 45 of Set 1 | bambous virieux\n",
      "Processing Record 46 of Set 1 | esperance\n",
      "Processing Record 47 of Set 1 | barentsburg\n",
      "Processing Record 48 of Set 1 | miri\n",
      "Processing Record 49 of Set 1 | castro\n",
      "Processing Record 50 of Set 1 | yellowknife\n",
      "Processing Record 1 of Set 2 | ribeira grande\n",
      "Processing Record 2 of Set 2 | sentyabrskiy\n",
      "City not found. Skipping...\n",
      "Processing Record 3 of Set 2 | jamestown\n",
      "Processing Record 4 of Set 2 | kodiak\n",
      "Processing Record 5 of Set 2 | otane\n",
      "Processing Record 6 of Set 2 | manono\n",
      "Processing Record 7 of Set 2 | najran\n",
      "Processing Record 8 of Set 2 | vila franca do campo\n",
      "Processing Record 9 of Set 2 | gigmoto\n",
      "Processing Record 10 of Set 2 | birao\n",
      "Processing Record 11 of Set 2 | port keats\n",
      "Processing Record 12 of Set 2 | aviles\n",
      "Processing Record 13 of Set 2 | hasaki\n",
      "Processing Record 14 of Set 2 | bredasdorp\n",
      "Processing Record 15 of Set 2 | azimur\n",
      "City not found. Skipping...\n",
      "Processing Record 16 of Set 2 | khatanga\n",
      "Processing Record 17 of Set 2 | te anau\n",
      "Processing Record 18 of Set 2 | rawicz\n",
      "Processing Record 19 of Set 2 | komsomolskiy\n",
      "Processing Record 20 of Set 2 | new norfolk\n",
      "Processing Record 21 of Set 2 | mataura\n",
      "Processing Record 22 of Set 2 | hermanus\n",
      "Processing Record 23 of Set 2 | bluff\n",
      "Processing Record 24 of Set 2 | nuevitas\n",
      "Processing Record 25 of Set 2 | lebu\n",
      "Processing Record 26 of Set 2 | hit\n",
      "Processing Record 27 of Set 2 | mattoon\n",
      "Processing Record 28 of Set 2 | ushuaia\n",
      "Processing Record 29 of Set 2 | cherskiy\n",
      "Processing Record 30 of Set 2 | jumla\n",
      "Processing Record 31 of Set 2 | santa cruz\n",
      "Processing Record 32 of Set 2 | yar-sale\n",
      "Processing Record 33 of Set 2 | qaanaaq\n",
      "Processing Record 34 of Set 2 | narsaq\n",
      "Processing Record 35 of Set 2 | hilo\n",
      "Processing Record 36 of Set 2 | cabadiangan\n",
      "Processing Record 37 of Set 2 | richards bay\n",
      "Processing Record 38 of Set 2 | vostok\n",
      "Processing Record 39 of Set 2 | vestmanna\n",
      "Processing Record 40 of Set 2 | homestead\n",
      "Processing Record 41 of Set 2 | dikson\n",
      "Processing Record 42 of Set 2 | katherine\n",
      "Processing Record 43 of Set 2 | barabinsk\n",
      "Processing Record 44 of Set 2 | chokurdakh\n",
      "Processing Record 45 of Set 2 | klaksvik\n",
      "Processing Record 46 of Set 2 | marana\n",
      "Processing Record 47 of Set 2 | saint-philippe\n",
      "Processing Record 48 of Set 2 | wiarton\n",
      "Processing Record 49 of Set 2 | husavik\n",
      "Processing Record 50 of Set 2 | sioux lookout\n",
      "Processing Record 1 of Set 3 | ilulissat\n",
      "Processing Record 2 of Set 3 | jiangyou\n",
      "Processing Record 3 of Set 3 | jiuquan\n",
      "Processing Record 4 of Set 3 | samusu\n",
      "City not found. Skipping...\n",
      "Processing Record 5 of Set 3 | ostuni\n",
      "Processing Record 6 of Set 3 | hofn\n",
      "Processing Record 7 of Set 3 | mopti\n",
      "Processing Record 8 of Set 3 | emerald\n",
      "Processing Record 9 of Set 3 | tuktoyaktuk\n",
      "Processing Record 10 of Set 3 | bud\n",
      "Processing Record 11 of Set 3 | san patricio\n",
      "Processing Record 12 of Set 3 | paciran\n",
      "Processing Record 13 of Set 3 | nikolskoye\n",
      "Processing Record 14 of Set 3 | siocon\n",
      "Processing Record 15 of Set 3 | comodoro rivadavia\n",
      "Processing Record 16 of Set 3 | tagusao\n",
      "Processing Record 17 of Set 3 | bayburt\n",
      "Processing Record 18 of Set 3 | cayenne\n",
      "Processing Record 19 of Set 3 | kazalinsk\n",
      "City not found. Skipping...\n",
      "Processing Record 20 of Set 3 | nanortalik\n",
      "Processing Record 21 of Set 3 | wanxian\n",
      "Processing Record 22 of Set 3 | carnarvon\n",
      "Processing Record 23 of Set 3 | along\n",
      "Processing Record 24 of Set 3 | niederkruchten\n",
      "Processing Record 25 of Set 3 | norman wells\n",
      "Processing Record 26 of Set 3 | faanui\n",
      "Processing Record 27 of Set 3 | kawana waters\n",
      "City not found. Skipping...\n",
      "Processing Record 28 of Set 3 | christiana\n",
      "Processing Record 29 of Set 3 | port alfred\n",
      "Processing Record 30 of Set 3 | saint-malo\n",
      "Processing Record 31 of Set 3 | bambanglipuro\n",
      "Processing Record 32 of Set 3 | havoysund\n",
      "Processing Record 33 of Set 3 | guerrero negro\n",
      "Processing Record 34 of Set 3 | catuday\n",
      "Processing Record 35 of Set 3 | nkhotakota\n",
      "Processing Record 36 of Set 3 | cockburn harbour\n",
      "City not found. Skipping...\n",
      "Processing Record 37 of Set 3 | atuona\n",
      "Processing Record 38 of Set 3 | pinsk\n",
      "Processing Record 39 of Set 3 | zatoka\n",
      "Processing Record 40 of Set 3 | bathsheba\n",
      "Processing Record 41 of Set 3 | longyearbyen\n",
      "Processing Record 42 of Set 3 | kushima\n",
      "Processing Record 43 of Set 3 | iqaluit\n",
      "Processing Record 44 of Set 3 | telma\n",
      "Processing Record 45 of Set 3 | riyadh\n",
      "Processing Record 46 of Set 3 | gazanjyk\n",
      "Processing Record 47 of Set 3 | avarua\n",
      "Processing Record 48 of Set 3 | hegra\n",
      "Processing Record 49 of Set 3 | gravdal\n",
      "Processing Record 50 of Set 3 | gidole\n",
      "Processing Record 1 of Set 4 | namatanai\n",
      "Processing Record 2 of Set 4 | saint-francois\n",
      "Processing Record 3 of Set 4 | rantauprapat\n",
      "Processing Record 4 of Set 4 | shahriyar\n",
      "City not found. Skipping...\n",
      "Processing Record 5 of Set 4 | saint george\n",
      "Processing Record 6 of Set 4 | kavieng\n",
      "Processing Record 7 of Set 4 | roswell\n",
      "Processing Record 8 of Set 4 | buenos aires\n",
      "Processing Record 9 of Set 4 | sao filipe\n",
      "Processing Record 10 of Set 4 | sao joao da barra\n",
      "Processing Record 11 of Set 4 | zhetybay\n",
      "City not found. Skipping...\n",
      "Processing Record 12 of Set 4 | ancud\n",
      "Processing Record 13 of Set 4 | kibaya\n",
      "Processing Record 14 of Set 4 | provideniya\n",
      "Processing Record 15 of Set 4 | cape town\n",
      "Processing Record 16 of Set 4 | qaqortoq\n",
      "Processing Record 17 of Set 4 | krasnoselkup\n",
      "Processing Record 18 of Set 4 | hopkinsville\n",
      "Processing Record 19 of Set 4 | kodinar\n",
      "Processing Record 20 of Set 4 | port hardy\n",
      "Processing Record 21 of Set 4 | ponta do sol\n",
      "Processing Record 22 of Set 4 | aklavik\n",
      "Processing Record 23 of Set 4 | saskylakh\n",
      "Processing Record 24 of Set 4 | grand river south east\n",
      "City not found. Skipping...\n",
      "Processing Record 25 of Set 4 | lolua\n",
      "City not found. Skipping...\n",
      "Processing Record 26 of Set 4 | lorengau\n",
      "Processing Record 27 of Set 4 | birjand\n",
      "Processing Record 28 of Set 4 | pimentel\n",
      "Processing Record 29 of Set 4 | coahuayana\n",
      "Processing Record 30 of Set 4 | itarema\n",
      "Processing Record 31 of Set 4 | ubatuba\n",
      "Processing Record 32 of Set 4 | naco\n",
      "Processing Record 33 of Set 4 | roma\n",
      "Processing Record 34 of Set 4 | rocha\n",
      "Processing Record 35 of Set 4 | angoche\n",
      "Processing Record 36 of Set 4 | lerwick\n",
      "Processing Record 37 of Set 4 | adrar\n"
     ]
    },
    {
     "name": "stdout",
     "output_type": "stream",
     "text": [
      "Processing Record 38 of Set 4 | nouadhibou\n",
      "Processing Record 39 of Set 4 | solnechnyy\n",
      "Processing Record 40 of Set 4 | pitimbu\n",
      "Processing Record 41 of Set 4 | ketchikan\n",
      "Processing Record 42 of Set 4 | igarapava\n",
      "Processing Record 43 of Set 4 | huesca\n",
      "Processing Record 44 of Set 4 | zachagansk\n",
      "City not found. Skipping...\n",
      "Processing Record 45 of Set 4 | tiksi\n",
      "Processing Record 46 of Set 4 | torbay\n",
      "Processing Record 47 of Set 4 | alta floresta\n",
      "Processing Record 48 of Set 4 | salalah\n",
      "Processing Record 49 of Set 4 | altoona\n",
      "Processing Record 50 of Set 4 | sinnamary\n",
      "Processing Record 1 of Set 5 | quatre cocos\n",
      "Processing Record 2 of Set 5 | saleaula\n",
      "City not found. Skipping...\n",
      "Processing Record 3 of Set 5 | tasiilaq\n",
      "Processing Record 4 of Set 5 | poiana blenchii\n",
      "Processing Record 5 of Set 5 | olinda\n",
      "Processing Record 6 of Set 5 | vardo\n",
      "Processing Record 7 of Set 5 | vaini\n",
      "Processing Record 8 of Set 5 | carutapera\n",
      "Processing Record 9 of Set 5 | dalaba\n",
      "Processing Record 10 of Set 5 | fayaoue\n",
      "Processing Record 11 of Set 5 | morondava\n",
      "Processing Record 12 of Set 5 | kuche\n",
      "City not found. Skipping...\n",
      "Processing Record 13 of Set 5 | yingshang\n",
      "Processing Record 14 of Set 5 | amderma\n",
      "City not found. Skipping...\n",
      "Processing Record 15 of Set 5 | aasiaat\n",
      "Processing Record 16 of Set 5 | hithadhoo\n",
      "Processing Record 17 of Set 5 | valleyview\n",
      "Processing Record 18 of Set 5 | kajaani\n",
      "Processing Record 19 of Set 5 | kaitangata\n",
      "Processing Record 20 of Set 5 | attawapiskat\n",
      "City not found. Skipping...\n",
      "Processing Record 21 of Set 5 | aksarka\n",
      "Processing Record 22 of Set 5 | airai\n",
      "Processing Record 23 of Set 5 | sawai madhopur\n",
      "Processing Record 24 of Set 5 | meyungs\n",
      "City not found. Skipping...\n",
      "Processing Record 25 of Set 5 | zhezkazgan\n",
      "Processing Record 26 of Set 5 | poum\n",
      "Processing Record 27 of Set 5 | veraval\n",
      "Processing Record 28 of Set 5 | marrakesh\n",
      "Processing Record 29 of Set 5 | fort-shevchenko\n",
      "Processing Record 30 of Set 5 | muros\n",
      "Processing Record 31 of Set 5 | la sarre\n",
      "Processing Record 32 of Set 5 | mahebourg\n",
      "Processing Record 33 of Set 5 | gambela\n",
      "Processing Record 34 of Set 5 | stryn\n",
      "Processing Record 35 of Set 5 | clyde river\n",
      "Processing Record 36 of Set 5 | maralal\n",
      "Processing Record 37 of Set 5 | tuatapere\n",
      "Processing Record 38 of Set 5 | verkhnetulomskiy\n",
      "Processing Record 39 of Set 5 | fairbanks\n",
      "Processing Record 40 of Set 5 | haibowan\n",
      "City not found. Skipping...\n",
      "Processing Record 41 of Set 5 | viligili\n",
      "City not found. Skipping...\n",
      "Processing Record 42 of Set 5 | boa vista\n",
      "Processing Record 43 of Set 5 | langham\n",
      "Processing Record 44 of Set 5 | kirakira\n",
      "Processing Record 45 of Set 5 | kyren\n",
      "Processing Record 46 of Set 5 | atambua\n",
      "Processing Record 47 of Set 5 | san buenaventura\n",
      "Processing Record 48 of Set 5 | cidreira\n",
      "Processing Record 49 of Set 5 | soyo\n",
      "Processing Record 50 of Set 5 | hollola\n",
      "Processing Record 1 of Set 6 | altay\n",
      "Processing Record 2 of Set 6 | erenhot\n",
      "Processing Record 3 of Set 6 | malkangiri\n",
      "Processing Record 4 of Set 6 | asau\n",
      "Processing Record 5 of Set 6 | hede\n",
      "Processing Record 6 of Set 6 | nuuk\n",
      "Processing Record 7 of Set 6 | mabaruma\n",
      "Processing Record 8 of Set 6 | lompoc\n",
      "Processing Record 9 of Set 6 | rauma\n",
      "Processing Record 10 of Set 6 | hamilton\n",
      "Processing Record 11 of Set 6 | bang saphan\n",
      "Processing Record 12 of Set 6 | dossor\n",
      "Processing Record 13 of Set 6 | vestmannaeyjar\n",
      "Processing Record 14 of Set 6 | dingle\n",
      "Processing Record 15 of Set 6 | tapaua\n",
      "City not found. Skipping...\n",
      "Processing Record 16 of Set 6 | karaul\n",
      "City not found. Skipping...\n",
      "Processing Record 17 of Set 6 | ilinsko-podomskoye\n",
      "City not found. Skipping...\n",
      "Processing Record 18 of Set 6 | krasnyy chikoy\n",
      "Processing Record 19 of Set 6 | harlingen\n",
      "Processing Record 20 of Set 6 | phonhong\n",
      "Processing Record 21 of Set 6 | xai-xai\n",
      "Processing Record 22 of Set 6 | port lincoln\n",
      "Processing Record 23 of Set 6 | paijan\n",
      "Processing Record 24 of Set 6 | zhangye\n",
      "Processing Record 25 of Set 6 | belushya guba\n",
      "City not found. Skipping...\n",
      "Processing Record 26 of Set 6 | ihosy\n",
      "Processing Record 27 of Set 6 | banda aceh\n",
      "Processing Record 28 of Set 6 | teahupoo\n",
      "Processing Record 29 of Set 6 | evanston\n",
      "Processing Record 30 of Set 6 | victoria\n",
      "Processing Record 31 of Set 6 | kamaishi\n",
      "Processing Record 32 of Set 6 | chuy\n",
      "Processing Record 33 of Set 6 | locri\n",
      "Processing Record 34 of Set 6 | kahului\n",
      "Processing Record 35 of Set 6 | worland\n",
      "Processing Record 36 of Set 6 | labutta\n",
      "City not found. Skipping...\n",
      "Processing Record 37 of Set 6 | cap-aux-meules\n",
      "Processing Record 38 of Set 6 | codajas\n",
      "Processing Record 39 of Set 6 | broken hill\n",
      "Processing Record 40 of Set 6 | talnakh\n",
      "Processing Record 41 of Set 6 | buala\n",
      "Processing Record 42 of Set 6 | tanta\n",
      "Processing Record 43 of Set 6 | artyk\n",
      "Processing Record 44 of Set 6 | juneau\n",
      "Processing Record 45 of Set 6 | agucadoura\n",
      "Processing Record 46 of Set 6 | labuhan\n",
      "Processing Record 47 of Set 6 | nieuwpoort\n",
      "Processing Record 48 of Set 6 | ranong\n",
      "Processing Record 49 of Set 6 | rolim de moura\n",
      "City not found. Skipping...\n",
      "Processing Record 50 of Set 6 | tessalit\n",
      "Processing Record 1 of Set 7 | bosaso\n",
      "Processing Record 2 of Set 7 | huarmey\n",
      "Processing Record 3 of Set 7 | rumonge\n",
      "Processing Record 4 of Set 7 | beloha\n",
      "Processing Record 5 of Set 7 | angostura\n",
      "Processing Record 6 of Set 7 | nador\n",
      "Processing Record 7 of Set 7 | pisco\n",
      "Processing Record 8 of Set 7 | talavera de la reina\n",
      "Processing Record 9 of Set 7 | hambantota\n",
      "Processing Record 10 of Set 7 | constitucion\n",
      "Processing Record 11 of Set 7 | port augusta\n",
      "Processing Record 12 of Set 7 | waterfoot\n",
      "Processing Record 13 of Set 7 | litoral del san juan\n",
      "City not found. Skipping...\n",
      "Processing Record 14 of Set 7 | faya\n",
      "Processing Record 15 of Set 7 | kalmunai\n",
      "Processing Record 16 of Set 7 | auki\n",
      "Processing Record 17 of Set 7 | codrington\n",
      "Processing Record 18 of Set 7 | wattegama\n",
      "Processing Record 19 of Set 7 | gorno-chuyskiy\n",
      "City not found. Skipping...\n",
      "Processing Record 20 of Set 7 | smolenka\n",
      "Processing Record 21 of Set 7 | zhuhai\n",
      "Processing Record 22 of Set 7 | dekoa\n",
      "City not found. Skipping...\n",
      "Processing Record 23 of Set 7 | rome\n",
      "Processing Record 24 of Set 7 | sao miguel do araguaia\n",
      "Processing Record 25 of Set 7 | san cristobal\n",
      "Processing Record 26 of Set 7 | vilhena\n",
      "Processing Record 27 of Set 7 | tabiauea\n",
      "City not found. Skipping...\n",
      "Processing Record 28 of Set 7 | awjilah\n",
      "Processing Record 29 of Set 7 | saint-joseph\n",
      "Processing Record 30 of Set 7 | alice springs\n",
      "Processing Record 31 of Set 7 | arak\n",
      "Processing Record 32 of Set 7 | isangel\n",
      "Processing Record 33 of Set 7 | huangmei\n",
      "Processing Record 34 of Set 7 | kalabo\n",
      "Processing Record 35 of Set 7 | fukue\n",
      "Processing Record 36 of Set 7 | samur\n",
      "Processing Record 37 of Set 7 | grindavik\n",
      "Processing Record 38 of Set 7 | nome\n",
      "Processing Record 39 of Set 7 | bandarbeyla\n",
      "Processing Record 40 of Set 7 | mys shmidta\n",
      "City not found. Skipping...\n",
      "Processing Record 41 of Set 7 | saint-augustin\n",
      "Processing Record 42 of Set 7 | lavrentiya\n",
      "Processing Record 43 of Set 7 | nueva loja\n",
      "Processing Record 44 of Set 7 | severo-kurilsk\n",
      "Processing Record 45 of Set 7 | ozernovskiy\n",
      "Processing Record 46 of Set 7 | luoyang\n",
      "Processing Record 47 of Set 7 | baleshwar\n",
      "Processing Record 48 of Set 7 | bonthe\n",
      "Processing Record 49 of Set 7 | crab hill\n",
      "City not found. Skipping...\n",
      "Processing Record 50 of Set 7 | dawlatabad\n",
      "Processing Record 1 of Set 8 | uchaly\n",
      "Processing Record 2 of Set 8 | pudozh\n",
      "Processing Record 3 of Set 8 | tura\n",
      "Processing Record 4 of Set 8 | roald\n",
      "Processing Record 5 of Set 8 | mezen\n",
      "Processing Record 6 of Set 8 | petropavlovsk-kamchatskiy\n",
      "Processing Record 7 of Set 8 | tabou\n",
      "Processing Record 8 of Set 8 | sitka\n",
      "Processing Record 9 of Set 8 | concarneau\n",
      "Processing Record 10 of Set 8 | souillac\n",
      "Processing Record 11 of Set 8 | srednekolymsk\n",
      "Processing Record 12 of Set 8 | kikwit\n",
      "Processing Record 13 of Set 8 | warri\n",
      "Processing Record 14 of Set 8 | kosh-agach\n",
      "Processing Record 15 of Set 8 | mahbubabad\n",
      "Processing Record 16 of Set 8 | mount gambier\n",
      "Processing Record 17 of Set 8 | eyl\n",
      "Processing Record 18 of Set 8 | vikhorevka\n",
      "Processing Record 19 of Set 8 | ninh binh\n",
      "Processing Record 20 of Set 8 | hay river\n",
      "Processing Record 21 of Set 8 | margate\n",
      "Processing Record 22 of Set 8 | xacmaz\n",
      "Processing Record 23 of Set 8 | healdsburg\n"
     ]
    },
    {
     "name": "stdout",
     "output_type": "stream",
     "text": [
      "Processing Record 24 of Set 8 | meulaboh\n",
      "Processing Record 25 of Set 8 | upernavik\n",
      "Processing Record 26 of Set 8 | jodhpur\n",
      "Processing Record 27 of Set 8 | prince rupert\n",
      "Processing Record 28 of Set 8 | lumeje\n",
      "Processing Record 29 of Set 8 | agadez\n",
      "Processing Record 30 of Set 8 | anadyr\n",
      "Processing Record 31 of Set 8 | aljezur\n",
      "Processing Record 32 of Set 8 | xuanzhou\n",
      "Processing Record 33 of Set 8 | waipawa\n",
      "Processing Record 34 of Set 8 | touros\n",
      "Processing Record 35 of Set 8 | sur\n",
      "Processing Record 36 of Set 8 | kulhudhuffushi\n",
      "Processing Record 37 of Set 8 | aksay\n",
      "Processing Record 38 of Set 8 | lima\n",
      "Processing Record 39 of Set 8 | shunyi\n",
      "Processing Record 40 of Set 8 | jacqueville\n",
      "Processing Record 41 of Set 8 | tiznit\n",
      "Processing Record 42 of Set 8 | umzimvubu\n",
      "City not found. Skipping...\n",
      "Processing Record 43 of Set 8 | sochi\n",
      "Processing Record 44 of Set 8 | north atlanta\n",
      "Processing Record 45 of Set 8 | la plata\n",
      "Processing Record 46 of Set 8 | balykshi\n",
      "Processing Record 47 of Set 8 | dunkirk\n",
      "Processing Record 48 of Set 8 | kungurtug\n",
      "Processing Record 49 of Set 8 | akyab\n",
      "Processing Record 50 of Set 8 | ahipara\n",
      "Processing Record 1 of Set 9 | mayya\n",
      "Processing Record 2 of Set 9 | knysna\n",
      "Processing Record 3 of Set 9 | puerto leguizamo\n",
      "Processing Record 4 of Set 9 | grants pass\n",
      "Processing Record 5 of Set 9 | hami\n",
      "Processing Record 6 of Set 9 | leshukonskoye\n",
      "Processing Record 7 of Set 9 | san alberto\n",
      "Processing Record 8 of Set 9 | san quintin\n",
      "Processing Record 9 of Set 9 | yugorsk\n",
      "Processing Record 10 of Set 9 | aranos\n",
      "Processing Record 11 of Set 9 | gat\n",
      "Processing Record 12 of Set 9 | sovetskiy\n",
      "Processing Record 13 of Set 9 | tomatlan\n",
      "Processing Record 14 of Set 9 | chornobay\n",
      "Processing Record 15 of Set 9 | canatlan\n",
      "Processing Record 16 of Set 9 | belen\n",
      "Processing Record 17 of Set 9 | zoersel\n",
      "Processing Record 18 of Set 9 | nampula\n",
      "Processing Record 19 of Set 9 | benjamin constant\n",
      "Processing Record 20 of Set 9 | kiunga\n",
      "Processing Record 21 of Set 9 | guacimo\n",
      "Processing Record 22 of Set 9 | marzuq\n",
      "Processing Record 23 of Set 9 | narathiwat\n",
      "Processing Record 24 of Set 9 | gonbad-e qabus\n",
      "Processing Record 25 of Set 9 | hobyo\n",
      "Processing Record 26 of Set 9 | kaka\n",
      "Processing Record 27 of Set 9 | dawei\n",
      "Processing Record 28 of Set 9 | kieta\n",
      "Processing Record 29 of Set 9 | letpadan\n",
      "Processing Record 30 of Set 9 | chapais\n",
      "Processing Record 31 of Set 9 | mackay\n",
      "Processing Record 32 of Set 9 | el mahalla el kubra\n",
      "City not found. Skipping...\n",
      "Processing Record 33 of Set 9 | ankang\n",
      "Processing Record 34 of Set 9 | nemuro\n",
      "Processing Record 35 of Set 9 | fortuna\n",
      "Processing Record 36 of Set 9 | altamira\n",
      "Processing Record 37 of Set 9 | kutum\n",
      "Processing Record 38 of Set 9 | kerema\n",
      "Processing Record 39 of Set 9 | san rafael\n",
      "Processing Record 40 of Set 9 | matara\n",
      "Processing Record 41 of Set 9 | olafsvik\n",
      "Processing Record 42 of Set 9 | camana\n",
      "Processing Record 43 of Set 9 | haines junction\n",
      "Processing Record 44 of Set 9 | whitehorse\n",
      "Processing Record 45 of Set 9 | iskateley\n",
      "Processing Record 46 of Set 9 | lakes entrance\n",
      "Processing Record 47 of Set 9 | flin flon\n",
      "Processing Record 48 of Set 9 | asyut\n",
      "Processing Record 49 of Set 9 | salme\n",
      "Processing Record 50 of Set 9 | alofi\n",
      "Processing Record 1 of Set 10 | tubruq\n",
      "City not found. Skipping...\n",
      "Processing Record 2 of Set 10 | mersing\n",
      "Processing Record 3 of Set 10 | maningrida\n",
      "Processing Record 4 of Set 10 | presidencia roque saenz pena\n",
      "Processing Record 5 of Set 10 | alexandria\n",
      "Processing Record 6 of Set 10 | mutare\n",
      "Processing Record 7 of Set 10 | port-gentil\n",
      "Processing Record 8 of Set 10 | ouro fino\n",
      "Processing Record 9 of Set 10 | gagarin\n",
      "Processing Record 10 of Set 10 | shellbrook\n",
      "Processing Record 11 of Set 10 | the valley\n",
      "Processing Record 12 of Set 10 | chimoio\n",
      "Processing Record 13 of Set 10 | sobolevo\n",
      "Processing Record 14 of Set 10 | samarai\n",
      "Processing Record 15 of Set 10 | surami\n",
      "Processing Record 16 of Set 10 | karratha\n",
      "Processing Record 17 of Set 10 | usinsk\n",
      "Processing Record 18 of Set 10 | kamenka\n",
      "Processing Record 19 of Set 10 | skjaerhollen\n",
      "City not found. Skipping...\n",
      "Processing Record 20 of Set 10 | flinders\n",
      "Processing Record 21 of Set 10 | malwan\n",
      "City not found. Skipping...\n",
      "Processing Record 22 of Set 10 | qibili\n",
      "City not found. Skipping...\n",
      "Processing Record 23 of Set 10 | venado tuerto\n",
      "Processing Record 24 of Set 10 | nelson bay\n",
      "Processing Record 25 of Set 10 | soe\n",
      "Processing Record 26 of Set 10 | solton\n",
      "Processing Record 27 of Set 10 | menongue\n",
      "Processing Record 28 of Set 10 | palmer\n",
      "Processing Record 29 of Set 10 | uarini\n",
      "Processing Record 30 of Set 10 | omsukchan\n",
      "Processing Record 31 of Set 10 | qui nhon\n",
      "Processing Record 32 of Set 10 | ponta delgada\n",
      "Processing Record 33 of Set 10 | asayita\n",
      "City not found. Skipping...\n",
      "Processing Record 34 of Set 10 | hualmay\n",
      "Processing Record 35 of Set 10 | byron bay\n",
      "Processing Record 36 of Set 10 | gizo\n",
      "Processing Record 37 of Set 10 | burgeo\n",
      "Processing Record 38 of Set 10 | dalianwan\n",
      "Processing Record 39 of Set 10 | bargal\n",
      "City not found. Skipping...\n",
      "Processing Record 40 of Set 10 | vao\n",
      "Processing Record 41 of Set 10 | gari\n",
      "Processing Record 42 of Set 10 | lee\n",
      "Processing Record 43 of Set 10 | yaqui\n",
      "Processing Record 44 of Set 10 | la puebla del rio\n",
      "Processing Record 45 of Set 10 | viedma\n",
      "Processing Record 46 of Set 10 | rockport\n",
      "Processing Record 47 of Set 10 | uray\n",
      "Processing Record 48 of Set 10 | mansar\n",
      "Processing Record 49 of Set 10 | oriximina\n",
      "Processing Record 50 of Set 10 | namtsy\n",
      "Processing Record 1 of Set 11 | nioro\n",
      "Processing Record 2 of Set 11 | linares\n",
      "Processing Record 3 of Set 11 | saint-gaudens\n",
      "Processing Record 4 of Set 11 | aykhal\n",
      "Processing Record 5 of Set 11 | inta\n",
      "Processing Record 6 of Set 11 | liminangcong\n",
      "City not found. Skipping...\n",
      "Processing Record 7 of Set 11 | bardiyah\n",
      "Processing Record 8 of Set 11 | alugan\n",
      "Processing Record 9 of Set 11 | tonantins\n",
      "Processing Record 10 of Set 11 | tumannyy\n",
      "City not found. Skipping...\n",
      "Processing Record 11 of Set 11 | sorvag\n",
      "City not found. Skipping...\n",
      "Processing Record 12 of Set 11 | campos belos\n",
      "Processing Record 13 of Set 11 | magadi\n",
      "Processing Record 14 of Set 11 | kabinda\n",
      "Processing Record 15 of Set 11 | brae\n",
      "Processing Record 16 of Set 11 | springdale\n",
      "Processing Record 17 of Set 11 | ostrovnoy\n",
      "Processing Record 18 of Set 11 | westport\n",
      "Processing Record 19 of Set 11 | karagay\n",
      "Processing Record 20 of Set 11 | uhlove\n",
      "Processing Record 21 of Set 11 | kailua\n",
      "Processing Record 22 of Set 11 | carroll\n",
      "Processing Record 23 of Set 11 | yulara\n",
      "Processing Record 24 of Set 11 | taoudenni\n",
      "Processing Record 25 of Set 11 | bastia\n",
      "Processing Record 26 of Set 11 | oussouye\n",
      "Processing Record 27 of Set 11 | chiang khong\n",
      "Processing Record 28 of Set 11 | buraydah\n",
      "Processing Record 29 of Set 11 | kamenskoye\n",
      "Processing Record 30 of Set 11 | misratah\n",
      "Processing Record 31 of Set 11 | berlevag\n",
      "Processing Record 32 of Set 11 | lar\n",
      "Processing Record 33 of Set 11 | cahors\n",
      "Processing Record 34 of Set 11 | kasongo-lunda\n",
      "Processing Record 35 of Set 11 | minamiashigara\n",
      "Processing Record 36 of Set 11 | bokspits\n",
      "City not found. Skipping...\n",
      "Processing Record 37 of Set 11 | bonavista\n",
      "Processing Record 38 of Set 11 | erzin\n",
      "Processing Record 39 of Set 11 | ternate\n",
      "Processing Record 40 of Set 11 | rust\n",
      "Processing Record 41 of Set 11 | inhambane\n",
      "Processing Record 42 of Set 11 | yafran\n",
      "Processing Record 43 of Set 11 | alyangula\n",
      "Processing Record 44 of Set 11 | pamplona\n",
      "Processing Record 45 of Set 11 | cap malheureux\n",
      "Processing Record 46 of Set 11 | ajdabiya\n",
      "Processing Record 47 of Set 11 | tarko-sale\n",
      "Processing Record 48 of Set 11 | conceicao do araguaia\n",
      "Processing Record 49 of Set 11 | san juan\n",
      "Processing Record 50 of Set 11 | ust-nera\n",
      "Processing Record 1 of Set 12 | utiroa\n",
      "City not found. Skipping...\n",
      "Processing Record 2 of Set 12 | port hedland\n",
      "Processing Record 3 of Set 12 | nago\n",
      "Processing Record 4 of Set 12 | ekhabi\n",
      "Processing Record 5 of Set 12 | tay ninh\n",
      "Processing Record 6 of Set 12 | fort nelson\n",
      "Processing Record 7 of Set 12 | khash\n",
      "Processing Record 8 of Set 12 | benguela\n",
      "Processing Record 9 of Set 12 | saint-leu\n",
      "Processing Record 10 of Set 12 | buritis\n",
      "Processing Record 11 of Set 12 | aksu\n",
      "-------------------------\n",
      "Data Retrieval Complete\n"
     ]
    }
   ],
   "source": [
    "set_count = 1\n",
    "record = 0\n",
    "url = \"http://api.openweathermap.org/data/2.5/weather?\"\n",
    "units = \"imperial\" \n",
    "\n",
    "print('Beginning Data Retrieval')\n",
    "print('------------------------')\n",
    "\n",
    "for city in city_list:\n",
    "    \n",
    "    query_url = url + \"appid=\" + weather_api_key + \"&q=\" + city + \"&units=\" + units\n",
    "    response = requests.get(query_url).json()\n",
    "    \n",
    "    if record < 50:\n",
    "        record += 1\n",
    "    else:\n",
    "        set_count += 1\n",
    "        record = 1\n",
    "\n",
    "    print(f\"Processing Record {record} of Set {set_count} | {city}\")\n",
    "    \n",
    "    try:\n",
    "        city_name.append(response['name'])\n",
    "        cloudiness.append(response['clouds']['all'])\n",
    "        country.append(response['sys']['country'])\n",
    "        date.append(response['dt'])\n",
    "        humidity.append(response['main']['humidity'])\n",
    "        lat.append(response['coord']['lat'])\n",
    "        lng.append(response['coord']['lon'])\n",
    "        max_temp.append(response['main']['temp_max'])\n",
    "        wind_speed.append(response['wind']['speed'])\n",
    "        \n",
    "    except:\n",
    "        print(\"City not found. Skipping...\")\n",
    "        pass\n",
    "\n",
    "print('-------------------------')\n",
    "print('Data Retrieval Complete')"
   ]
  },
  {
   "cell_type": "raw",
   "metadata": {},
   "source": [
    "#Tried interrows briefly\n",
    "\n",
    "#Need to create a Dataframe for data from interrows loop\n",
    "city_data[\"City_ID\"] = \"\"\n",
    "city_data[\"City\"] = \"\"\n",
    "city_data[\"Cloudiness\"] = \"\"\n",
    "city_data[\"Country\"] = \"\"\n",
    "city_data[\"Date\"] = \"\"\n",
    "city_data[\"Humidity\"] = \"\"\n",
    "city_data[\"Lat\"] = \"\"\n",
    "city_data[\"Lng\"] = \"\"\n",
    "city_data[\"Max Temp\"] = \"\"\n",
    "city_data[\"Wind Speed\"] = \"\"\n",
    "\n",
    "for index, row in city_data.iterrows():\n",
    "    url = base_url + \"appid=\" + weather_api_key + \"&q=\" + rand_city + \"&units=\" + units\n",
    "    response = requests.get(url).json()\n",
    "\n",
    "    city_data.loc[index, \"City\"] = response[\"sys\"][\"country\"]     \n",
    "    city_data.loc[index, \"Cloudiness\"] = response[\"clouds\"][\"all\"]\n",
    "    city_data.loc[index, \"Country\"] = response[\"sys\"][\"country\"]     \n",
    "    city_data.loc[index, \"Date\"] = (response[\"dt\"])\n",
    "    city_data.loc[index, \"Humidity\"] = response[\"main\"][\"humidity\"]\n",
    "    city_data.loc[index, \"Lat\"] = response[\"coord\"][\"lat\"] \n",
    "    city_data.loc[index, \"Lng\"] = response[\"coord\"][\"lon\"]\n",
    "    city_data.loc[index, \"Max Temp\"] = (response[\"main\"][\"temp_max\"])\n",
    "    city_data.loc[index, \"Wind Speed\"] = response[\"wind\"][\"speed\"]"
   ]
  },
  {
   "cell_type": "markdown",
   "metadata": {},
   "source": [
    "### Convert Raw Data to DataFrame\n",
    "* Export the city data into a .csv.\n",
    "* Display the DataFrame"
   ]
  },
  {
   "cell_type": "code",
   "execution_count": 13,
   "metadata": {},
   "outputs": [
    {
     "data": {
      "text/html": [
       "<div>\n",
       "<style scoped>\n",
       "    .dataframe tbody tr th:only-of-type {\n",
       "        vertical-align: middle;\n",
       "    }\n",
       "\n",
       "    .dataframe tbody tr th {\n",
       "        vertical-align: top;\n",
       "    }\n",
       "\n",
       "    .dataframe thead th {\n",
       "        text-align: right;\n",
       "    }\n",
       "</style>\n",
       "<table border=\"1\" class=\"dataframe\">\n",
       "  <thead>\n",
       "    <tr style=\"text-align: right;\">\n",
       "      <th></th>\n",
       "      <th>City</th>\n",
       "      <th>Country</th>\n",
       "      <th>Date</th>\n",
       "      <th>Latitude</th>\n",
       "      <th>Longitude</th>\n",
       "      <th>Cloudiness</th>\n",
       "      <th>Humidity</th>\n",
       "      <th>Max Temperature</th>\n",
       "      <th>Wind Speed</th>\n",
       "    </tr>\n",
       "  </thead>\n",
       "  <tbody>\n",
       "    <tr>\n",
       "      <th>0</th>\n",
       "      <td>Arraial do Cabo</td>\n",
       "      <td>BR</td>\n",
       "      <td>1738906615</td>\n",
       "      <td>-22.9661</td>\n",
       "      <td>-42.0278</td>\n",
       "      <td>98</td>\n",
       "      <td>93</td>\n",
       "      <td>73.90</td>\n",
       "      <td>18.03</td>\n",
       "    </tr>\n",
       "    <tr>\n",
       "      <th>1</th>\n",
       "      <td>Ust-Maya</td>\n",
       "      <td>RU</td>\n",
       "      <td>1738906615</td>\n",
       "      <td>60.4167</td>\n",
       "      <td>134.5333</td>\n",
       "      <td>100</td>\n",
       "      <td>91</td>\n",
       "      <td>-16.92</td>\n",
       "      <td>4.85</td>\n",
       "    </tr>\n",
       "    <tr>\n",
       "      <th>2</th>\n",
       "      <td>Bethel</td>\n",
       "      <td>US</td>\n",
       "      <td>1738906616</td>\n",
       "      <td>41.3712</td>\n",
       "      <td>-73.4140</td>\n",
       "      <td>100</td>\n",
       "      <td>90</td>\n",
       "      <td>36.59</td>\n",
       "      <td>5.01</td>\n",
       "    </tr>\n",
       "    <tr>\n",
       "      <th>3</th>\n",
       "      <td>Henties Bay</td>\n",
       "      <td>NA</td>\n",
       "      <td>1738906616</td>\n",
       "      <td>-22.1160</td>\n",
       "      <td>14.2845</td>\n",
       "      <td>77</td>\n",
       "      <td>84</td>\n",
       "      <td>66.43</td>\n",
       "      <td>4.07</td>\n",
       "    </tr>\n",
       "    <tr>\n",
       "      <th>4</th>\n",
       "      <td>High Level</td>\n",
       "      <td>CA</td>\n",
       "      <td>1738906616</td>\n",
       "      <td>58.5169</td>\n",
       "      <td>-117.1360</td>\n",
       "      <td>100</td>\n",
       "      <td>77</td>\n",
       "      <td>-3.89</td>\n",
       "      <td>0.00</td>\n",
       "    </tr>\n",
       "    <tr>\n",
       "      <th>...</th>\n",
       "      <td>...</td>\n",
       "      <td>...</td>\n",
       "      <td>...</td>\n",
       "      <td>...</td>\n",
       "      <td>...</td>\n",
       "      <td>...</td>\n",
       "      <td>...</td>\n",
       "      <td>...</td>\n",
       "      <td>...</td>\n",
       "    </tr>\n",
       "    <tr>\n",
       "      <th>672</th>\n",
       "      <td>Khāsh</td>\n",
       "      <td>IR</td>\n",
       "      <td>1738907309</td>\n",
       "      <td>28.2211</td>\n",
       "      <td>61.2158</td>\n",
       "      <td>95</td>\n",
       "      <td>25</td>\n",
       "      <td>58.57</td>\n",
       "      <td>18.28</td>\n",
       "    </tr>\n",
       "    <tr>\n",
       "      <th>673</th>\n",
       "      <td>Benguela</td>\n",
       "      <td>AO</td>\n",
       "      <td>1738907309</td>\n",
       "      <td>-12.5763</td>\n",
       "      <td>13.4055</td>\n",
       "      <td>91</td>\n",
       "      <td>79</td>\n",
       "      <td>78.51</td>\n",
       "      <td>3.47</td>\n",
       "    </tr>\n",
       "    <tr>\n",
       "      <th>674</th>\n",
       "      <td>Saint-Leu</td>\n",
       "      <td>RE</td>\n",
       "      <td>1738907309</td>\n",
       "      <td>-21.1500</td>\n",
       "      <td>55.2833</td>\n",
       "      <td>28</td>\n",
       "      <td>89</td>\n",
       "      <td>86.95</td>\n",
       "      <td>6.89</td>\n",
       "    </tr>\n",
       "    <tr>\n",
       "      <th>675</th>\n",
       "      <td>Buritis</td>\n",
       "      <td>BR</td>\n",
       "      <td>1738907309</td>\n",
       "      <td>-15.6178</td>\n",
       "      <td>-46.4233</td>\n",
       "      <td>63</td>\n",
       "      <td>85</td>\n",
       "      <td>67.71</td>\n",
       "      <td>0.85</td>\n",
       "    </tr>\n",
       "    <tr>\n",
       "      <th>676</th>\n",
       "      <td>Aksu</td>\n",
       "      <td>CN</td>\n",
       "      <td>1738907309</td>\n",
       "      <td>41.1231</td>\n",
       "      <td>80.2644</td>\n",
       "      <td>49</td>\n",
       "      <td>54</td>\n",
       "      <td>27.63</td>\n",
       "      <td>2.15</td>\n",
       "    </tr>\n",
       "  </tbody>\n",
       "</table>\n",
       "<p>677 rows × 9 columns</p>\n",
       "</div>"
      ],
      "text/plain": [
       "                City Country        Date  Latitude  Longitude  Cloudiness  \\\n",
       "0    Arraial do Cabo      BR  1738906615  -22.9661   -42.0278          98   \n",
       "1           Ust-Maya      RU  1738906615   60.4167   134.5333         100   \n",
       "2             Bethel      US  1738906616   41.3712   -73.4140         100   \n",
       "3        Henties Bay      NA  1738906616  -22.1160    14.2845          77   \n",
       "4         High Level      CA  1738906616   58.5169  -117.1360         100   \n",
       "..               ...     ...         ...       ...        ...         ...   \n",
       "672            Khāsh      IR  1738907309   28.2211    61.2158          95   \n",
       "673         Benguela      AO  1738907309  -12.5763    13.4055          91   \n",
       "674        Saint-Leu      RE  1738907309  -21.1500    55.2833          28   \n",
       "675          Buritis      BR  1738907309  -15.6178   -46.4233          63   \n",
       "676             Aksu      CN  1738907309   41.1231    80.2644          49   \n",
       "\n",
       "     Humidity  Max Temperature  Wind Speed  \n",
       "0          93            73.90       18.03  \n",
       "1          91           -16.92        4.85  \n",
       "2          90            36.59        5.01  \n",
       "3          84            66.43        4.07  \n",
       "4          77            -3.89        0.00  \n",
       "..        ...              ...         ...  \n",
       "672        25            58.57       18.28  \n",
       "673        79            78.51        3.47  \n",
       "674        89            86.95        6.89  \n",
       "675        85            67.71        0.85  \n",
       "676        54            27.63        2.15  \n",
       "\n",
       "[677 rows x 9 columns]"
      ]
     },
     "execution_count": 13,
     "metadata": {},
     "output_type": "execute_result"
    }
   ],
   "source": [
    "weather_df = pd.DataFrame({\"City\": city_name, \"Country\": country, \"Date\": date,\n",
    "                          \"Latitude\": lat, \"Longitude\": lng, \"Cloudiness\": cloudiness,\n",
    "                          \"Humidity\": humidity, \"Max Temperature\": max_temp, \"Wind Speed\": wind_speed})\n",
    "\n",
    "weather_df"
   ]
  },
  {
   "cell_type": "code",
   "execution_count": 14,
   "metadata": {},
   "outputs": [
    {
     "data": {
      "text/plain": [
       "Rome           3\n",
       "Mataura        2\n",
       "Nkhotakota     2\n",
       "Jiuquan        2\n",
       "Henties Bay    2\n",
       "              ..\n",
       "Mezen'         1\n",
       "Mersing        1\n",
       "Omsukchan      1\n",
       "Kosh-Agach     1\n",
       "Khāsh          1\n",
       "Name: City, Length: 510, dtype: int64"
      ]
     },
     "execution_count": 14,
     "metadata": {},
     "output_type": "execute_result"
    }
   ],
   "source": [
    "weather_df['City'].value_counts()"
   ]
  },
  {
   "cell_type": "code",
   "execution_count": 15,
   "metadata": {},
   "outputs": [],
   "source": [
    "weather_df = weather_df.drop_duplicates(['City'])"
   ]
  },
  {
   "cell_type": "code",
   "execution_count": 16,
   "metadata": {},
   "outputs": [
    {
     "data": {
      "text/plain": [
       "City               510\n",
       "Country            510\n",
       "Date               510\n",
       "Latitude           510\n",
       "Longitude          510\n",
       "Cloudiness         510\n",
       "Humidity           510\n",
       "Max Temperature    510\n",
       "Wind Speed         510\n",
       "dtype: int64"
      ]
     },
     "execution_count": 16,
     "metadata": {},
     "output_type": "execute_result"
    }
   ],
   "source": [
    "weather_df.count()"
   ]
  },
  {
   "cell_type": "code",
   "execution_count": 17,
   "metadata": {},
   "outputs": [
    {
     "data": {
      "text/html": [
       "<div>\n",
       "<style scoped>\n",
       "    .dataframe tbody tr th:only-of-type {\n",
       "        vertical-align: middle;\n",
       "    }\n",
       "\n",
       "    .dataframe tbody tr th {\n",
       "        vertical-align: top;\n",
       "    }\n",
       "\n",
       "    .dataframe thead th {\n",
       "        text-align: right;\n",
       "    }\n",
       "</style>\n",
       "<table border=\"1\" class=\"dataframe\">\n",
       "  <thead>\n",
       "    <tr style=\"text-align: right;\">\n",
       "      <th></th>\n",
       "      <th>Date</th>\n",
       "      <th>Latitude</th>\n",
       "      <th>Longitude</th>\n",
       "      <th>Cloudiness</th>\n",
       "      <th>Humidity</th>\n",
       "      <th>Max Temperature</th>\n",
       "      <th>Wind Speed</th>\n",
       "    </tr>\n",
       "  </thead>\n",
       "  <tbody>\n",
       "    <tr>\n",
       "      <th>count</th>\n",
       "      <td>5.100000e+02</td>\n",
       "      <td>510.000000</td>\n",
       "      <td>510.000000</td>\n",
       "      <td>510.000000</td>\n",
       "      <td>510.000000</td>\n",
       "      <td>510.000000</td>\n",
       "      <td>510.000000</td>\n",
       "    </tr>\n",
       "    <tr>\n",
       "      <th>mean</th>\n",
       "      <td>1.738907e+09</td>\n",
       "      <td>20.930423</td>\n",
       "      <td>21.169674</td>\n",
       "      <td>60.366667</td>\n",
       "      <td>72.178431</td>\n",
       "      <td>51.033922</td>\n",
       "      <td>9.081490</td>\n",
       "    </tr>\n",
       "    <tr>\n",
       "      <th>std</th>\n",
       "      <td>3.130413e+02</td>\n",
       "      <td>33.271312</td>\n",
       "      <td>88.586412</td>\n",
       "      <td>38.766908</td>\n",
       "      <td>22.726734</td>\n",
       "      <td>30.689522</td>\n",
       "      <td>6.591291</td>\n",
       "    </tr>\n",
       "    <tr>\n",
       "      <th>min</th>\n",
       "      <td>1.738906e+09</td>\n",
       "      <td>-54.800000</td>\n",
       "      <td>-175.200000</td>\n",
       "      <td>0.000000</td>\n",
       "      <td>5.000000</td>\n",
       "      <td>-38.510000</td>\n",
       "      <td>0.000000</td>\n",
       "    </tr>\n",
       "    <tr>\n",
       "      <th>25%</th>\n",
       "      <td>1.738907e+09</td>\n",
       "      <td>-7.196100</td>\n",
       "      <td>-55.482900</td>\n",
       "      <td>20.000000</td>\n",
       "      <td>62.000000</td>\n",
       "      <td>29.215000</td>\n",
       "      <td>4.000000</td>\n",
       "    </tr>\n",
       "    <tr>\n",
       "      <th>50%</th>\n",
       "      <td>1.738907e+09</td>\n",
       "      <td>26.197250</td>\n",
       "      <td>27.153850</td>\n",
       "      <td>75.000000</td>\n",
       "      <td>77.000000</td>\n",
       "      <td>59.710000</td>\n",
       "      <td>7.470000</td>\n",
       "    </tr>\n",
       "    <tr>\n",
       "      <th>75%</th>\n",
       "      <td>1.738907e+09</td>\n",
       "      <td>48.762625</td>\n",
       "      <td>97.174225</td>\n",
       "      <td>99.000000</td>\n",
       "      <td>91.000000</td>\n",
       "      <td>75.277500</td>\n",
       "      <td>12.822500</td>\n",
       "    </tr>\n",
       "    <tr>\n",
       "      <th>max</th>\n",
       "      <td>1.738907e+09</td>\n",
       "      <td>78.218600</td>\n",
       "      <td>179.316700</td>\n",
       "      <td>100.000000</td>\n",
       "      <td>100.000000</td>\n",
       "      <td>106.050000</td>\n",
       "      <td>56.660000</td>\n",
       "    </tr>\n",
       "  </tbody>\n",
       "</table>\n",
       "</div>"
      ],
      "text/plain": [
       "               Date    Latitude   Longitude  Cloudiness    Humidity  \\\n",
       "count  5.100000e+02  510.000000  510.000000  510.000000  510.000000   \n",
       "mean   1.738907e+09   20.930423   21.169674   60.366667   72.178431   \n",
       "std    3.130413e+02   33.271312   88.586412   38.766908   22.726734   \n",
       "min    1.738906e+09  -54.800000 -175.200000    0.000000    5.000000   \n",
       "25%    1.738907e+09   -7.196100  -55.482900   20.000000   62.000000   \n",
       "50%    1.738907e+09   26.197250   27.153850   75.000000   77.000000   \n",
       "75%    1.738907e+09   48.762625   97.174225   99.000000   91.000000   \n",
       "max    1.738907e+09   78.218600  179.316700  100.000000  100.000000   \n",
       "\n",
       "       Max Temperature  Wind Speed  \n",
       "count       510.000000  510.000000  \n",
       "mean         51.033922    9.081490  \n",
       "std          30.689522    6.591291  \n",
       "min         -38.510000    0.000000  \n",
       "25%          29.215000    4.000000  \n",
       "50%          59.710000    7.470000  \n",
       "75%          75.277500   12.822500  \n",
       "max         106.050000   56.660000  "
      ]
     },
     "execution_count": 17,
     "metadata": {},
     "output_type": "execute_result"
    }
   ],
   "source": [
    "weather_df.describe()"
   ]
  },
  {
   "cell_type": "code",
   "execution_count": 18,
   "metadata": {},
   "outputs": [],
   "source": [
    "weather_df.to_csv(\"Outputs/weather_df.csv\", encoding=\"utf-8\", index=False)"
   ]
  },
  {
   "cell_type": "markdown",
   "metadata": {},
   "source": [
    "## Inspect the data and remove the cities where the humidity > 100%.\n",
    "----\n",
    "Skip this step if there are no cities that have humidity > 100%. "
   ]
  },
  {
   "cell_type": "code",
   "execution_count": 19,
   "metadata": {},
   "outputs": [
    {
     "data": {
      "text/plain": [
       "Int64Index([], dtype='int64')"
      ]
     },
     "execution_count": 19,
     "metadata": {},
     "output_type": "execute_result"
    }
   ],
   "source": [
    "#  Get the indices of cities that have humidity over 100%.\n",
    "humidity_df = weather_df.loc[weather_df['Humidity'] > 100].index\n",
    "humidity_df"
   ]
  },
  {
   "cell_type": "code",
   "execution_count": 20,
   "metadata": {},
   "outputs": [
    {
     "data": {
      "text/html": [
       "<div>\n",
       "<style scoped>\n",
       "    .dataframe tbody tr th:only-of-type {\n",
       "        vertical-align: middle;\n",
       "    }\n",
       "\n",
       "    .dataframe tbody tr th {\n",
       "        vertical-align: top;\n",
       "    }\n",
       "\n",
       "    .dataframe thead th {\n",
       "        text-align: right;\n",
       "    }\n",
       "</style>\n",
       "<table border=\"1\" class=\"dataframe\">\n",
       "  <thead>\n",
       "    <tr style=\"text-align: right;\">\n",
       "      <th></th>\n",
       "      <th>City</th>\n",
       "      <th>Country</th>\n",
       "      <th>Date</th>\n",
       "      <th>Latitude</th>\n",
       "      <th>Longitude</th>\n",
       "      <th>Cloudiness</th>\n",
       "      <th>Humidity</th>\n",
       "      <th>Max Temperature</th>\n",
       "      <th>Wind Speed</th>\n",
       "    </tr>\n",
       "  </thead>\n",
       "  <tbody>\n",
       "    <tr>\n",
       "      <th>0</th>\n",
       "      <td>Arraial do Cabo</td>\n",
       "      <td>BR</td>\n",
       "      <td>1738906615</td>\n",
       "      <td>-22.9661</td>\n",
       "      <td>-42.0278</td>\n",
       "      <td>98</td>\n",
       "      <td>93</td>\n",
       "      <td>73.90</td>\n",
       "      <td>18.03</td>\n",
       "    </tr>\n",
       "    <tr>\n",
       "      <th>1</th>\n",
       "      <td>Ust-Maya</td>\n",
       "      <td>RU</td>\n",
       "      <td>1738906615</td>\n",
       "      <td>60.4167</td>\n",
       "      <td>134.5333</td>\n",
       "      <td>100</td>\n",
       "      <td>91</td>\n",
       "      <td>-16.92</td>\n",
       "      <td>4.85</td>\n",
       "    </tr>\n",
       "    <tr>\n",
       "      <th>2</th>\n",
       "      <td>Bethel</td>\n",
       "      <td>US</td>\n",
       "      <td>1738906616</td>\n",
       "      <td>41.3712</td>\n",
       "      <td>-73.4140</td>\n",
       "      <td>100</td>\n",
       "      <td>90</td>\n",
       "      <td>36.59</td>\n",
       "      <td>5.01</td>\n",
       "    </tr>\n",
       "    <tr>\n",
       "      <th>3</th>\n",
       "      <td>Henties Bay</td>\n",
       "      <td>NA</td>\n",
       "      <td>1738906616</td>\n",
       "      <td>-22.1160</td>\n",
       "      <td>14.2845</td>\n",
       "      <td>77</td>\n",
       "      <td>84</td>\n",
       "      <td>66.43</td>\n",
       "      <td>4.07</td>\n",
       "    </tr>\n",
       "    <tr>\n",
       "      <th>4</th>\n",
       "      <td>High Level</td>\n",
       "      <td>CA</td>\n",
       "      <td>1738906616</td>\n",
       "      <td>58.5169</td>\n",
       "      <td>-117.1360</td>\n",
       "      <td>100</td>\n",
       "      <td>77</td>\n",
       "      <td>-3.89</td>\n",
       "      <td>0.00</td>\n",
       "    </tr>\n",
       "  </tbody>\n",
       "</table>\n",
       "</div>"
      ],
      "text/plain": [
       "              City Country        Date  Latitude  Longitude  Cloudiness  \\\n",
       "0  Arraial do Cabo      BR  1738906615  -22.9661   -42.0278          98   \n",
       "1         Ust-Maya      RU  1738906615   60.4167   134.5333         100   \n",
       "2           Bethel      US  1738906616   41.3712   -73.4140         100   \n",
       "3      Henties Bay      NA  1738906616  -22.1160    14.2845          77   \n",
       "4       High Level      CA  1738906616   58.5169  -117.1360         100   \n",
       "\n",
       "   Humidity  Max Temperature  Wind Speed  \n",
       "0        93            73.90       18.03  \n",
       "1        91           -16.92        4.85  \n",
       "2        90            36.59        5.01  \n",
       "3        84            66.43        4.07  \n",
       "4        77            -3.89        0.00  "
      ]
     },
     "execution_count": 20,
     "metadata": {},
     "output_type": "execute_result"
    }
   ],
   "source": [
    "# Make a new DataFrame equal to the city data to drop all humidity outliers by index.\n",
    "# Passing \"inplace=False\" will make a copy of the city_data DataFrame, which we call \"clean_city_data\".\n",
    "\n",
    "humid_index_data = weather_df.drop(humidity_df, inplace=False)\n",
    "humid_index_data.head()"
   ]
  },
  {
   "cell_type": "code",
   "execution_count": 21,
   "metadata": {
    "scrolled": true
   },
   "outputs": [],
   "source": [
    "# Extract relevant fields from the data frame\n",
    "lats = humid_index_data[\"Latitude\"]\n",
    "max_temps = humid_index_data[\"Max Temperature\"]\n",
    "humidity = humid_index_data[\"Humidity\"]\n",
    "cloudiness = humid_index_data[\"Cloudiness\"]\n",
    "wind_speed = humid_index_data[\"Wind Speed\"]\n",
    "\n",
    "# Export the City_Data into a csv\n",
    "humid_index_data.to_csv(\"../output_data/cities.csv\", index_label=\"City_ID\")"
   ]
  },
  {
   "cell_type": "markdown",
   "metadata": {},
   "source": [
    "## Plotting the Data\n",
    "* Use proper labeling of the plots using plot titles (including date of analysis) and axes labels.\n",
    "* Save the plotted figures as .pngs."
   ]
  },
  {
   "cell_type": "markdown",
   "metadata": {},
   "source": [
    "## Latitude vs. Temperature Plot"
   ]
  },
  {
   "cell_type": "code",
   "execution_count": 22,
   "metadata": {},
   "outputs": [
    {
     "data": {
      "image/png": "[encoded data removed]",
      "text/plain": [
       "<Figure size 432x288 with 1 Axes>"
      ]
     },
     "metadata": {
      "needs_background": "light"
     },
     "output_type": "display_data"
    }
   ],
   "source": [
    "weather_df.plot(kind='scatter', x = 'Latitude', y = 'Max Temperature')\n",
    "plt.title('Latitude Vs Max Temperature')\n",
    "plt.xlabel('Latitude (Deg)')\n",
    "plt.ylabel('Max Temperature (F)')\n",
    "plt.grid()"
   ]
  },
  {
   "cell_type": "markdown",
   "metadata": {},
   "source": [
    "## Latitude vs. Humidity Plot"
   ]
  },
  {
   "cell_type": "code",
   "execution_count": 23,
   "metadata": {},
   "outputs": [
    {
     "data": {
      "image/png": "[encoded data removed]",
      "text/plain": [
       "<Figure size 432x288 with 1 Axes>"
      ]
     },
     "metadata": {
      "needs_background": "light"
     },
     "output_type": "display_data"
    }
   ],
   "source": [
    "weather_df.plot(kind='scatter', x = 'Latitude', y = 'Humidity')\n",
    "plt.title('Latitude Vs Humidity')\n",
    "plt.xlabel('Latitude (Deg)')\n",
    "plt.ylabel('Humidity (%)')\n",
    "plt.grid()"
   ]
  },
  {
   "cell_type": "markdown",
   "metadata": {},
   "source": [
    "## Latitude vs. Cloudiness Plot"
   ]
  },
  {
   "cell_type": "code",
   "execution_count": 24,
   "metadata": {},
   "outputs": [
    {
     "data": {
      "image/png": "[encoded data removed]",
      "text/plain": [
       "<Figure size 432x288 with 1 Axes>"
      ]
     },
     "metadata": {
      "needs_background": "light"
     },
     "output_type": "display_data"
    }
   ],
   "source": [
    "weather_df.plot(kind='scatter', x = 'Latitude', y = 'Cloudiness')\n",
    "plt.title('Latitude Vs Cloudiness')\n",
    "plt.xlabel('Latitude (Deg)')\n",
    "plt.ylabel('Cloudiness')\n",
    "plt.grid()"
   ]
  },
  {
   "cell_type": "markdown",
   "metadata": {},
   "source": [
    "## Latitude vs. Wind Speed Plot"
   ]
  },
  {
   "cell_type": "markdown",
   "metadata": {},
   "source": [
    "## Linear Regression"
   ]
  },
  {
   "cell_type": "code",
   "execution_count": 25,
   "metadata": {},
   "outputs": [],
   "source": [
    "#create hemisphere dataframes\n",
    "\n",
    "north_df = weather_df.loc[weather_df['Latitude']>=0]\n",
    "south_df = weather_df.loc[weather_df['Latitude']<0]"
   ]
  },
  {
   "cell_type": "code",
   "execution_count": 26,
   "metadata": {},
   "outputs": [],
   "source": [
    "def plot_linear_regression(x_values, y_values, title, text_coordinates):\n",
    "    (slope, intercept, r, p, stderr) = linregress(x_val, y_val)\n",
    "\n",
    "    reg_val = x_val * slope + intercept\n",
    "    line_eq = 'y = ' + str(round(slope,2)) + 'x + ' + str(round(intercept,2))\n",
    "\n",
    "    plt.scatter(x_val, y_val)\n",
    "    plt.plot(x_val, reg_val, \"r-\")\n",
    "    plt.annotate(line_eq, text_coordinates, fontsize=15, color= \"red\")\n",
    "\n",
    "    plt.xlabel('Latitude')\n",
    "    plt.ylabel(title)\n",
    "    print(f\"The r-value is: {r**2}\")\n",
    "\n",
    "    plt.show()"
   ]
  },
  {
   "cell_type": "markdown",
   "metadata": {},
   "source": [
    "####  Northern Hemisphere - Max Temp vs. Latitude Linear Regression"
   ]
  },
  {
   "cell_type": "code",
   "execution_count": 27,
   "metadata": {},
   "outputs": [
    {
     "name": "stdout",
     "output_type": "stream",
     "text": [
      "The r-value is: 0.7443275520875637\n"
     ]
    },
    {
     "data": {
      "image/png": "[encoded data removed]",
      "text/plain": [
       "<Figure size 432x288 with 1 Axes>"
      ]
     },
     "metadata": {
      "needs_background": "light"
     },
     "output_type": "display_data"
    }
   ],
   "source": [
    "x_val = north_df['Latitude']\n",
    "y_val = north_df['Max Temperature']\n",
    "\n",
    "plot_linear_regression(x_val, y_val, 'Max Temperature', (6,30)) "
   ]
  },
  {
   "cell_type": "markdown",
   "metadata": {},
   "source": [
    "####  Southern Hemisphere - Max Temp vs. Latitude Linear Regression"
   ]
  },
  {
   "cell_type": "code",
   "execution_count": 28,
   "metadata": {},
   "outputs": [
    {
     "name": "stdout",
     "output_type": "stream",
     "text": [
      "The r-value is: 0.13627103239558533\n"
     ]
    },
    {
     "data": {
      "image/png": "[encoded data removed]",
      "text/plain": [
       "<Figure size 432x288 with 1 Axes>"
      ]
     },
     "metadata": {
      "needs_background": "light"
     },
     "output_type": "display_data"
    }
   ],
   "source": [
    "x_val = south_df['Latitude']\n",
    "y_val = south_df['Max Temperature']\n",
    "\n",
    "plot_linear_regression(x_val, y_val, 'Max Temperature', (-50,85)) "
   ]
  },
  {
   "cell_type": "markdown",
   "metadata": {},
   "source": [
    "####  Northern Hemisphere - Humidity (%) vs. Latitude Linear Regression"
   ]
  },
  {
   "cell_type": "code",
   "execution_count": 29,
   "metadata": {},
   "outputs": [
    {
     "name": "stdout",
     "output_type": "stream",
     "text": [
      "The r-value is: 0.19150499579803168\n"
     ]
    },
    {
     "data": {
      "image/png": "[encoded data removed]",
      "text/plain": [
       "<Figure size 432x288 with 1 Axes>"
      ]
     },
     "metadata": {
      "needs_background": "light"
     },
     "output_type": "display_data"
    }
   ],
   "source": [
    "x_val = north_df['Latitude']\n",
    "y_val = north_df['Humidity']\n",
    "\n",
    "plot_linear_regression(x_val, y_val, 'Humidity (%)', (42,10)) "
   ]
  },
  {
   "cell_type": "markdown",
   "metadata": {},
   "source": [
    "####  Southern Hemisphere - Humidity (%) vs. Latitude Linear Regression"
   ]
  },
  {
   "cell_type": "code",
   "execution_count": 30,
   "metadata": {},
   "outputs": [
    {
     "name": "stdout",
     "output_type": "stream",
     "text": [
      "The r-value is: 0.1947702567974626\n"
     ]
    },
    {
     "data": {
      "image/png": "[encoded data removed]",
      "text/plain": [
       "<Figure size 432x288 with 1 Axes>"
      ]
     },
     "metadata": {
      "needs_background": "light"
     },
     "output_type": "display_data"
    }
   ],
   "source": [
    "x_val = south_df['Latitude']\n",
    "y_val = south_df['Humidity']\n",
    "\n",
    "plot_linear_regression(x_val, y_val, 'Humidity (%)', (-50,20)) "
   ]
  },
  {
   "cell_type": "markdown",
   "metadata": {},
   "source": [
    "####  Northern Hemisphere - Cloudiness (%) vs. Latitude Linear Regression"
   ]
  },
  {
   "cell_type": "code",
   "execution_count": 31,
   "metadata": {},
   "outputs": [
    {
     "name": "stdout",
     "output_type": "stream",
     "text": [
      "The r-value is: 0.08627827498940692\n"
     ]
    },
    {
     "data": {
      "image/png": "[encoded data removed]",
      "text/plain": [
       "<Figure size 432x288 with 1 Axes>"
      ]
     },
     "metadata": {
      "needs_background": "light"
     },
     "output_type": "display_data"
    }
   ],
   "source": [
    "x_val = north_df['Latitude']\n",
    "y_val = north_df['Cloudiness']\n",
    "\n",
    "plot_linear_regression(x_val, y_val, 'Cloudiness (%)', (10,45)) "
   ]
  },
  {
   "cell_type": "markdown",
   "metadata": {},
   "source": [
    "####  Southern Hemisphere - Cloudiness (%) vs. Latitude Linear Regression"
   ]
  },
  {
   "cell_type": "code",
   "execution_count": 32,
   "metadata": {},
   "outputs": [
    {
     "name": "stdout",
     "output_type": "stream",
     "text": [
      "The r-value is: 0.29149875664739033\n"
     ]
    },
    {
     "data": {
      "image/png": "[encoded data removed]",
      "text/plain": [
       "<Figure size 432x288 with 1 Axes>"
      ]
     },
     "metadata": {
      "needs_background": "light"
     },
     "output_type": "display_data"
    }
   ],
   "source": [
    "x_val = south_df['Latitude']\n",
    "y_val = south_df['Cloudiness']\n",
    "\n",
    "plot_linear_regression(x_val, y_val, 'Cloudiness (%)', (-50,20)) "
   ]
  },
  {
   "cell_type": "markdown",
   "metadata": {},
   "source": [
    "####  Northern Hemisphere - Wind Speed (mph) vs. Latitude Linear Regression"
   ]
  },
  {
   "cell_type": "code",
   "execution_count": 33,
   "metadata": {},
   "outputs": [
    {
     "name": "stdout",
     "output_type": "stream",
     "text": [
      "The r-value is: 0.014234256734481775\n"
     ]
    },
    {
     "data": {
      "image/png": "[encoded data removed]",
      "text/plain": [
       "<Figure size 432x288 with 1 Axes>"
      ]
     },
     "metadata": {
      "needs_background": "light"
     },
     "output_type": "display_data"
    }
   ],
   "source": [
    "x_val = north_df['Latitude']\n",
    "y_val = north_df['Wind Speed']\n",
    "\n",
    "plot_linear_regression(x_val, y_val, 'Wind Speed (mph)', (20,22)) "
   ]
  },
  {
   "cell_type": "markdown",
   "metadata": {},
   "source": [
    "####  Southern Hemisphere - Wind Speed (mph) vs. Latitude Linear Regression"
   ]
  },
  {
   "cell_type": "code",
   "execution_count": 34,
   "metadata": {},
   "outputs": [
    {
     "name": "stdout",
     "output_type": "stream",
     "text": [
      "The r-value is: 0.08490589763782222\n"
     ]
    },
    {
     "data": {
      "image/png": "[encoded data removed]",
      "text/plain": [
       "<Figure size 432x288 with 1 Axes>"
      ]
     },
     "metadata": {
      "needs_background": "light"
     },
     "output_type": "display_data"
    }
   ],
   "source": [
    "x_val = south_df['Latitude']\n",
    "y_val = south_df['Wind Speed']\n",
    "\n",
    "plot_linear_regression(x_val, y_val, 'Wind Speed (mph)', (-50,19)) "
   ]
  },
  {
   "cell_type": "code",
   "execution_count": null,
   "metadata": {},
   "outputs": [],
   "source": []
  },
  {
   "cell_type": "code",
   "execution_count": null,
   "metadata": {},
   "outputs": [],
   "source": []
  }
 ],
 "metadata": {
  "anaconda-cloud": {},
  "kernel_info": {
   "name": "python3"
  },
  "kernelspec": {
   "display_name": "Python 3",
   "language": "python",
   "name": "python3"
  },
  "language_info": {
   "codemirror_mode": {
    "name": "ipython",
    "version": 3
   },
   "file_extension": ".py",
   "mimetype": "text/x-python",
   "name": "python",
   "nbconvert_exporter": "python",
   "pygments_lexer": "ipython3",
   "version": "3.8.3"
  },
  "latex_envs": {
   "LaTeX_envs_menu_present": true,
   "autoclose": false,
   "autocomplete": true,
   "bibliofile": "biblio.bib",
   "cite_by": "apalike",
   "current_citInitial": 1,
   "eqLabelWithNumbers": true,
   "eqNumInitial": 1,
   "hotkeys": {
    "equation": "Ctrl-E",
    "itemize": "Ctrl-I"
   },
   "labels_anchors": false,
   "latex_user_defs": false,
   "report_style_numbering": false,
   "user_envs_cfg": false
  },
  "nteract": {
   "version": "0.12.3"
  }
 },
 "nbformat": 4,
 "nbformat_minor": 2
}
